{
 "cells": [
  {
   "cell_type": "code",
   "execution_count": 1,
   "metadata": {},
   "outputs": [],
   "source": [
    "import numpy as np\n",
    "import pandas as pd\n",
    "import matplotlib.pyplot as plt"
   ]
  },
  {
   "cell_type": "code",
   "execution_count": 2,
   "metadata": {},
   "outputs": [
    {
     "name": "stderr",
     "output_type": "stream",
     "text": [
      "c:\\users\\pearl\\miniconda3\\envs\\e350\\lib\\site-packages\\ipykernel_launcher.py:5: UserWarning: Pandas doesn't allow columns to be created via a new attribute name - see https://pandas.pydata.org/pandas-docs/stable/indexing.html#attribute-access\n",
      "  \"\"\"\n"
     ]
    },
    {
     "data": {
      "text/html": [
       "<div>\n",
       "<style scoped>\n",
       "    .dataframe tbody tr th:only-of-type {\n",
       "        vertical-align: middle;\n",
       "    }\n",
       "\n",
       "    .dataframe tbody tr th {\n",
       "        vertical-align: top;\n",
       "    }\n",
       "\n",
       "    .dataframe thead th {\n",
       "        text-align: right;\n",
       "    }\n",
       "</style>\n",
       "<table border=\"1\" class=\"dataframe\">\n",
       "  <thead>\n",
       "    <tr style=\"text-align: right;\">\n",
       "      <th></th>\n",
       "      <th>time</th>\n",
       "      <th>batV</th>\n",
       "      <th>waterT</th>\n",
       "      <th>airT</th>\n",
       "      <th>calibrate</th>\n",
       "    </tr>\n",
       "  </thead>\n",
       "  <tbody>\n",
       "    <tr>\n",
       "      <th>0</th>\n",
       "      <td>2020-01-31 11:44:43.1</td>\n",
       "      <td>13.17</td>\n",
       "      <td>23.11</td>\n",
       "      <td>23.96</td>\n",
       "      <td>0.03</td>\n",
       "    </tr>\n",
       "    <tr>\n",
       "      <th>1</th>\n",
       "      <td>2020-01-31 11:44:43.2</td>\n",
       "      <td>13.18</td>\n",
       "      <td>23.11</td>\n",
       "      <td>23.95</td>\n",
       "      <td>0.03</td>\n",
       "    </tr>\n",
       "    <tr>\n",
       "      <th>2</th>\n",
       "      <td>2020-01-31 11:44:43.3</td>\n",
       "      <td>13.17</td>\n",
       "      <td>23.12</td>\n",
       "      <td>23.97</td>\n",
       "      <td>0.03</td>\n",
       "    </tr>\n",
       "    <tr>\n",
       "      <th>3</th>\n",
       "      <td>2020-01-31 11:44:43.4</td>\n",
       "      <td>13.17</td>\n",
       "      <td>23.12</td>\n",
       "      <td>23.97</td>\n",
       "      <td>0.03</td>\n",
       "    </tr>\n",
       "    <tr>\n",
       "      <th>4</th>\n",
       "      <td>2020-01-31 11:44:43.5</td>\n",
       "      <td>13.17</td>\n",
       "      <td>23.11</td>\n",
       "      <td>23.96</td>\n",
       "      <td>0.03</td>\n",
       "    </tr>\n",
       "  </tbody>\n",
       "</table>\n",
       "</div>"
      ],
      "text/plain": [
       "                    time   batV  waterT   airT  calibrate\n",
       "0  2020-01-31 11:44:43.1  13.17   23.11  23.96       0.03\n",
       "1  2020-01-31 11:44:43.2  13.18   23.11  23.95       0.03\n",
       "2  2020-01-31 11:44:43.3  13.17   23.12  23.97       0.03\n",
       "3  2020-01-31 11:44:43.4  13.17   23.12  23.97       0.03\n",
       "4  2020-01-31 11:44:43.5  13.17   23.11  23.96       0.03"
      ]
     },
     "execution_count": 2,
     "metadata": {},
     "output_type": "execute_result"
    }
   ],
   "source": [
    "filename='lab_4_Ribberink_Deere_Macadam_Ng_Schmidt_Ayem_Lab4.csv'\n",
    "headers=['time','batV','waterT','airT','calibrate']\n",
    "dtypes = ['datetime', 'float','float','float','float']\n",
    "df = pd.read_csv(filename,names=headers, usecols = [0,2,3,4,5],header=3)\n",
    "df.purpleV=(df.calibrate/1000)\n",
    "df.head()"
   ]
  },
  {
   "cell_type": "code",
   "execution_count": 3,
   "metadata": {},
   "outputs": [],
   "source": [
    "df = df.set_index('time')\n",
    "df['Tdiff']=df['waterT']-df['airT']"
   ]
  },
  {
   "cell_type": "code",
   "execution_count": 4,
   "metadata": {},
   "outputs": [
    {
     "data": {
      "text/plain": [
       "<matplotlib.axes._subplots.AxesSubplot at 0x14bbded3400>"
      ]
     },
     "execution_count": 4,
     "metadata": {},
     "output_type": "execute_result"
    },
    {
     "data": {
      "image/png": "[encoded data removed]",
      "text/plain": [
       "<Figure size 432x288 with 1 Axes>"
      ]
     },
     "metadata": {
      "needs_background": "light"
     },
     "output_type": "display_data"
    }
   ],
   "source": [
    "df.plot()"
   ]
  },
  {
   "cell_type": "code",
   "execution_count": 5,
   "metadata": {},
   "outputs": [],
   "source": [
    "time_coldT = df['2020-01-31 11:55:30': '2020-01-31 11:58:30']\n",
    "time_roomT=df['2020-01-31 12:05:30': '2020-01-31 12:08:30']\n",
    "time_hotT=df['2020-01-31 12:11:30': '2020-01-31 12:14:30']"
   ]
  },
  {
   "cell_type": "code",
   "execution_count": null,
   "metadata": {},
   "outputs": [],
   "source": []
  }
 ],
 "metadata": {
  "kernelspec": {
   "display_name": "Python 3",
   "language": "python",
   "name": "python3"
  },
  "language_info": {
   "codemirror_mode": {
    "name": "ipython",
    "version": 3
   },
   "file_extension": ".py",
   "mimetype": "text/x-python",
   "name": "python",
   "nbconvert_exporter": "python",
   "pygments_lexer": "ipython3",
   "version": "3.7.3"
  }
 },
 "nbformat": 4,
 "nbformat_minor": 2
}
