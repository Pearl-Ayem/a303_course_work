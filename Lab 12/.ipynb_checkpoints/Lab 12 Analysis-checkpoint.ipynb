{
 "cells": [
  {
   "cell_type": "code",
   "execution_count": 1,
   "metadata": {},
   "outputs": [],
   "source": [
    "import numpy as np\n",
    "import pandas as pd\n",
    "import collections\n",
    "import matplotlib.pyplot as plt\n",
    "from scipy.stats import linregress\n",
    "import math\n",
    "from datetime import datetime\n",
    "import warnings\n",
    "warnings.filterwarnings('ignore')\n",
    "from numpy import trapz\n",
    "plt.style.use('seaborn-darkgrid')\n",
    "from scipy.signal import find_peaks\n"
   ]
  },
  {
   "cell_type": "code",
   "execution_count": 2,
   "metadata": {},
   "outputs": [
    {
     "data": {
      "text/html": [
       "<div>\n",
       "<style scoped>\n",
       "    .dataframe tbody tr th:only-of-type {\n",
       "        vertical-align: middle;\n",
       "    }\n",
       "\n",
       "    .dataframe tbody tr th {\n",
       "        vertical-align: top;\n",
       "    }\n",
       "\n",
       "    .dataframe thead th {\n",
       "        text-align: right;\n",
       "    }\n",
       "</style>\n",
       "<table border=\"1\" class=\"dataframe\">\n",
       "  <thead>\n",
       "    <tr style=\"text-align: right;\">\n",
       "      <th></th>\n",
       "      <th>time</th>\n",
       "      <th>press</th>\n",
       "      <th>height</th>\n",
       "      <th>tempC</th>\n",
       "      <th>tempD</th>\n",
       "      <th>rh</th>\n",
       "      <th>v</th>\n",
       "      <th>u</th>\n",
       "      <th>dd</th>\n",
       "      <th>ff_ms</th>\n",
       "      <th>ff_kmh</th>\n",
       "      <th>lonE</th>\n",
       "      <th>lonN</th>\n",
       "    </tr>\n",
       "  </thead>\n",
       "  <tbody>\n",
       "    <tr>\n",
       "      <th>0</th>\n",
       "      <td>6</td>\n",
       "      <td>99.77</td>\n",
       "      <td>105</td>\n",
       "      <td>4.95</td>\n",
       "      <td>-1.15</td>\n",
       "      <td>65</td>\n",
       "      <td>1.85</td>\n",
       "      <td>1.91</td>\n",
       "      <td>226</td>\n",
       "      <td>2.7</td>\n",
       "      <td>9.72</td>\n",
       "      <td>-123.24</td>\n",
       "      <td>49.25</td>\n",
       "    </tr>\n",
       "    <tr>\n",
       "      <th>1</th>\n",
       "      <td>8</td>\n",
       "      <td>99.72</td>\n",
       "      <td>109</td>\n",
       "      <td>5.05</td>\n",
       "      <td>-0.95</td>\n",
       "      <td>65</td>\n",
       "      <td>1.98</td>\n",
       "      <td>2.09</td>\n",
       "      <td>226</td>\n",
       "      <td>2.9</td>\n",
       "      <td>10.44</td>\n",
       "      <td>-123.24</td>\n",
       "      <td>49.25</td>\n",
       "    </tr>\n",
       "    <tr>\n",
       "      <th>2</th>\n",
       "      <td>10</td>\n",
       "      <td>99.68</td>\n",
       "      <td>113</td>\n",
       "      <td>5.05</td>\n",
       "      <td>-0.85</td>\n",
       "      <td>65</td>\n",
       "      <td>2.09</td>\n",
       "      <td>2.23</td>\n",
       "      <td>227</td>\n",
       "      <td>3.1</td>\n",
       "      <td>11.16</td>\n",
       "      <td>-123.24</td>\n",
       "      <td>49.25</td>\n",
       "    </tr>\n",
       "    <tr>\n",
       "      <th>3</th>\n",
       "      <td>12</td>\n",
       "      <td>99.63</td>\n",
       "      <td>116</td>\n",
       "      <td>5.05</td>\n",
       "      <td>-0.85</td>\n",
       "      <td>66</td>\n",
       "      <td>2.15</td>\n",
       "      <td>2.33</td>\n",
       "      <td>227</td>\n",
       "      <td>3.2</td>\n",
       "      <td>11.52</td>\n",
       "      <td>-123.24</td>\n",
       "      <td>49.25</td>\n",
       "    </tr>\n",
       "    <tr>\n",
       "      <th>4</th>\n",
       "      <td>14</td>\n",
       "      <td>99.57</td>\n",
       "      <td>121</td>\n",
       "      <td>5.05</td>\n",
       "      <td>-0.75</td>\n",
       "      <td>66</td>\n",
       "      <td>2.17</td>\n",
       "      <td>2.39</td>\n",
       "      <td>228</td>\n",
       "      <td>3.2</td>\n",
       "      <td>11.52</td>\n",
       "      <td>-123.24</td>\n",
       "      <td>49.25</td>\n",
       "    </tr>\n",
       "  </tbody>\n",
       "</table>\n",
       "</div>"
      ],
      "text/plain": [
       "   time  press  height  tempC  tempD  rh     v     u   dd  ff_ms  ff_kmh  \\\n",
       "0     6  99.77     105   4.95  -1.15  65  1.85  1.91  226    2.7    9.72   \n",
       "1     8  99.72     109   5.05  -0.95  65  1.98  2.09  226    2.9   10.44   \n",
       "2    10  99.68     113   5.05  -0.85  65  2.09  2.23  227    3.1   11.16   \n",
       "3    12  99.63     116   5.05  -0.85  66  2.15  2.33  227    3.2   11.52   \n",
       "4    14  99.57     121   5.05  -0.75  66  2.17  2.39  228    3.2   11.52   \n",
       "\n",
       "     lonE   lonN  \n",
       "0 -123.24  49.25  \n",
       "1 -123.24  49.25  \n",
       "2 -123.24  49.25  \n",
       "3 -123.24  49.25  \n",
       "4 -123.24  49.25  "
      ]
     },
     "execution_count": 2,
     "metadata": {},
     "output_type": "execute_result"
    }
   ],
   "source": [
    "titles=['time','press','height','tempC','tempD','rh','v','u','dd','ff_ms','ff_kmh','lonE','lonN']\n",
    "sounding11 = pd.read_excel('23March2011Sounding.xls',names=titles,header=3)\n",
    "sounding11['press']=sounding11['press']*0.1\n",
    "sounding11.head()"
   ]
  },
  {
   "cell_type": "code",
   "execution_count": 3,
   "metadata": {},
   "outputs": [
    {
     "data": {
      "image/png": "[encoded data removed]",
      "text/plain": [
       "<Figure size 432x288 with 1 Axes>"
      ]
     },
     "metadata": {
      "needs_background": "light"
     },
     "output_type": "display_data"
    }
   ],
   "source": [
    "plt.plot(sounding11['tempC'],sounding11['press'])\n",
    "plt.plot(sounding11['tempD'],sounding11['press'])\n",
    "\n",
    "x=sounding11['tempC']\n",
    "peaks, _ = find_peaks(x,width=10)\n",
    "plt.plot(x[peaks],sounding11['press'][peaks], \".\")\n",
    "\n",
    "y=sounding11['tempD']\n",
    "peaks, _ = find_peaks(y,width=10)\n",
    "plt.plot(y[peaks],sounding11['press'][peaks], \".\")\n",
    "\n",
    "plt.gca().invert_yaxis()\n"
   ]
  },
  {
   "cell_type": "code",
   "execution_count": null,
   "metadata": {},
   "outputs": [],
   "source": []
  }
 ],
 "metadata": {
  "kernelspec": {
   "display_name": "Python 3",
   "language": "python",
   "name": "python3"
  },
  "language_info": {
   "codemirror_mode": {
    "name": "ipython",
    "version": 3
   },
   "file_extension": ".py",
   "mimetype": "text/x-python",
   "name": "python",
   "nbconvert_exporter": "python",
   "pygments_lexer": "ipython3",
   "version": "3.7.3"
  }
 },
 "nbformat": 4,
 "nbformat_minor": 2
}
