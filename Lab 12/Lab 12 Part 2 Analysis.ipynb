{
 "cells": [
  {
   "cell_type": "code",
   "execution_count": 1,
   "metadata": {},
   "outputs": [],
   "source": [
    "import numpy as np\n",
    "import pandas as pd\n",
    "import collections\n",
    "import matplotlib.pyplot as plt\n",
    "from scipy.stats import linregress\n",
    "import math\n",
    "from datetime import datetime\n",
    "import warnings\n",
    "warnings.filterwarnings('ignore')\n",
    "from numpy import trapz\n",
    "plt.style.use('seaborn-darkgrid')\n",
    "from scipy.signal import find_peaks\n"
   ]
  },
  {
   "attachments": {},
   "cell_type": "markdown",
   "metadata": {},
   "source": [
    "### Data File Details\n",
    "\n",
    "|RowID\t|Row number\n",
    "|------|------|\n",
    "|time\t|Time since start of sounding (s)|\n",
    "|Pscl\t|-|\n",
    "|T\t|Temperature (K)|\n",
    "|RH\t|Relative humidity (%)|\n",
    "|v\t|v-component of wind (m/s)|\n",
    "|u\t|u-component of wind (m/s)|\n",
    "|Height|\tHeight ASL (m)|\n",
    "|P\t|Pressure (hPa)|\n",
    "|TD\t|Dewpoint temperature (K)|\n",
    "|MR\t|Mixing ratio (g/kg)|\n",
    "|DD\t|Wind direction (degrees)|\n",
    "|FF\t|Horizontal wind speed magnitude (m/s)|\n",
    "|AZ\t|Azimuth position (degrees)|\n",
    "|Range\t|-|\n",
    "|Lon\t|Longitude|\n",
    "|Lat\t|Latitude|\n",
    "|SpuKey\t|-|\n",
    "|UsrKey\t|-|\n",
    "|RadarH\t|-|"
   ]
  },
  {
   "cell_type": "code",
   "execution_count": 2,
   "metadata": {},
   "outputs": [
    {
     "data": {
      "text/html": [
       "<div>\n",
       "<style scoped>\n",
       "    .dataframe tbody tr th:only-of-type {\n",
       "        vertical-align: middle;\n",
       "    }\n",
       "\n",
       "    .dataframe tbody tr th {\n",
       "        vertical-align: top;\n",
       "    }\n",
       "\n",
       "    .dataframe thead th {\n",
       "        text-align: right;\n",
       "    }\n",
       "</style>\n",
       "<table border=\"1\" class=\"dataframe\">\n",
       "  <thead>\n",
       "    <tr style=\"text-align: right;\">\n",
       "      <th></th>\n",
       "      <th>time</th>\n",
       "      <th>temp</th>\n",
       "      <th>height</th>\n",
       "      <th>press</th>\n",
       "      <th>tempD</th>\n",
       "      <th>mr</th>\n",
       "      <th>dd</th>\n",
       "      <th>ff</th>\n",
       "    </tr>\n",
       "  </thead>\n",
       "  <tbody>\n",
       "    <tr>\n",
       "      <th>0</th>\n",
       "      <td>0</td>\n",
       "      <td>282.6</td>\n",
       "      <td>2</td>\n",
       "      <td>1016.1</td>\n",
       "      <td>277.4</td>\n",
       "      <td>5.09</td>\n",
       "      <td>88</td>\n",
       "      <td>2.1</td>\n",
       "    </tr>\n",
       "    <tr>\n",
       "      <th>1</th>\n",
       "      <td>2</td>\n",
       "      <td>282.6</td>\n",
       "      <td>13</td>\n",
       "      <td>1014.7</td>\n",
       "      <td>275.8</td>\n",
       "      <td>4.55</td>\n",
       "      <td>105</td>\n",
       "      <td>3.2</td>\n",
       "    </tr>\n",
       "    <tr>\n",
       "      <th>2</th>\n",
       "      <td>4</td>\n",
       "      <td>282.5</td>\n",
       "      <td>22</td>\n",
       "      <td>1013.6</td>\n",
       "      <td>275.5</td>\n",
       "      <td>4.46</td>\n",
       "      <td>108</td>\n",
       "      <td>3.8</td>\n",
       "    </tr>\n",
       "    <tr>\n",
       "      <th>3</th>\n",
       "      <td>6</td>\n",
       "      <td>282.2</td>\n",
       "      <td>33</td>\n",
       "      <td>1012.3</td>\n",
       "      <td>275.4</td>\n",
       "      <td>4.43</td>\n",
       "      <td>109</td>\n",
       "      <td>4.3</td>\n",
       "    </tr>\n",
       "    <tr>\n",
       "      <th>4</th>\n",
       "      <td>8</td>\n",
       "      <td>282.0</td>\n",
       "      <td>46</td>\n",
       "      <td>1010.8</td>\n",
       "      <td>275.4</td>\n",
       "      <td>4.42</td>\n",
       "      <td>110</td>\n",
       "      <td>4.7</td>\n",
       "    </tr>\n",
       "  </tbody>\n",
       "</table>\n",
       "</div>"
      ],
      "text/plain": [
       "   time   temp  height   press  tempD    mr   dd   ff\n",
       "0     0  282.6       2  1016.1  277.4  5.09   88  2.1\n",
       "1     2  282.6      13  1014.7  275.8  4.55  105  3.2\n",
       "2     4  282.5      22  1013.6  275.5  4.46  108  3.8\n",
       "3     6  282.2      33  1012.3  275.4  4.43  109  4.3\n",
       "4     8  282.0      46  1010.8  275.4  4.42  110  4.7"
      ]
     },
     "execution_count": 2,
     "metadata": {},
     "output_type": "execute_result"
    }
   ],
   "source": [
    "titles=['time','temp','height','press','tempD','mr','dd','ff']\n",
    "cols=[1,3,7,8,9,10,11,12]\n",
    "df = pd.read_excel('Sounding23Mar2017.xlsx',names=titles,usecols=cols,header=0)\n",
    "df.head()"
   ]
  },
  {
   "cell_type": "markdown",
   "metadata": {},
   "source": [
    "#### Plot the temperature and dewpoint profiles vs. pressure"
   ]
  },
  {
   "cell_type": "code",
   "execution_count": null,
   "metadata": {},
   "outputs": [],
   "source": [
    "plt.figure(figsize=(10,5))\n",
    "plt.plot(df.temp,df.press)\n",
    "plt.plot(df.tempD,df.press)"
   ]
  },
  {
   "cell_type": "markdown",
   "metadata": {},
   "source": [
    "#### Make a plot with the wind speed profile\n",
    "\n"
   ]
  },
  {
   "cell_type": "code",
   "execution_count": null,
   "metadata": {},
   "outputs": [],
   "source": [
    "plt.figure(figsize=(10,5))\n",
    "plt.plot(df.ff,df.press)"
   ]
  },
  {
   "cell_type": "markdown",
   "metadata": {},
   "source": [
    "#### Make a plot with the wind direction"
   ]
  },
  {
   "cell_type": "code",
   "execution_count": null,
   "metadata": {},
   "outputs": [],
   "source": [
    "plt.figure(figsize=(10,5))\n",
    "plt.plot(df.dd,df.press)"
   ]
  }
 ],
 "metadata": {
  "kernelspec": {
   "display_name": "Python 3",
   "language": "python",
   "name": "python3"
  },
  "language_info": {
   "codemirror_mode": {
    "name": "ipython",
    "version": 3
   },
   "file_extension": ".py",
   "mimetype": "text/x-python",
   "name": "python",
   "nbconvert_exporter": "python",
   "pygments_lexer": "ipython3",
   "version": "3.7.3"
  }
 },
 "nbformat": 4,
 "nbformat_minor": 2
}
