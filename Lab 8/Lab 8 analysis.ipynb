{
 "cells": [
  {
   "cell_type": "code",
   "execution_count": 1,
   "metadata": {},
   "outputs": [],
   "source": [
    "import numpy as np\n",
    "import pandas as pd\n",
    "import matplotlib.pyplot as plt\n",
    "from scipy.stats import linregress\n",
    "import math\n",
    "from datetime import datetime\n",
    "import warnings\n",
    "warnings.filterwarnings('ignore')\n",
    "from numpy import trapz\n",
    "plt.style.use('seaborn-darkgrid')"
   ]
  },
  {
   "cell_type": "markdown",
   "metadata": {},
   "source": [
    "#### Import Kestrel data and change year to 2015"
   ]
  },
  {
   "cell_type": "code",
   "execution_count": 2,
   "metadata": {
    "scrolled": true
   },
   "outputs": [],
   "source": [
    "dtypes=[datetime, float]\n",
    "kes15 = pd.read_excel('Kestrel_data2015.xlsx',names=['time','ws'],header=3)\n",
    "kes15['time']=kes15['time'].apply((lambda x: x.replace(year=2015)))\n",
    "\n",
    "\n",
    "start_date = pd.Timestamp(2015,3,11,12,30,0)\n",
    "end_date = pd.Timestamp(2015,3,11,13,5,0)\n",
    "mask1 = (kes15['time'] > start_date) & (kes15['time'] <= end_date)\n",
    "kes15_1 = kes15.loc[mask1]\n",
    "\n",
    "\n",
    "start_date = pd.Timestamp(2015,3,11,13,10,0)\n",
    "end_date = pd.Timestamp(2015,3,11,13,30,0)\n",
    "mask2=(kes15['time'] > start_date) & (kes15['time'] <= end_date)\n",
    "kes15_2 = kes15.loc[mask2]\n"
   ]
  },
  {
   "cell_type": "markdown",
   "metadata": {},
   "source": [
    "#### Import 2015 Pitot data "
   ]
  },
  {
   "cell_type": "code",
   "execution_count": 3,
   "metadata": {},
   "outputs": [],
   "source": [
    "pit15_1 = pd.read_csv('WindTunnelCalibration2015_test1.csv',header=0)\n",
    "pit15_1.columns = ['time','fan_rpm','air_temp','air_dens','press','ws']\n",
    "pit15_1['time']=pit15_1['time'].apply((lambda x: pd.to_datetime(x[-5:])))\n",
    "pit15_1['time']=pit15_1['time'].apply((lambda x: x.replace(year=2015)))\n",
    "pit15_1['time']=pit15_1['time'].apply((lambda x: x.replace(month=3)))\n",
    "pit15_1['time']=pit15_1['time'].apply((lambda x: x.replace(day=11)))"
   ]
  },
  {
   "cell_type": "code",
   "execution_count": 4,
   "metadata": {},
   "outputs": [
    {
     "data": {
      "text/html": [
       "<div>\n",
       "<style scoped>\n",
       "    .dataframe tbody tr th:only-of-type {\n",
       "        vertical-align: middle;\n",
       "    }\n",
       "\n",
       "    .dataframe tbody tr th {\n",
       "        vertical-align: top;\n",
       "    }\n",
       "\n",
       "    .dataframe thead th {\n",
       "        text-align: right;\n",
       "    }\n",
       "</style>\n",
       "<table border=\"1\" class=\"dataframe\">\n",
       "  <thead>\n",
       "    <tr style=\"text-align: right;\">\n",
       "      <th></th>\n",
       "      <th>time</th>\n",
       "      <th>fan_rpm</th>\n",
       "      <th>air_temp</th>\n",
       "      <th>air_dens</th>\n",
       "      <th>press</th>\n",
       "      <th>ws</th>\n",
       "    </tr>\n",
       "  </thead>\n",
       "  <tbody>\n",
       "    <tr>\n",
       "      <th>0</th>\n",
       "      <td>2015-03-11 13:10:00</td>\n",
       "      <td>100</td>\n",
       "      <td>17.1</td>\n",
       "      <td>1.2</td>\n",
       "      <td>20.0</td>\n",
       "      <td>2.6</td>\n",
       "    </tr>\n",
       "    <tr>\n",
       "      <th>1</th>\n",
       "      <td>2015-03-11 13:11:00</td>\n",
       "      <td>100</td>\n",
       "      <td>17.1</td>\n",
       "      <td>1.2</td>\n",
       "      <td>20.0</td>\n",
       "      <td>2.6</td>\n",
       "    </tr>\n",
       "    <tr>\n",
       "      <th>2</th>\n",
       "      <td>2015-03-11 13:14:00</td>\n",
       "      <td>150</td>\n",
       "      <td>17.2</td>\n",
       "      <td>1.2</td>\n",
       "      <td>45.0</td>\n",
       "      <td>3.8</td>\n",
       "    </tr>\n",
       "    <tr>\n",
       "      <th>3</th>\n",
       "      <td>2015-03-11 13:15:00</td>\n",
       "      <td>150</td>\n",
       "      <td>17.2</td>\n",
       "      <td>1.2</td>\n",
       "      <td>45.0</td>\n",
       "      <td>3.8</td>\n",
       "    </tr>\n",
       "    <tr>\n",
       "      <th>4</th>\n",
       "      <td>2015-03-11 13:17:00</td>\n",
       "      <td>280</td>\n",
       "      <td>17.1</td>\n",
       "      <td>1.2</td>\n",
       "      <td>NaN</td>\n",
       "      <td>NaN</td>\n",
       "    </tr>\n",
       "  </tbody>\n",
       "</table>\n",
       "</div>"
      ],
      "text/plain": [
       "                 time  fan_rpm  air_temp  air_dens  press   ws\n",
       "0 2015-03-11 13:10:00      100      17.1       1.2   20.0  2.6\n",
       "1 2015-03-11 13:11:00      100      17.1       1.2   20.0  2.6\n",
       "2 2015-03-11 13:14:00      150      17.2       1.2   45.0  3.8\n",
       "3 2015-03-11 13:15:00      150      17.2       1.2   45.0  3.8\n",
       "4 2015-03-11 13:17:00      280      17.1       1.2    NaN  NaN"
      ]
     },
     "execution_count": 4,
     "metadata": {},
     "output_type": "execute_result"
    }
   ],
   "source": [
    "pit15_2=pd.read_csv('WindTunnelCalibration2015_test2.csv',header=0)\n",
    "pit15_2.columns = ['time','fan_rpm','air_temp','air_dens','press','ws']\n",
    "pit15_2['time']=pit15_2['time'].apply((lambda x: pd.to_datetime(x[-5:])))\n",
    "pit15_2['time']=pit15_2['time'].apply((lambda x: x.replace(year=2015)))\n",
    "pit15_2['time']=pit15_2['time'].apply((lambda x: x.replace(month=3)))\n",
    "pit15_2['time']=pit15_2['time'].apply((lambda x: x.replace(day=11)))\n",
    "pit15_2.head()"
   ]
  },
  {
   "cell_type": "markdown",
   "metadata": {},
   "source": [
    "#### Import 2015 Sonic data "
   ]
  },
  {
   "cell_type": "code",
   "execution_count": 5,
   "metadata": {},
   "outputs": [],
   "source": [
    "son15 = pd.read_csv('2015_sonic_1230_start.txt', sep=\",\", header=None)\n",
    "son15.columns = ['gu','gv','gw','sound_speed','temp']\n",
    "N=len(son15)\n",
    "freq= 10   #Hz\n",
    "dt= str(1/freq)+'S'   #seconds \n",
    "start_time=pd.Timestamp(2015,3,11,12,30,0.0)\n",
    "time = pd.date_range(start = start_time,periods=N,freq=dt)\n",
    "son15.insert(0,'time',time,True)\n",
    "son15 = son15[son15.gu < 20]\n",
    "son15 = son15[son15.gv < 20]"
   ]
  },
  {
   "cell_type": "markdown",
   "metadata": {},
   "source": [
    "#### Convert Gill to Met"
   ]
  },
  {
   "cell_type": "code",
   "execution_count": 6,
   "metadata": {},
   "outputs": [],
   "source": [
    "def convert_gill_to_met(gu,gv,gw):\n",
    "    w = [x for x in gw]\n",
    "    u = [-x for x in gv]\n",
    "    v = [x for x in gu]\n",
    "    \n",
    "    return [u,v,w]\n",
    "\n",
    "\n",
    "def mean_horizontal_wind(u,v):\n",
    "    mean_winds=[]\n",
    "    for i in range(len(u)):\n",
    "        M = np.sqrt((u[i])**2 + (v[i])**2)\n",
    "        mean_winds.append(M)\n",
    "    return mean_winds"
   ]
  },
  {
   "cell_type": "code",
   "execution_count": 7,
   "metadata": {},
   "outputs": [
    {
     "data": {
      "text/html": [
       "<div>\n",
       "<style scoped>\n",
       "    .dataframe tbody tr th:only-of-type {\n",
       "        vertical-align: middle;\n",
       "    }\n",
       "\n",
       "    .dataframe tbody tr th {\n",
       "        vertical-align: top;\n",
       "    }\n",
       "\n",
       "    .dataframe thead th {\n",
       "        text-align: right;\n",
       "    }\n",
       "</style>\n",
       "<table border=\"1\" class=\"dataframe\">\n",
       "  <thead>\n",
       "    <tr style=\"text-align: right;\">\n",
       "      <th></th>\n",
       "      <th>time</th>\n",
       "      <th>u</th>\n",
       "      <th>v</th>\n",
       "      <th>w</th>\n",
       "      <th>mean_wind</th>\n",
       "      <th>gu</th>\n",
       "      <th>gv</th>\n",
       "      <th>gw</th>\n",
       "      <th>sound_speed</th>\n",
       "      <th>temp</th>\n",
       "    </tr>\n",
       "  </thead>\n",
       "  <tbody>\n",
       "    <tr>\n",
       "      <th>0</th>\n",
       "      <td>2015-03-11 12:30:00.000</td>\n",
       "      <td>2.10</td>\n",
       "      <td>-0.08</td>\n",
       "      <td>0.01</td>\n",
       "      <td>2.101523</td>\n",
       "      <td>-0.08</td>\n",
       "      <td>-2.10</td>\n",
       "      <td>0.01</td>\n",
       "      <td>343.95</td>\n",
       "      <td>20.56</td>\n",
       "    </tr>\n",
       "    <tr>\n",
       "      <th>1</th>\n",
       "      <td>2015-03-11 12:30:00.100</td>\n",
       "      <td>2.12</td>\n",
       "      <td>-0.09</td>\n",
       "      <td>0.01</td>\n",
       "      <td>2.121910</td>\n",
       "      <td>-0.09</td>\n",
       "      <td>-2.12</td>\n",
       "      <td>0.01</td>\n",
       "      <td>343.95</td>\n",
       "      <td>20.56</td>\n",
       "    </tr>\n",
       "    <tr>\n",
       "      <th>2</th>\n",
       "      <td>2015-03-11 12:30:00.200</td>\n",
       "      <td>2.12</td>\n",
       "      <td>-0.10</td>\n",
       "      <td>0.01</td>\n",
       "      <td>2.122357</td>\n",
       "      <td>-0.10</td>\n",
       "      <td>-2.12</td>\n",
       "      <td>0.01</td>\n",
       "      <td>343.96</td>\n",
       "      <td>20.57</td>\n",
       "    </tr>\n",
       "    <tr>\n",
       "      <th>3</th>\n",
       "      <td>2015-03-11 12:30:00.300</td>\n",
       "      <td>2.13</td>\n",
       "      <td>-0.12</td>\n",
       "      <td>0.01</td>\n",
       "      <td>2.133378</td>\n",
       "      <td>-0.12</td>\n",
       "      <td>-2.13</td>\n",
       "      <td>0.01</td>\n",
       "      <td>343.96</td>\n",
       "      <td>20.57</td>\n",
       "    </tr>\n",
       "    <tr>\n",
       "      <th>4</th>\n",
       "      <td>2015-03-11 12:30:00.400</td>\n",
       "      <td>2.14</td>\n",
       "      <td>-0.14</td>\n",
       "      <td>0.01</td>\n",
       "      <td>2.144575</td>\n",
       "      <td>-0.14</td>\n",
       "      <td>-2.14</td>\n",
       "      <td>0.01</td>\n",
       "      <td>343.97</td>\n",
       "      <td>20.59</td>\n",
       "    </tr>\n",
       "  </tbody>\n",
       "</table>\n",
       "</div>"
      ],
      "text/plain": [
       "                     time     u     v     w  mean_wind    gu    gv    gw  \\\n",
       "0 2015-03-11 12:30:00.000  2.10 -0.08  0.01   2.101523 -0.08 -2.10  0.01   \n",
       "1 2015-03-11 12:30:00.100  2.12 -0.09  0.01   2.121910 -0.09 -2.12  0.01   \n",
       "2 2015-03-11 12:30:00.200  2.12 -0.10  0.01   2.122357 -0.10 -2.12  0.01   \n",
       "3 2015-03-11 12:30:00.300  2.13 -0.12  0.01   2.133378 -0.12 -2.13  0.01   \n",
       "4 2015-03-11 12:30:00.400  2.14 -0.14  0.01   2.144575 -0.14 -2.14  0.01   \n",
       "\n",
       "   sound_speed   temp  \n",
       "0       343.95  20.56  \n",
       "1       343.95  20.56  \n",
       "2       343.96  20.57  \n",
       "3       343.96  20.57  \n",
       "4       343.97  20.59  "
      ]
     },
     "execution_count": 7,
     "metadata": {},
     "output_type": "execute_result"
    }
   ],
   "source": [
    "met_dirs15 = convert_gill_to_met(son15['gu'],son15['gv'],son15['gw'])\n",
    "u15=met_dirs15[0]\n",
    "v15=met_dirs15[1]\n",
    "w15=met_dirs15[2]\n",
    "M15 = mean_horizontal_wind(u15,v15)\n",
    "son15.insert(1,'u',u15,True)\n",
    "son15.insert(2,'v',v15,True)\n",
    "son15.insert(3,'w',w15,True)\n",
    "son15.insert(4,'mean_wind',M15,True)\n",
    "son15.head()"
   ]
  },
  {
   "cell_type": "code",
   "execution_count": 8,
   "metadata": {},
   "outputs": [],
   "source": [
    "start_date = pd.Timestamp(2015,3,11,12,30,0)\n",
    "end_date = pd.Timestamp(2015,3,11,13,5,0)\n",
    "mask1 = (son15['time'] > start_date) & (son15['time'] <= end_date)\n",
    "son15_1 = son15.loc[mask1]\n",
    "\n",
    "\n",
    "start_date = pd.Timestamp(2015,3,11,13,10,0)\n",
    "end_date = pd.Timestamp(2015,3,11,13,30,0)\n",
    "mask2=(son15['time'] > start_date) & (son15['time'] <= end_date)\n",
    "son15_2 = son15.loc[mask2]\n",
    "son15_2.sort_values('mean_wind',ascending=False)\n",
    "son15_2 = son15_2.drop(25527)\n",
    "son15_2 = son15_2.drop(34739)"
   ]
  },
  {
   "cell_type": "markdown",
   "metadata": {},
   "source": [
    "#### Plot wind trace for test 1 2015"
   ]
  },
  {
   "cell_type": "code",
   "execution_count": 9,
   "metadata": {},
   "outputs": [
    {
     "data": {
      "text/plain": [
       "Text(0.5,1,'Wind Speed Traces Test 1 2015')"
      ]
     },
     "execution_count": 9,
     "metadata": {},
     "output_type": "execute_result"
    },
    {
     "data": {
      "image/png": "[encoded data removed]",
      "text/plain": [
       "<Figure size 432x288 with 1 Axes>"
      ]
     },
     "metadata": {
      "needs_background": "light"
     },
     "output_type": "display_data"
    }
   ],
   "source": [
    "plt.plot(kes15_1['time'].dt.time,kes15_1['ws'])\n",
    "plt.plot(pit15_1['time'].dt.time,pit15_1['ws'])\n",
    "plt.plot(son15_1['time'].dt.time,son15_1['mean_wind'],linewidth =0.51)\n",
    "plt.legend(['kestrel','pitot','sonic'])\n",
    "plt.xticks(rotation=50)\n",
    "plt.grid()\n",
    "plt.ylabel('Wind Speed')\n",
    "plt.xlabel('Time')\n",
    "plt.title('Wind Speed Traces Test 1 2015')"
   ]
  },
  {
   "cell_type": "code",
   "execution_count": 10,
   "metadata": {},
   "outputs": [
    {
     "data": {
      "text/plain": [
       "Text(0.5,1,'Wind Speed Traces Test 2 2015')"
      ]
     },
     "execution_count": 10,
     "metadata": {},
     "output_type": "execute_result"
    },
    {
     "data": {
      "image/png": "[encoded data removed]",
      "text/plain": [
       "<Figure size 432x288 with 1 Axes>"
      ]
     },
     "metadata": {
      "needs_background": "light"
     },
     "output_type": "display_data"
    }
   ],
   "source": [
    "plt.plot(son15_2['time'].dt.time,son15_2['mean_wind'])\n",
    "plt.plot(kes15_2['time'].dt.time,kes15_2['ws'])\n",
    "plt.plot(pit15_2['time'].dt.time,pit15_2['ws'])\n",
    "plt.legend(['kestrel','pitot','sonic'])\n",
    "plt.xticks(rotation=50)\n",
    "plt.grid()\n",
    "plt.ylabel('Wind Speed')\n",
    "plt.xlabel('Time')\n",
    "plt.title('Wind Speed Traces Test 2 2015')"
   ]
  },
  {
   "cell_type": "code",
   "execution_count": 11,
   "metadata": {},
   "outputs": [
    {
     "data": {
      "text/plain": [
       "Int64Index([24000, 24600, 26400, 27000, 28200, 28800, 30000, 30600, 31200,\n",
       "            31800, 33000, 33600],\n",
       "           dtype='int64')"
      ]
     },
     "execution_count": 11,
     "metadata": {},
     "output_type": "execute_result"
    }
   ],
   "source": [
    "mask_times = son15.time.isin(pit15_2.time)\n",
    "son15_times = son15.loc[mask_times]\n",
    "all_indices = son15_times.index\n",
    "all_indices"
   ]
  },
  {
   "cell_type": "code",
   "execution_count": 12,
   "metadata": {},
   "outputs": [
    {
     "data": {
      "text/html": [
       "<div>\n",
       "<style scoped>\n",
       "    .dataframe tbody tr th:only-of-type {\n",
       "        vertical-align: middle;\n",
       "    }\n",
       "\n",
       "    .dataframe tbody tr th {\n",
       "        vertical-align: top;\n",
       "    }\n",
       "\n",
       "    .dataframe thead th {\n",
       "        text-align: right;\n",
       "    }\n",
       "</style>\n",
       "<table border=\"1\" class=\"dataframe\">\n",
       "  <thead>\n",
       "    <tr style=\"text-align: right;\">\n",
       "      <th></th>\n",
       "      <th>time</th>\n",
       "      <th>u</th>\n",
       "      <th>v</th>\n",
       "      <th>w</th>\n",
       "      <th>mean_wind</th>\n",
       "      <th>gu</th>\n",
       "      <th>gv</th>\n",
       "      <th>gw</th>\n",
       "      <th>sound_speed</th>\n",
       "      <th>temp</th>\n",
       "    </tr>\n",
       "  </thead>\n",
       "  <tbody>\n",
       "    <tr>\n",
       "      <th>24000</th>\n",
       "      <td>2015-03-11 13:10:00</td>\n",
       "      <td>0.16</td>\n",
       "      <td>-3.20</td>\n",
       "      <td>0.00</td>\n",
       "      <td>3.203998</td>\n",
       "      <td>-3.20</td>\n",
       "      <td>-0.16</td>\n",
       "      <td>0.00</td>\n",
       "      <td>343.33</td>\n",
       "      <td>19.49</td>\n",
       "    </tr>\n",
       "    <tr>\n",
       "      <th>24600</th>\n",
       "      <td>2015-03-11 13:11:00</td>\n",
       "      <td>0.17</td>\n",
       "      <td>-2.08</td>\n",
       "      <td>0.06</td>\n",
       "      <td>2.086936</td>\n",
       "      <td>-2.08</td>\n",
       "      <td>-0.17</td>\n",
       "      <td>0.06</td>\n",
       "      <td>343.45</td>\n",
       "      <td>19.70</td>\n",
       "    </tr>\n",
       "    <tr>\n",
       "      <th>26400</th>\n",
       "      <td>2015-03-11 13:14:00</td>\n",
       "      <td>0.08</td>\n",
       "      <td>-1.98</td>\n",
       "      <td>-0.03</td>\n",
       "      <td>1.981616</td>\n",
       "      <td>-1.98</td>\n",
       "      <td>-0.08</td>\n",
       "      <td>-0.03</td>\n",
       "      <td>343.51</td>\n",
       "      <td>19.80</td>\n",
       "    </tr>\n",
       "    <tr>\n",
       "      <th>27000</th>\n",
       "      <td>2015-03-11 13:15:00</td>\n",
       "      <td>0.12</td>\n",
       "      <td>-3.24</td>\n",
       "      <td>0.02</td>\n",
       "      <td>3.242221</td>\n",
       "      <td>-3.24</td>\n",
       "      <td>-0.12</td>\n",
       "      <td>0.02</td>\n",
       "      <td>343.50</td>\n",
       "      <td>19.78</td>\n",
       "    </tr>\n",
       "    <tr>\n",
       "      <th>28200</th>\n",
       "      <td>2015-03-11 13:17:00</td>\n",
       "      <td>0.62</td>\n",
       "      <td>-6.61</td>\n",
       "      <td>0.20</td>\n",
       "      <td>6.639013</td>\n",
       "      <td>-6.61</td>\n",
       "      <td>-0.62</td>\n",
       "      <td>0.20</td>\n",
       "      <td>343.28</td>\n",
       "      <td>19.42</td>\n",
       "    </tr>\n",
       "    <tr>\n",
       "      <th>28800</th>\n",
       "      <td>2015-03-11 13:18:00</td>\n",
       "      <td>0.15</td>\n",
       "      <td>-6.73</td>\n",
       "      <td>-0.03</td>\n",
       "      <td>6.731671</td>\n",
       "      <td>-6.73</td>\n",
       "      <td>-0.15</td>\n",
       "      <td>-0.03</td>\n",
       "      <td>343.12</td>\n",
       "      <td>19.14</td>\n",
       "    </tr>\n",
       "    <tr>\n",
       "      <th>30000</th>\n",
       "      <td>2015-03-11 13:20:00</td>\n",
       "      <td>0.32</td>\n",
       "      <td>-6.76</td>\n",
       "      <td>-0.07</td>\n",
       "      <td>6.767570</td>\n",
       "      <td>-6.76</td>\n",
       "      <td>-0.32</td>\n",
       "      <td>-0.07</td>\n",
       "      <td>342.89</td>\n",
       "      <td>18.76</td>\n",
       "    </tr>\n",
       "    <tr>\n",
       "      <th>30600</th>\n",
       "      <td>2015-03-11 13:21:00</td>\n",
       "      <td>0.91</td>\n",
       "      <td>-10.85</td>\n",
       "      <td>0.19</td>\n",
       "      <td>10.888094</td>\n",
       "      <td>-10.85</td>\n",
       "      <td>-0.91</td>\n",
       "      <td>0.19</td>\n",
       "      <td>343.11</td>\n",
       "      <td>19.12</td>\n",
       "    </tr>\n",
       "    <tr>\n",
       "      <th>31200</th>\n",
       "      <td>2015-03-11 13:22:00</td>\n",
       "      <td>-0.17</td>\n",
       "      <td>-10.00</td>\n",
       "      <td>-0.12</td>\n",
       "      <td>10.001445</td>\n",
       "      <td>-10.00</td>\n",
       "      <td>0.17</td>\n",
       "      <td>-0.12</td>\n",
       "      <td>343.07</td>\n",
       "      <td>19.05</td>\n",
       "    </tr>\n",
       "    <tr>\n",
       "      <th>31800</th>\n",
       "      <td>2015-03-11 13:23:00</td>\n",
       "      <td>0.77</td>\n",
       "      <td>-15.02</td>\n",
       "      <td>-0.53</td>\n",
       "      <td>15.039724</td>\n",
       "      <td>-15.02</td>\n",
       "      <td>-0.77</td>\n",
       "      <td>-0.53</td>\n",
       "      <td>342.73</td>\n",
       "      <td>18.48</td>\n",
       "    </tr>\n",
       "    <tr>\n",
       "      <th>33000</th>\n",
       "      <td>2015-03-11 13:25:00</td>\n",
       "      <td>1.39</td>\n",
       "      <td>-17.33</td>\n",
       "      <td>0.32</td>\n",
       "      <td>17.385655</td>\n",
       "      <td>-17.33</td>\n",
       "      <td>-1.39</td>\n",
       "      <td>0.32</td>\n",
       "      <td>343.19</td>\n",
       "      <td>19.26</td>\n",
       "    </tr>\n",
       "    <tr>\n",
       "      <th>33600</th>\n",
       "      <td>2015-03-11 13:26:00</td>\n",
       "      <td>0.69</td>\n",
       "      <td>-16.94</td>\n",
       "      <td>0.18</td>\n",
       "      <td>16.954047</td>\n",
       "      <td>-16.94</td>\n",
       "      <td>-0.69</td>\n",
       "      <td>0.18</td>\n",
       "      <td>342.99</td>\n",
       "      <td>18.93</td>\n",
       "    </tr>\n",
       "  </tbody>\n",
       "</table>\n",
       "</div>"
      ],
      "text/plain": [
       "                     time     u      v     w  mean_wind     gu    gv    gw  \\\n",
       "24000 2015-03-11 13:10:00  0.16  -3.20  0.00   3.203998  -3.20 -0.16  0.00   \n",
       "24600 2015-03-11 13:11:00  0.17  -2.08  0.06   2.086936  -2.08 -0.17  0.06   \n",
       "26400 2015-03-11 13:14:00  0.08  -1.98 -0.03   1.981616  -1.98 -0.08 -0.03   \n",
       "27000 2015-03-11 13:15:00  0.12  -3.24  0.02   3.242221  -3.24 -0.12  0.02   \n",
       "28200 2015-03-11 13:17:00  0.62  -6.61  0.20   6.639013  -6.61 -0.62  0.20   \n",
       "28800 2015-03-11 13:18:00  0.15  -6.73 -0.03   6.731671  -6.73 -0.15 -0.03   \n",
       "30000 2015-03-11 13:20:00  0.32  -6.76 -0.07   6.767570  -6.76 -0.32 -0.07   \n",
       "30600 2015-03-11 13:21:00  0.91 -10.85  0.19  10.888094 -10.85 -0.91  0.19   \n",
       "31200 2015-03-11 13:22:00 -0.17 -10.00 -0.12  10.001445 -10.00  0.17 -0.12   \n",
       "31800 2015-03-11 13:23:00  0.77 -15.02 -0.53  15.039724 -15.02 -0.77 -0.53   \n",
       "33000 2015-03-11 13:25:00  1.39 -17.33  0.32  17.385655 -17.33 -1.39  0.32   \n",
       "33600 2015-03-11 13:26:00  0.69 -16.94  0.18  16.954047 -16.94 -0.69  0.18   \n",
       "\n",
       "       sound_speed   temp  \n",
       "24000       343.33  19.49  \n",
       "24600       343.45  19.70  \n",
       "26400       343.51  19.80  \n",
       "27000       343.50  19.78  \n",
       "28200       343.28  19.42  \n",
       "28800       343.12  19.14  \n",
       "30000       342.89  18.76  \n",
       "30600       343.11  19.12  \n",
       "31200       343.07  19.05  \n",
       "31800       342.73  18.48  \n",
       "33000       343.19  19.26  \n",
       "33600       342.99  18.93  "
      ]
     },
     "execution_count": 12,
     "metadata": {},
     "output_type": "execute_result"
    }
   ],
   "source": [
    "son15_times"
   ]
  },
  {
   "cell_type": "code",
   "execution_count": 13,
   "metadata": {},
   "outputs": [],
   "source": [
    "son15_avg_2 = pd.DataFrame(columns=['u','v','w','mean_wind','gu','gv','gw','sound_speed','temp'])\n",
    "df0=pd.DataFrame(son15.iloc[all_indices[0]-10:all_indices[0]+10].mean())\n",
    "df1=pd.DataFrame(son15.iloc[all_indices[1]-10:all_indices[1]+10].mean())\n",
    "df2=pd.DataFrame(son15.iloc[all_indices[2]-10:all_indices[2]+10].mean())\n",
    "df3=pd.DataFrame(son15.iloc[all_indices[3]-10:all_indices[3]+10].mean())\n",
    "df4=pd.DataFrame(son15.iloc[all_indices[4]-10:all_indices[4]+10].mean())\n",
    "df5=pd.DataFrame(son15.iloc[all_indices[5]-10:all_indices[5]+10].mean())\n",
    "df6=pd.DataFrame(son15.iloc[all_indices[6]-10:all_indices[6]+10].mean())\n",
    "df7=pd.DataFrame(son15.iloc[all_indices[7]-10:all_indices[7]+10].mean())\n",
    "df8=pd.DataFrame(son15.iloc[all_indices[8]-10:all_indices[8]+10].mean())\n",
    "df9=pd.DataFrame(son15.iloc[all_indices[9]-10:all_indices[9]+10].mean())\n",
    "df10=pd.DataFrame(son15.iloc[all_indices[10]-10:all_indices[10]+10].mean())\n",
    "df11=pd.DataFrame(son15.iloc[all_indices[11]-10:all_indices[11]+10].mean())\n",
    "\n",
    "son15_avg_2=son15_avg_2.append(df0.T,ignore_index=True)\n",
    "son15_avg_2=son15_avg_2.append(df1.T,ignore_index=True)\n",
    "son15_avg_2=son15_avg_2.append(df2.T,ignore_index=True)\n",
    "son15_avg_2=son15_avg_2.append(df3.T,ignore_index=True)\n",
    "son15_avg_2=son15_avg_2.append(df4.T,ignore_index=True)\n",
    "son15_avg_2=son15_avg_2.append(df5.T,ignore_index=True)\n",
    "son15_avg_2=son15_avg_2.append(df6.T,ignore_index=True)\n",
    "son15_avg_2=son15_avg_2.append(df7.T,ignore_index=True)\n",
    "son15_avg_2=son15_avg_2.append(df8.T,ignore_index=True)\n",
    "son15_avg_2=son15_avg_2.append(df9.T,ignore_index=True)\n",
    "son15_avg_2=son15_avg_2.append(df10.T,ignore_index=True)\n",
    "son15_avg_2=son15_avg_2.append(df11.T,ignore_index=True)"
   ]
  },
  {
   "cell_type": "code",
   "execution_count": 14,
   "metadata": {},
   "outputs": [
    {
     "data": {
      "text/html": [
       "<div>\n",
       "<style scoped>\n",
       "    .dataframe tbody tr th:only-of-type {\n",
       "        vertical-align: middle;\n",
       "    }\n",
       "\n",
       "    .dataframe tbody tr th {\n",
       "        vertical-align: top;\n",
       "    }\n",
       "\n",
       "    .dataframe thead th {\n",
       "        text-align: right;\n",
       "    }\n",
       "</style>\n",
       "<table border=\"1\" class=\"dataframe\">\n",
       "  <thead>\n",
       "    <tr style=\"text-align: right;\">\n",
       "      <th></th>\n",
       "      <th>time</th>\n",
       "      <th>u</th>\n",
       "      <th>v</th>\n",
       "      <th>w</th>\n",
       "      <th>mean_wind</th>\n",
       "      <th>gu</th>\n",
       "      <th>gv</th>\n",
       "      <th>gw</th>\n",
       "      <th>sound_speed</th>\n",
       "      <th>temp</th>\n",
       "    </tr>\n",
       "  </thead>\n",
       "  <tbody>\n",
       "    <tr>\n",
       "      <th>0</th>\n",
       "      <td>2015-03-11 13:10:00</td>\n",
       "      <td>0.0650</td>\n",
       "      <td>-1.9760</td>\n",
       "      <td>0.0215</td>\n",
       "      <td>1.978171</td>\n",
       "      <td>-1.9760</td>\n",
       "      <td>-0.0650</td>\n",
       "      <td>0.0215</td>\n",
       "      <td>343.3875</td>\n",
       "      <td>19.5940</td>\n",
       "    </tr>\n",
       "    <tr>\n",
       "      <th>1</th>\n",
       "      <td>2015-03-11 13:11:00</td>\n",
       "      <td>0.0575</td>\n",
       "      <td>-1.9870</td>\n",
       "      <td>0.0160</td>\n",
       "      <td>1.989918</td>\n",
       "      <td>-1.9870</td>\n",
       "      <td>-0.0575</td>\n",
       "      <td>0.0160</td>\n",
       "      <td>343.3915</td>\n",
       "      <td>19.6015</td>\n",
       "    </tr>\n",
       "    <tr>\n",
       "      <th>2</th>\n",
       "      <td>2015-03-11 13:14:00</td>\n",
       "      <td>0.1285</td>\n",
       "      <td>-3.2680</td>\n",
       "      <td>0.0275</td>\n",
       "      <td>3.274362</td>\n",
       "      <td>-3.2680</td>\n",
       "      <td>-0.1285</td>\n",
       "      <td>0.0275</td>\n",
       "      <td>343.4375</td>\n",
       "      <td>19.6760</td>\n",
       "    </tr>\n",
       "    <tr>\n",
       "      <th>3</th>\n",
       "      <td>2015-03-11 13:15:00</td>\n",
       "      <td>0.1710</td>\n",
       "      <td>-3.2970</td>\n",
       "      <td>0.0330</td>\n",
       "      <td>3.304459</td>\n",
       "      <td>-3.2970</td>\n",
       "      <td>-0.1710</td>\n",
       "      <td>0.0330</td>\n",
       "      <td>343.4695</td>\n",
       "      <td>19.7315</td>\n",
       "    </tr>\n",
       "    <tr>\n",
       "      <th>4</th>\n",
       "      <td>2015-03-11 13:17:00</td>\n",
       "      <td>0.2265</td>\n",
       "      <td>-6.6820</td>\n",
       "      <td>0.0750</td>\n",
       "      <td>6.687755</td>\n",
       "      <td>-6.6820</td>\n",
       "      <td>-0.2265</td>\n",
       "      <td>0.0750</td>\n",
       "      <td>343.2245</td>\n",
       "      <td>19.3195</td>\n",
       "    </tr>\n",
       "    <tr>\n",
       "      <th>5</th>\n",
       "      <td>2015-03-11 13:18:00</td>\n",
       "      <td>0.2685</td>\n",
       "      <td>-6.7245</td>\n",
       "      <td>0.0880</td>\n",
       "      <td>6.732621</td>\n",
       "      <td>-6.7245</td>\n",
       "      <td>-0.2685</td>\n",
       "      <td>0.0880</td>\n",
       "      <td>343.0535</td>\n",
       "      <td>19.0275</td>\n",
       "    </tr>\n",
       "    <tr>\n",
       "      <th>6</th>\n",
       "      <td>2015-03-11 13:20:00</td>\n",
       "      <td>0.3825</td>\n",
       "      <td>-10.3345</td>\n",
       "      <td>0.1990</td>\n",
       "      <td>10.348166</td>\n",
       "      <td>-10.3345</td>\n",
       "      <td>-0.3825</td>\n",
       "      <td>0.1990</td>\n",
       "      <td>343.0230</td>\n",
       "      <td>18.9740</td>\n",
       "    </tr>\n",
       "    <tr>\n",
       "      <th>7</th>\n",
       "      <td>2015-03-11 13:21:00</td>\n",
       "      <td>0.3600</td>\n",
       "      <td>-10.3970</td>\n",
       "      <td>0.2325</td>\n",
       "      <td>10.412871</td>\n",
       "      <td>-10.3970</td>\n",
       "      <td>-0.3600</td>\n",
       "      <td>0.2325</td>\n",
       "      <td>343.0155</td>\n",
       "      <td>18.9630</td>\n",
       "    </tr>\n",
       "    <tr>\n",
       "      <th>8</th>\n",
       "      <td>2015-03-11 13:22:00</td>\n",
       "      <td>0.6030</td>\n",
       "      <td>-14.2320</td>\n",
       "      <td>0.3390</td>\n",
       "      <td>14.258851</td>\n",
       "      <td>-14.2320</td>\n",
       "      <td>-0.6030</td>\n",
       "      <td>0.3390</td>\n",
       "      <td>342.9230</td>\n",
       "      <td>18.8045</td>\n",
       "    </tr>\n",
       "    <tr>\n",
       "      <th>9</th>\n",
       "      <td>2015-03-11 13:23:00</td>\n",
       "      <td>0.2340</td>\n",
       "      <td>-13.8110</td>\n",
       "      <td>0.3815</td>\n",
       "      <td>13.827973</td>\n",
       "      <td>-13.8110</td>\n",
       "      <td>-0.2340</td>\n",
       "      <td>0.3815</td>\n",
       "      <td>343.0870</td>\n",
       "      <td>19.0855</td>\n",
       "    </tr>\n",
       "    <tr>\n",
       "      <th>10</th>\n",
       "      <td>2015-03-11 13:25:00</td>\n",
       "      <td>0.4855</td>\n",
       "      <td>-17.5150</td>\n",
       "      <td>0.4560</td>\n",
       "      <td>17.530477</td>\n",
       "      <td>-17.5150</td>\n",
       "      <td>-0.4855</td>\n",
       "      <td>0.4560</td>\n",
       "      <td>343.1945</td>\n",
       "      <td>19.2665</td>\n",
       "    </tr>\n",
       "    <tr>\n",
       "      <th>11</th>\n",
       "      <td>2015-03-11 13:26:00</td>\n",
       "      <td>0.4760</td>\n",
       "      <td>-12.4870</td>\n",
       "      <td>0.2615</td>\n",
       "      <td>12.510828</td>\n",
       "      <td>-12.4870</td>\n",
       "      <td>-0.4760</td>\n",
       "      <td>0.2615</td>\n",
       "      <td>342.7810</td>\n",
       "      <td>18.5640</td>\n",
       "    </tr>\n",
       "  </tbody>\n",
       "</table>\n",
       "</div>"
      ],
      "text/plain": [
       "                  time       u        v       w  mean_wind       gu      gv  \\\n",
       "0  2015-03-11 13:10:00  0.0650  -1.9760  0.0215   1.978171  -1.9760 -0.0650   \n",
       "1  2015-03-11 13:11:00  0.0575  -1.9870  0.0160   1.989918  -1.9870 -0.0575   \n",
       "2  2015-03-11 13:14:00  0.1285  -3.2680  0.0275   3.274362  -3.2680 -0.1285   \n",
       "3  2015-03-11 13:15:00  0.1710  -3.2970  0.0330   3.304459  -3.2970 -0.1710   \n",
       "4  2015-03-11 13:17:00  0.2265  -6.6820  0.0750   6.687755  -6.6820 -0.2265   \n",
       "5  2015-03-11 13:18:00  0.2685  -6.7245  0.0880   6.732621  -6.7245 -0.2685   \n",
       "6  2015-03-11 13:20:00  0.3825 -10.3345  0.1990  10.348166 -10.3345 -0.3825   \n",
       "7  2015-03-11 13:21:00  0.3600 -10.3970  0.2325  10.412871 -10.3970 -0.3600   \n",
       "8  2015-03-11 13:22:00  0.6030 -14.2320  0.3390  14.258851 -14.2320 -0.6030   \n",
       "9  2015-03-11 13:23:00  0.2340 -13.8110  0.3815  13.827973 -13.8110 -0.2340   \n",
       "10 2015-03-11 13:25:00  0.4855 -17.5150  0.4560  17.530477 -17.5150 -0.4855   \n",
       "11 2015-03-11 13:26:00  0.4760 -12.4870  0.2615  12.510828 -12.4870 -0.4760   \n",
       "\n",
       "        gw  sound_speed     temp  \n",
       "0   0.0215     343.3875  19.5940  \n",
       "1   0.0160     343.3915  19.6015  \n",
       "2   0.0275     343.4375  19.6760  \n",
       "3   0.0330     343.4695  19.7315  \n",
       "4   0.0750     343.2245  19.3195  \n",
       "5   0.0880     343.0535  19.0275  \n",
       "6   0.1990     343.0230  18.9740  \n",
       "7   0.2325     343.0155  18.9630  \n",
       "8   0.3390     342.9230  18.8045  \n",
       "9   0.3815     343.0870  19.0855  \n",
       "10  0.4560     343.1945  19.2665  \n",
       "11  0.2615     342.7810  18.5640  "
      ]
     },
     "execution_count": 14,
     "metadata": {},
     "output_type": "execute_result"
    }
   ],
   "source": [
    "time=pit15_2['time']\n",
    "son15_avg_2.insert(0,'time',time,True)\n",
    "son15_avg_2"
   ]
  },
  {
   "cell_type": "code",
   "execution_count": 15,
   "metadata": {},
   "outputs": [
    {
     "name": "stdout",
     "output_type": "stream",
     "text": [
      "Calibration Equation: Pitot Wind Speed = -3.2437 + 3.9527 * Sonic Wind Speed (Test 2)\n",
      "Bias = 0     0.408495\n",
      "1     0.396749\n",
      "2     0.097077\n",
      "3     0.066979\n",
      "4          NaN\n",
      "5          NaN\n",
      "6    -0.575708\n",
      "7    -0.558349\n",
      "8    -1.203820\n",
      "9    -0.772942\n",
      "10   -1.439064\n",
      "11    3.580584\n",
      "Name: mean_wind, dtype: float64\n"
     ]
    },
    {
     "data": {
      "image/png": "[encoded data removed]",
      "text/plain": [
       "<Figure size 432x288 with 1 Axes>"
      ]
     },
     "metadata": {
      "needs_background": "light"
     },
     "output_type": "display_data"
    }
   ],
   "source": [
    "# plt.style.use('seaborn-darkgrid')\n",
    "x=pit15_2['ws']\n",
    "y=son15_avg_2['mean_wind']\n",
    "\n",
    "mask = ~np.isnan(x) & ~np.isnan(y)\n",
    "stats = linregress(x[mask],y[mask])\n",
    "m = stats.slope\n",
    "b = stats.intercept \n",
    "\n",
    "# Change the default marker for the scatter from circles to x's\n",
    "# plt.scatter(x, y, marker='o',color='#003F72')\n",
    "plt.scatter(x, y, marker='o')\n",
    "# Set the linewidth on the regression line to 3px\n",
    "y2= [i*m+b for i in x]\n",
    "cor = np.corrcoef(x, y)\n",
    " \n",
    "plt.plot(x, y2, color=\"red\", linewidth=2)\n",
    "plt.xlabel('Pitot Wind Speed (m/s)',fontsize='14')\n",
    "plt.ylabel('Wind Speed (m/s)',fontsize='14')\n",
    "plt.title('Sonic Test 2 2015',fontsize='14')        \n",
    "s= 'Sonic Wind Speed= ' + str(round(m,4))+'x + '+str(round(b,4))\n",
    "plt.grid(True)\n",
    "plt.text(min(x),max(y2),s,fontsize='14')\n",
    "\n",
    "c1 = 1/b\n",
    "c0= (-1*m)/b\n",
    "\n",
    "cal_eqn = 'Calibration Equation: Pitot Wind Speed = ' + str(round(c0,4))+ ' + '+str(round(c1,4))+' * Sonic Wind Speed (Test 2)'\n",
    "print(cal_eqn)\n",
    "\n",
    "bias = y2 - y\n",
    "print('Bias = ' + str(bias))"
   ]
  },
  {
   "cell_type": "code",
   "execution_count": 16,
   "metadata": {},
   "outputs": [
    {
     "data": {
      "text/plain": [
       "Int64Index([9600, 10800, 13200, 13800, 15000, 15600, 16800, 17400, 18600,\n",
       "            19200, 19800],\n",
       "           dtype='int64')"
      ]
     },
     "execution_count": 16,
     "metadata": {},
     "output_type": "execute_result"
    }
   ],
   "source": [
    "mask_times = son15.time.isin(pit15_1.time)\n",
    "son15_times = son15.loc[mask_times]\n",
    "all_indices = son15_times.index\n",
    "all_indices"
   ]
  },
  {
   "cell_type": "code",
   "execution_count": 17,
   "metadata": {},
   "outputs": [
    {
     "data": {
      "text/plain": [
       "11"
      ]
     },
     "execution_count": 17,
     "metadata": {},
     "output_type": "execute_result"
    }
   ],
   "source": [
    "son15_times\n",
    "len(son15_times)"
   ]
  },
  {
   "cell_type": "code",
   "execution_count": 18,
   "metadata": {},
   "outputs": [],
   "source": [
    "son15_avg_1 = pd.DataFrame(columns=['u','v','w','mean_wind','gu','gv','gw','sound_speed','temp'])\n",
    "df0=pd.DataFrame(son15.iloc[all_indices[0]-10:all_indices[0]+10].mean())\n",
    "df1=pd.DataFrame(son15.iloc[all_indices[1]-10:all_indices[1]+10].mean())\n",
    "df2=pd.DataFrame(son15.iloc[all_indices[2]-10:all_indices[2]+10].mean())\n",
    "df3=pd.DataFrame(son15.iloc[all_indices[3]-10:all_indices[3]+10].mean())\n",
    "df4=pd.DataFrame(son15.iloc[all_indices[4]-10:all_indices[4]+10].mean())\n",
    "df5=pd.DataFrame(son15.iloc[all_indices[5]-10:all_indices[5]+10].mean())\n",
    "df6=pd.DataFrame(son15.iloc[all_indices[6]-10:all_indices[6]+10].mean())\n",
    "df7=pd.DataFrame(son15.iloc[all_indices[7]-10:all_indices[7]+10].mean())\n",
    "df8=pd.DataFrame(son15.iloc[all_indices[8]-10:all_indices[8]+10].mean())\n",
    "df9=pd.DataFrame(son15.iloc[all_indices[9]-10:all_indices[9]+10].mean())\n",
    "df10=pd.DataFrame(son15.iloc[all_indices[10]-10:all_indices[10]+10].mean())\n",
    "# df11=pd.DataFrame(son15.iloc[all_indices[11]-10:all_indices[11]+10].mean())\n",
    "\n",
    "son15_avg_1=son15_avg_1.append(df0.T,ignore_index=True)\n",
    "son15_avg_1=son15_avg_1.append(df1.T,ignore_index=True)\n",
    "son15_avg_1=son15_avg_1.append(df2.T,ignore_index=True)\n",
    "son15_avg_1=son15_avg_1.append(df3.T,ignore_index=True)\n",
    "son15_avg_1=son15_avg_1.append(df4.T,ignore_index=True)\n",
    "son15_avg_1=son15_avg_1.append(df5.T,ignore_index=True)\n",
    "son15_avg_1=son15_avg_1.append(df6.T,ignore_index=True)\n",
    "son15_avg_1=son15_avg_1.append(df7.T,ignore_index=True)\n",
    "son15_avg_1=son15_avg_1.append(df8.T,ignore_index=True)\n",
    "son15_avg_1=son15_avg_1.append(df9.T,ignore_index=True)\n",
    "son15_avg_1=son15_avg_1.append(df10.T,ignore_index=True)\n",
    "# son15_avg_1=son15_avg_1.append(df11.T,ignore_index=True)"
   ]
  },
  {
   "cell_type": "code",
   "execution_count": 19,
   "metadata": {},
   "outputs": [
    {
     "data": {
      "text/html": [
       "<div>\n",
       "<style scoped>\n",
       "    .dataframe tbody tr th:only-of-type {\n",
       "        vertical-align: middle;\n",
       "    }\n",
       "\n",
       "    .dataframe tbody tr th {\n",
       "        vertical-align: top;\n",
       "    }\n",
       "\n",
       "    .dataframe thead th {\n",
       "        text-align: right;\n",
       "    }\n",
       "</style>\n",
       "<table border=\"1\" class=\"dataframe\">\n",
       "  <thead>\n",
       "    <tr style=\"text-align: right;\">\n",
       "      <th></th>\n",
       "      <th>time</th>\n",
       "      <th>u</th>\n",
       "      <th>v</th>\n",
       "      <th>w</th>\n",
       "      <th>mean_wind</th>\n",
       "      <th>gu</th>\n",
       "      <th>gv</th>\n",
       "      <th>gw</th>\n",
       "      <th>sound_speed</th>\n",
       "      <th>temp</th>\n",
       "    </tr>\n",
       "  </thead>\n",
       "  <tbody>\n",
       "    <tr>\n",
       "      <th>0</th>\n",
       "      <td>2015-03-11 12:46:00</td>\n",
       "      <td>2.2085</td>\n",
       "      <td>0.0255</td>\n",
       "      <td>0.0180</td>\n",
       "      <td>2.208669</td>\n",
       "      <td>0.0255</td>\n",
       "      <td>-2.2085</td>\n",
       "      <td>0.0180</td>\n",
       "      <td>343.8440</td>\n",
       "      <td>20.3780</td>\n",
       "    </tr>\n",
       "    <tr>\n",
       "      <th>1</th>\n",
       "      <td>2015-03-11 12:48:00</td>\n",
       "      <td>2.2005</td>\n",
       "      <td>0.0210</td>\n",
       "      <td>0.0245</td>\n",
       "      <td>2.200621</td>\n",
       "      <td>0.0210</td>\n",
       "      <td>-2.2005</td>\n",
       "      <td>0.0245</td>\n",
       "      <td>343.7095</td>\n",
       "      <td>20.1450</td>\n",
       "    </tr>\n",
       "    <tr>\n",
       "      <th>2</th>\n",
       "      <td>2015-03-11 12:52:00</td>\n",
       "      <td>3.5765</td>\n",
       "      <td>0.0350</td>\n",
       "      <td>0.0245</td>\n",
       "      <td>3.576720</td>\n",
       "      <td>0.0350</td>\n",
       "      <td>-3.5765</td>\n",
       "      <td>0.0245</td>\n",
       "      <td>343.8520</td>\n",
       "      <td>20.3870</td>\n",
       "    </tr>\n",
       "    <tr>\n",
       "      <th>3</th>\n",
       "      <td>2015-03-11 12:53:00</td>\n",
       "      <td>3.5450</td>\n",
       "      <td>0.0410</td>\n",
       "      <td>0.0320</td>\n",
       "      <td>3.545275</td>\n",
       "      <td>0.0410</td>\n",
       "      <td>-3.5450</td>\n",
       "      <td>0.0320</td>\n",
       "      <td>343.7645</td>\n",
       "      <td>20.2365</td>\n",
       "    </tr>\n",
       "    <tr>\n",
       "      <th>4</th>\n",
       "      <td>2015-03-11 12:55:00</td>\n",
       "      <td>7.2655</td>\n",
       "      <td>0.1210</td>\n",
       "      <td>0.0450</td>\n",
       "      <td>7.266582</td>\n",
       "      <td>0.1210</td>\n",
       "      <td>-7.2655</td>\n",
       "      <td>0.0450</td>\n",
       "      <td>343.4450</td>\n",
       "      <td>19.6985</td>\n",
       "    </tr>\n",
       "    <tr>\n",
       "      <th>5</th>\n",
       "      <td>2015-03-11 12:56:00</td>\n",
       "      <td>7.2935</td>\n",
       "      <td>0.1180</td>\n",
       "      <td>0.0465</td>\n",
       "      <td>7.294502</td>\n",
       "      <td>0.1180</td>\n",
       "      <td>-7.2935</td>\n",
       "      <td>0.0465</td>\n",
       "      <td>343.5105</td>\n",
       "      <td>19.8115</td>\n",
       "    </tr>\n",
       "    <tr>\n",
       "      <th>6</th>\n",
       "      <td>2015-03-11 12:58:00</td>\n",
       "      <td>11.2535</td>\n",
       "      <td>0.2040</td>\n",
       "      <td>0.0950</td>\n",
       "      <td>11.255422</td>\n",
       "      <td>0.2040</td>\n",
       "      <td>-11.2535</td>\n",
       "      <td>0.0950</td>\n",
       "      <td>343.4240</td>\n",
       "      <td>19.6630</td>\n",
       "    </tr>\n",
       "    <tr>\n",
       "      <th>7</th>\n",
       "      <td>2015-03-11 12:59:00</td>\n",
       "      <td>11.2225</td>\n",
       "      <td>0.1840</td>\n",
       "      <td>0.0845</td>\n",
       "      <td>11.224060</td>\n",
       "      <td>0.1840</td>\n",
       "      <td>-11.2225</td>\n",
       "      <td>0.0845</td>\n",
       "      <td>343.3060</td>\n",
       "      <td>19.4625</td>\n",
       "    </tr>\n",
       "    <tr>\n",
       "      <th>8</th>\n",
       "      <td>2015-03-11 13:01:00</td>\n",
       "      <td>15.1225</td>\n",
       "      <td>0.2930</td>\n",
       "      <td>0.1715</td>\n",
       "      <td>15.125476</td>\n",
       "      <td>0.2930</td>\n",
       "      <td>-15.1225</td>\n",
       "      <td>0.1715</td>\n",
       "      <td>343.2710</td>\n",
       "      <td>19.3980</td>\n",
       "    </tr>\n",
       "    <tr>\n",
       "      <th>9</th>\n",
       "      <td>2015-03-11 13:02:00</td>\n",
       "      <td>15.1710</td>\n",
       "      <td>0.3235</td>\n",
       "      <td>0.1890</td>\n",
       "      <td>15.174596</td>\n",
       "      <td>0.3235</td>\n",
       "      <td>-15.1710</td>\n",
       "      <td>0.1890</td>\n",
       "      <td>343.2490</td>\n",
       "      <td>19.3575</td>\n",
       "    </tr>\n",
       "    <tr>\n",
       "      <th>10</th>\n",
       "      <td>2015-03-11 13:03:00</td>\n",
       "      <td>17.4680</td>\n",
       "      <td>0.3875</td>\n",
       "      <td>-0.3430</td>\n",
       "      <td>17.472406</td>\n",
       "      <td>0.3875</td>\n",
       "      <td>-17.4680</td>\n",
       "      <td>-0.3430</td>\n",
       "      <td>343.2620</td>\n",
       "      <td>19.3835</td>\n",
       "    </tr>\n",
       "  </tbody>\n",
       "</table>\n",
       "</div>"
      ],
      "text/plain": [
       "                  time        u       v       w  mean_wind      gu       gv  \\\n",
       "0  2015-03-11 12:46:00   2.2085  0.0255  0.0180   2.208669  0.0255  -2.2085   \n",
       "1  2015-03-11 12:48:00   2.2005  0.0210  0.0245   2.200621  0.0210  -2.2005   \n",
       "2  2015-03-11 12:52:00   3.5765  0.0350  0.0245   3.576720  0.0350  -3.5765   \n",
       "3  2015-03-11 12:53:00   3.5450  0.0410  0.0320   3.545275  0.0410  -3.5450   \n",
       "4  2015-03-11 12:55:00   7.2655  0.1210  0.0450   7.266582  0.1210  -7.2655   \n",
       "5  2015-03-11 12:56:00   7.2935  0.1180  0.0465   7.294502  0.1180  -7.2935   \n",
       "6  2015-03-11 12:58:00  11.2535  0.2040  0.0950  11.255422  0.2040 -11.2535   \n",
       "7  2015-03-11 12:59:00  11.2225  0.1840  0.0845  11.224060  0.1840 -11.2225   \n",
       "8  2015-03-11 13:01:00  15.1225  0.2930  0.1715  15.125476  0.2930 -15.1225   \n",
       "9  2015-03-11 13:02:00  15.1710  0.3235  0.1890  15.174596  0.3235 -15.1710   \n",
       "10 2015-03-11 13:03:00  17.4680  0.3875 -0.3430  17.472406  0.3875 -17.4680   \n",
       "\n",
       "        gw  sound_speed     temp  \n",
       "0   0.0180     343.8440  20.3780  \n",
       "1   0.0245     343.7095  20.1450  \n",
       "2   0.0245     343.8520  20.3870  \n",
       "3   0.0320     343.7645  20.2365  \n",
       "4   0.0450     343.4450  19.6985  \n",
       "5   0.0465     343.5105  19.8115  \n",
       "6   0.0950     343.4240  19.6630  \n",
       "7   0.0845     343.3060  19.4625  \n",
       "8   0.1715     343.2710  19.3980  \n",
       "9   0.1890     343.2490  19.3575  \n",
       "10 -0.3430     343.2620  19.3835  "
      ]
     },
     "execution_count": 19,
     "metadata": {},
     "output_type": "execute_result"
    }
   ],
   "source": [
    "time=pit15_1['time']\n",
    "son15_avg_1.insert(0,'time',time,True)\n",
    "son15_avg_1"
   ]
  },
  {
   "cell_type": "code",
   "execution_count": 20,
   "metadata": {},
   "outputs": [
    {
     "data": {
      "text/html": [
       "<div>\n",
       "<style scoped>\n",
       "    .dataframe tbody tr th:only-of-type {\n",
       "        vertical-align: middle;\n",
       "    }\n",
       "\n",
       "    .dataframe tbody tr th {\n",
       "        vertical-align: top;\n",
       "    }\n",
       "\n",
       "    .dataframe thead th {\n",
       "        text-align: right;\n",
       "    }\n",
       "</style>\n",
       "<table border=\"1\" class=\"dataframe\">\n",
       "  <thead>\n",
       "    <tr style=\"text-align: right;\">\n",
       "      <th></th>\n",
       "      <th>time</th>\n",
       "      <th>fan_rpm</th>\n",
       "      <th>air_temp</th>\n",
       "      <th>air_dens</th>\n",
       "      <th>press</th>\n",
       "      <th>ws</th>\n",
       "    </tr>\n",
       "  </thead>\n",
       "  <tbody>\n",
       "    <tr>\n",
       "      <th>0</th>\n",
       "      <td>2015-03-11 12:46:00</td>\n",
       "      <td>100</td>\n",
       "      <td>17.2</td>\n",
       "      <td>1.2</td>\n",
       "      <td>10</td>\n",
       "      <td>1.8</td>\n",
       "    </tr>\n",
       "    <tr>\n",
       "      <th>1</th>\n",
       "      <td>2015-03-11 12:48:00</td>\n",
       "      <td>100</td>\n",
       "      <td>17.3</td>\n",
       "      <td>1.2</td>\n",
       "      <td>15</td>\n",
       "      <td>2.2</td>\n",
       "    </tr>\n",
       "    <tr>\n",
       "      <th>2</th>\n",
       "      <td>2015-03-11 12:52:00</td>\n",
       "      <td>150</td>\n",
       "      <td>17.5</td>\n",
       "      <td>1.2</td>\n",
       "      <td>40</td>\n",
       "      <td>3.6</td>\n",
       "    </tr>\n",
       "    <tr>\n",
       "      <th>3</th>\n",
       "      <td>2015-03-11 12:53:00</td>\n",
       "      <td>150</td>\n",
       "      <td>17.4</td>\n",
       "      <td>1.2</td>\n",
       "      <td>40</td>\n",
       "      <td>3.6</td>\n",
       "    </tr>\n",
       "    <tr>\n",
       "      <th>4</th>\n",
       "      <td>2015-03-11 12:55:00</td>\n",
       "      <td>280</td>\n",
       "      <td>17.3</td>\n",
       "      <td>1.2</td>\n",
       "      <td>180</td>\n",
       "      <td>7.7</td>\n",
       "    </tr>\n",
       "    <tr>\n",
       "      <th>5</th>\n",
       "      <td>2015-03-11 12:56:00</td>\n",
       "      <td>280</td>\n",
       "      <td>17.4</td>\n",
       "      <td>1.2</td>\n",
       "      <td>175</td>\n",
       "      <td>7.6</td>\n",
       "    </tr>\n",
       "    <tr>\n",
       "      <th>6</th>\n",
       "      <td>2015-03-11 12:58:00</td>\n",
       "      <td>420</td>\n",
       "      <td>17.2</td>\n",
       "      <td>1.2</td>\n",
       "      <td>410</td>\n",
       "      <td>11.6</td>\n",
       "    </tr>\n",
       "    <tr>\n",
       "      <th>7</th>\n",
       "      <td>2015-03-11 12:59:00</td>\n",
       "      <td>420</td>\n",
       "      <td>17.2</td>\n",
       "      <td>1.2</td>\n",
       "      <td>420</td>\n",
       "      <td>11.8</td>\n",
       "    </tr>\n",
       "    <tr>\n",
       "      <th>8</th>\n",
       "      <td>2015-03-11 13:01:00</td>\n",
       "      <td>560</td>\n",
       "      <td>17.3</td>\n",
       "      <td>1.2</td>\n",
       "      <td>740</td>\n",
       "      <td>15.6</td>\n",
       "    </tr>\n",
       "    <tr>\n",
       "      <th>9</th>\n",
       "      <td>2015-03-11 13:02:00</td>\n",
       "      <td>560</td>\n",
       "      <td>17.0</td>\n",
       "      <td>1.2</td>\n",
       "      <td>760</td>\n",
       "      <td>15.8</td>\n",
       "    </tr>\n",
       "    <tr>\n",
       "      <th>10</th>\n",
       "      <td>2015-03-11 13:03:00</td>\n",
       "      <td>700</td>\n",
       "      <td>17.0</td>\n",
       "      <td>1.2</td>\n",
       "      <td>1140</td>\n",
       "      <td>19.4</td>\n",
       "    </tr>\n",
       "    <tr>\n",
       "      <th>11</th>\n",
       "      <td>2015-03-11 13:04:00</td>\n",
       "      <td>700</td>\n",
       "      <td>17.1</td>\n",
       "      <td>1.2</td>\n",
       "      <td>1145</td>\n",
       "      <td>19.4</td>\n",
       "    </tr>\n",
       "  </tbody>\n",
       "</table>\n",
       "</div>"
      ],
      "text/plain": [
       "                  time  fan_rpm  air_temp  air_dens  press    ws\n",
       "0  2015-03-11 12:46:00      100      17.2       1.2     10   1.8\n",
       "1  2015-03-11 12:48:00      100      17.3       1.2     15   2.2\n",
       "2  2015-03-11 12:52:00      150      17.5       1.2     40   3.6\n",
       "3  2015-03-11 12:53:00      150      17.4       1.2     40   3.6\n",
       "4  2015-03-11 12:55:00      280      17.3       1.2    180   7.7\n",
       "5  2015-03-11 12:56:00      280      17.4       1.2    175   7.6\n",
       "6  2015-03-11 12:58:00      420      17.2       1.2    410  11.6\n",
       "7  2015-03-11 12:59:00      420      17.2       1.2    420  11.8\n",
       "8  2015-03-11 13:01:00      560      17.3       1.2    740  15.6\n",
       "9  2015-03-11 13:02:00      560      17.0       1.2    760  15.8\n",
       "10 2015-03-11 13:03:00      700      17.0       1.2   1140  19.4\n",
       "11 2015-03-11 13:04:00      700      17.1       1.2   1145  19.4"
      ]
     },
     "execution_count": 20,
     "metadata": {},
     "output_type": "execute_result"
    }
   ],
   "source": [
    "pit15_1"
   ]
  },
  {
   "cell_type": "code",
   "execution_count": 21,
   "metadata": {},
   "outputs": [
    {
     "name": "stdout",
     "output_type": "stream",
     "text": [
      "Calibration Equation: Pitot Wind Speed = -2.5388 + 2.7677 * Sonic Wind Speed (Test 1)\n",
      "Bias = 0    -0.196258\n",
      "1     0.178702\n",
      "2     0.086792\n",
      "3     0.118237\n",
      "4     0.157770\n",
      "5     0.038123\n",
      "6    -0.253685\n",
      "7    -0.038867\n",
      "8    -0.454626\n",
      "9    -0.320290\n",
      "10    0.684102\n",
      "Name: mean_wind, dtype: float64\n"
     ]
    },
    {
     "data": {
      "image/png": "[encoded data removed]",
      "text/plain": [
       "<Figure size 432x288 with 1 Axes>"
      ]
     },
     "metadata": {
      "needs_background": "light"
     },
     "output_type": "display_data"
    }
   ],
   "source": [
    "# plt.style.use('seaborn-darkgrid')\n",
    "x=pit15_1.iloc[:11]['ws']\n",
    "y=son15_avg_1['mean_wind']\n",
    "\n",
    "mask = ~np.isnan(x) & ~np.isnan(y)\n",
    "stats = linregress(x[mask],y[mask])\n",
    "m = stats.slope\n",
    "b = stats.intercept \n",
    "\n",
    "# Change the default marker for the scatter from circles to x's\n",
    "# plt.scatter(x, y, marker='o',color='#003F72')\n",
    "plt.scatter(x, y, marker='o')\n",
    "# Set the linewidth on the regression line to 3px\n",
    "y2= [i*m+b for i in x]\n",
    "cor = np.corrcoef(x, y)\n",
    " \n",
    "plt.plot(x, y2, color=\"red\", linewidth=2)\n",
    "plt.xlabel('Pitot Wind Speed (m/s)',fontsize='14')\n",
    "plt.ylabel('Wind Speed (m/s)',fontsize='14')\n",
    "plt.title('Sonic Test 1 2015',fontsize='14')        \n",
    "s= 'Sonic Wind Speed= ' + str(round(m,4))+'x + '+str(round(b,4))\n",
    "plt.grid(True)\n",
    "plt.text(min(x),max(y2)-2,s,fontsize='14')\n",
    "\n",
    "\n",
    "c1 = 1/b\n",
    "c0= (-1*m)/b\n",
    "\n",
    "cal_eqn ='Calibration Equation: Pitot Wind Speed = ' + str(round(c0,4))+ ' + '+str(round(c1,4))+' * Sonic Wind Speed (Test 1)'\n",
    "print(cal_eqn)\n",
    "\n",
    "bias = y2 - y\n",
    "print('Bias = ' + str(bias))"
   ]
  },
  {
   "cell_type": "code",
   "execution_count": 22,
   "metadata": {},
   "outputs": [
    {
     "data": {
      "text/plain": [
       "Int64Index([31, 33, 37, 38, 40, 41, 43, 44, 46, 47, 48, 49], dtype='int64')"
      ]
     },
     "execution_count": 22,
     "metadata": {},
     "output_type": "execute_result"
    }
   ],
   "source": [
    "mask_times = kes15.time.isin(pit15_1.time)\n",
    "kes15_times = kes15.loc[mask_times]\n",
    "all_indices = kes15_times.index\n",
    "all_indices"
   ]
  },
  {
   "cell_type": "code",
   "execution_count": 23,
   "metadata": {},
   "outputs": [
    {
     "data": {
      "text/plain": [
       "12"
      ]
     },
     "execution_count": 23,
     "metadata": {},
     "output_type": "execute_result"
    }
   ],
   "source": [
    "kes15_times\n",
    "len(kes15_times)\n"
   ]
  },
  {
   "cell_type": "code",
   "execution_count": 24,
   "metadata": {},
   "outputs": [],
   "source": [
    "kes15_avg_1 = pd.DataFrame(columns=['ws'])\n",
    "df0=pd.DataFrame(kes15.iloc[all_indices[0]-10:all_indices[0]+10].mean())\n",
    "df1=pd.DataFrame(kes15.iloc[all_indices[1]-10:all_indices[1]+10].mean())\n",
    "df2=pd.DataFrame(kes15.iloc[all_indices[2]-10:all_indices[2]+10].mean())\n",
    "df3=pd.DataFrame(kes15.iloc[all_indices[3]-10:all_indices[3]+10].mean())\n",
    "df4=pd.DataFrame(kes15.iloc[all_indices[4]-10:all_indices[4]+10].mean())\n",
    "df5=pd.DataFrame(kes15.iloc[all_indices[5]-10:all_indices[5]+10].mean())\n",
    "df6=pd.DataFrame(kes15.iloc[all_indices[6]-10:all_indices[6]+10].mean())\n",
    "df7=pd.DataFrame(kes15.iloc[all_indices[7]-10:all_indices[7]+10].mean())\n",
    "df8=pd.DataFrame(kes15.iloc[all_indices[8]-10:all_indices[8]+10].mean())\n",
    "df9=pd.DataFrame(kes15.iloc[all_indices[9]-10:all_indices[9]+10].mean())\n",
    "df10=pd.DataFrame(kes15.iloc[all_indices[10]-10:all_indices[10]+10].mean())\n",
    "df11=pd.DataFrame(kes15.iloc[all_indices[11]-10:all_indices[11]+10].mean())\n",
    "\n",
    "kes15_avg_1=kes15_avg_1.append(df0.T,ignore_index=True)\n",
    "kes15_avg_1=kes15_avg_1.append(df1.T,ignore_index=True)\n",
    "kes15_avg_1=kes15_avg_1.append(df2.T,ignore_index=True)\n",
    "kes15_avg_1=kes15_avg_1.append(df3.T,ignore_index=True)\n",
    "kes15_avg_1=kes15_avg_1.append(df4.T,ignore_index=True)\n",
    "kes15_avg_1=kes15_avg_1.append(df5.T,ignore_index=True)\n",
    "kes15_avg_1=kes15_avg_1.append(df6.T,ignore_index=True)\n",
    "kes15_avg_1=kes15_avg_1.append(df7.T,ignore_index=True)\n",
    "kes15_avg_1=kes15_avg_1.append(df8.T,ignore_index=True)\n",
    "kes15_avg_1=kes15_avg_1.append(df9.T,ignore_index=True)\n",
    "kes15_avg_1=kes15_avg_1.append(df10.T,ignore_index=True)\n",
    "kes15_avg_1=kes15_avg_1.append(df11.T,ignore_index=True)"
   ]
  },
  {
   "cell_type": "code",
   "execution_count": 25,
   "metadata": {},
   "outputs": [
    {
     "data": {
      "text/html": [
       "<div>\n",
       "<style scoped>\n",
       "    .dataframe tbody tr th:only-of-type {\n",
       "        vertical-align: middle;\n",
       "    }\n",
       "\n",
       "    .dataframe tbody tr th {\n",
       "        vertical-align: top;\n",
       "    }\n",
       "\n",
       "    .dataframe thead th {\n",
       "        text-align: right;\n",
       "    }\n",
       "</style>\n",
       "<table border=\"1\" class=\"dataframe\">\n",
       "  <thead>\n",
       "    <tr style=\"text-align: right;\">\n",
       "      <th></th>\n",
       "      <th>time</th>\n",
       "      <th>ws</th>\n",
       "    </tr>\n",
       "  </thead>\n",
       "  <tbody>\n",
       "    <tr>\n",
       "      <th>0</th>\n",
       "      <td>2015-03-11 12:46:00</td>\n",
       "      <td>2.455</td>\n",
       "    </tr>\n",
       "    <tr>\n",
       "      <th>1</th>\n",
       "      <td>2015-03-11 12:48:00</td>\n",
       "      <td>2.935</td>\n",
       "    </tr>\n",
       "    <tr>\n",
       "      <th>2</th>\n",
       "      <td>2015-03-11 12:52:00</td>\n",
       "      <td>4.820</td>\n",
       "    </tr>\n",
       "    <tr>\n",
       "      <th>3</th>\n",
       "      <td>2015-03-11 12:53:00</td>\n",
       "      <td>5.430</td>\n",
       "    </tr>\n",
       "    <tr>\n",
       "      <th>4</th>\n",
       "      <td>2015-03-11 12:55:00</td>\n",
       "      <td>6.825</td>\n",
       "    </tr>\n",
       "    <tr>\n",
       "      <th>5</th>\n",
       "      <td>2015-03-11 12:56:00</td>\n",
       "      <td>7.610</td>\n",
       "    </tr>\n",
       "    <tr>\n",
       "      <th>6</th>\n",
       "      <td>2015-03-11 12:58:00</td>\n",
       "      <td>7.795</td>\n",
       "    </tr>\n",
       "    <tr>\n",
       "      <th>7</th>\n",
       "      <td>2015-03-11 12:59:00</td>\n",
       "      <td>7.870</td>\n",
       "    </tr>\n",
       "    <tr>\n",
       "      <th>8</th>\n",
       "      <td>2015-03-11 13:01:00</td>\n",
       "      <td>7.985</td>\n",
       "    </tr>\n",
       "    <tr>\n",
       "      <th>9</th>\n",
       "      <td>2015-03-11 13:02:00</td>\n",
       "      <td>8.030</td>\n",
       "    </tr>\n",
       "    <tr>\n",
       "      <th>10</th>\n",
       "      <td>2015-03-11 13:03:00</td>\n",
       "      <td>7.960</td>\n",
       "    </tr>\n",
       "    <tr>\n",
       "      <th>11</th>\n",
       "      <td>2015-03-11 13:04:00</td>\n",
       "      <td>7.890</td>\n",
       "    </tr>\n",
       "  </tbody>\n",
       "</table>\n",
       "</div>"
      ],
      "text/plain": [
       "                  time     ws\n",
       "0  2015-03-11 12:46:00  2.455\n",
       "1  2015-03-11 12:48:00  2.935\n",
       "2  2015-03-11 12:52:00  4.820\n",
       "3  2015-03-11 12:53:00  5.430\n",
       "4  2015-03-11 12:55:00  6.825\n",
       "5  2015-03-11 12:56:00  7.610\n",
       "6  2015-03-11 12:58:00  7.795\n",
       "7  2015-03-11 12:59:00  7.870\n",
       "8  2015-03-11 13:01:00  7.985\n",
       "9  2015-03-11 13:02:00  8.030\n",
       "10 2015-03-11 13:03:00  7.960\n",
       "11 2015-03-11 13:04:00  7.890"
      ]
     },
     "execution_count": 25,
     "metadata": {},
     "output_type": "execute_result"
    }
   ],
   "source": [
    "time=pit15_1['time']\n",
    "kes15_avg_1.insert(0,'time',time,True)\n",
    "kes15_avg_1"
   ]
  },
  {
   "cell_type": "code",
   "execution_count": 26,
   "metadata": {},
   "outputs": [
    {
     "name": "stdout",
     "output_type": "stream",
     "text": [
      "Calibration Equation: Pitot Wind Speed = -0.069 + 0.2614 * Kestrel Wind Speed (Test 1)\n",
      "Bias = 0     1.845372\n",
      "1     1.470958\n",
      "2    -0.044491\n",
      "3    -0.654491\n",
      "4    -0.967236\n",
      "5    -1.778632\n",
      "6    -0.907773\n",
      "7    -0.929980\n",
      "8    -0.041913\n",
      "9    -0.034120\n",
      "10    0.986153\n",
      "11    1.056153\n",
      "Name: ws, dtype: float64\n"
     ]
    },
    {
     "data": {
      "image/png": "[encoded data removed]",
      "text/plain": [
       "<Figure size 432x288 with 1 Axes>"
      ]
     },
     "metadata": {
      "needs_background": "light"
     },
     "output_type": "display_data"
    }
   ],
   "source": [
    "# plt.style.use('seaborn-darkgrid')\n",
    "x=pit15_1['ws']\n",
    "y=kes15_avg_1['ws']\n",
    "\n",
    "mask = ~np.isnan(x) & ~np.isnan(y)\n",
    "stats = linregress(x[mask],y[mask])\n",
    "m = stats.slope\n",
    "b = stats.intercept \n",
    "\n",
    "# Change the default marker for the scatter from circles to x's\n",
    "# plt.scatter(x, y, marker='o',color='#003F72')\n",
    "plt.scatter(x, y, marker='o')\n",
    "# Set the linewidth on the regression line to 3px\n",
    "y2= [i*m+b for i in x]\n",
    "cor = np.corrcoef(x, y)\n",
    " \n",
    "plt.plot(x, y2, color=\"red\", linewidth=2)\n",
    "plt.xlabel('Pitot Wind Speed (m/s)',fontsize='14')\n",
    "plt.ylabel('Wind Speed (m/s)',fontsize='14')\n",
    "plt.title('Kestrel Test 1 2015',fontsize='14')        \n",
    "s= 'Kestrel Wind Speed= ' + str(round(m,4))+'x + '+str(round(b,4))\n",
    "plt.grid(True)\n",
    "plt.text(min(x)+1,min(y)+1,s,fontsize='14')\n",
    "\n",
    "c1 = 1/b\n",
    "c0= (-1*m)/b\n",
    "\n",
    "cal_eqn ='Calibration Equation: Pitot Wind Speed = ' + str(round(c0,4))+ ' + '+str(round(c1,4))+' * Kestrel Wind Speed (Test 1)'\n",
    "print(cal_eqn)\n",
    "\n",
    "bias = y2 - y\n",
    "print('Bias = ' + str(bias))"
   ]
  },
  {
   "cell_type": "code",
   "execution_count": 27,
   "metadata": {},
   "outputs": [],
   "source": [
    "mask_times = kes15.time.isin(pit15_2.time)\n",
    "kes15_times = kes15.loc[mask_times]\n",
    "all_indices = kes15_times.index"
   ]
  },
  {
   "cell_type": "code",
   "execution_count": 28,
   "metadata": {},
   "outputs": [
    {
     "data": {
      "text/plain": [
       "12"
      ]
     },
     "execution_count": 28,
     "metadata": {},
     "output_type": "execute_result"
    }
   ],
   "source": [
    "kes15_times\n",
    "len(kes15_times)\n"
   ]
  },
  {
   "cell_type": "code",
   "execution_count": 29,
   "metadata": {},
   "outputs": [],
   "source": [
    "kes15_avg_2 = pd.DataFrame(columns=['ws'])\n",
    "df0=pd.DataFrame(kes15.iloc[all_indices[0]-10:all_indices[0]+10].mean())\n",
    "df1=pd.DataFrame(kes15.iloc[all_indices[1]-10:all_indices[1]+10].mean())\n",
    "df2=pd.DataFrame(kes15.iloc[all_indices[2]-10:all_indices[2]+10].mean())\n",
    "df3=pd.DataFrame(kes15.iloc[all_indices[3]-10:all_indices[3]+10].mean())\n",
    "df4=pd.DataFrame(kes15.iloc[all_indices[4]-10:all_indices[4]+10].mean())\n",
    "df5=pd.DataFrame(kes15.iloc[all_indices[5]-10:all_indices[5]+10].mean())\n",
    "df6=pd.DataFrame(kes15.iloc[all_indices[6]-10:all_indices[6]+10].mean())\n",
    "df7=pd.DataFrame(kes15.iloc[all_indices[7]-10:all_indices[7]+10].mean())\n",
    "df8=pd.DataFrame(kes15.iloc[all_indices[8]-10:all_indices[8]+10].mean())\n",
    "df9=pd.DataFrame(kes15.iloc[all_indices[9]-10:all_indices[9]+10].mean())\n",
    "df10=pd.DataFrame(kes15.iloc[all_indices[10]-10:all_indices[10]+10].mean())\n",
    "df11=pd.DataFrame(kes15.iloc[all_indices[11]-10:all_indices[11]+10].mean())\n",
    "\n",
    "kes15_avg_2=kes15_avg_2.append(df0.T,ignore_index=True)\n",
    "kes15_avg_2=kes15_avg_2.append(df1.T,ignore_index=True)\n",
    "kes15_avg_2=kes15_avg_2.append(df2.T,ignore_index=True)\n",
    "kes15_avg_2=kes15_avg_2.append(df3.T,ignore_index=True)\n",
    "kes15_avg_2=kes15_avg_2.append(df4.T,ignore_index=True)\n",
    "kes15_avg_2=kes15_avg_2.append(df5.T,ignore_index=True)\n",
    "kes15_avg_2=kes15_avg_2.append(df6.T,ignore_index=True)\n",
    "kes15_avg_2=kes15_avg_2.append(df7.T,ignore_index=True)\n",
    "kes15_avg_2=kes15_avg_2.append(df8.T,ignore_index=True)\n",
    "kes15_avg_2=kes15_avg_2.append(df9.T,ignore_index=True)\n",
    "kes15_avg_2=kes15_avg_2.append(df10.T,ignore_index=True)\n",
    "kes15_avg_2=kes15_avg_2.append(df11.T,ignore_index=True)"
   ]
  },
  {
   "cell_type": "code",
   "execution_count": 30,
   "metadata": {},
   "outputs": [
    {
     "data": {
      "text/html": [
       "<div>\n",
       "<style scoped>\n",
       "    .dataframe tbody tr th:only-of-type {\n",
       "        vertical-align: middle;\n",
       "    }\n",
       "\n",
       "    .dataframe tbody tr th {\n",
       "        vertical-align: top;\n",
       "    }\n",
       "\n",
       "    .dataframe thead th {\n",
       "        text-align: right;\n",
       "    }\n",
       "</style>\n",
       "<table border=\"1\" class=\"dataframe\">\n",
       "  <thead>\n",
       "    <tr style=\"text-align: right;\">\n",
       "      <th></th>\n",
       "      <th>time</th>\n",
       "      <th>ws</th>\n",
       "    </tr>\n",
       "  </thead>\n",
       "  <tbody>\n",
       "    <tr>\n",
       "      <th>0</th>\n",
       "      <td>2015-03-11 13:10:00</td>\n",
       "      <td>6.990000</td>\n",
       "    </tr>\n",
       "    <tr>\n",
       "      <th>1</th>\n",
       "      <td>2015-03-11 13:11:00</td>\n",
       "      <td>6.980000</td>\n",
       "    </tr>\n",
       "    <tr>\n",
       "      <th>2</th>\n",
       "      <td>2015-03-11 13:14:00</td>\n",
       "      <td>6.730000</td>\n",
       "    </tr>\n",
       "    <tr>\n",
       "      <th>3</th>\n",
       "      <td>2015-03-11 13:15:00</td>\n",
       "      <td>6.530000</td>\n",
       "    </tr>\n",
       "    <tr>\n",
       "      <th>4</th>\n",
       "      <td>2015-03-11 13:17:00</td>\n",
       "      <td>7.140000</td>\n",
       "    </tr>\n",
       "    <tr>\n",
       "      <th>5</th>\n",
       "      <td>2015-03-11 13:18:00</td>\n",
       "      <td>7.820000</td>\n",
       "    </tr>\n",
       "    <tr>\n",
       "      <th>6</th>\n",
       "      <td>2015-03-11 13:20:00</td>\n",
       "      <td>8.430000</td>\n",
       "    </tr>\n",
       "    <tr>\n",
       "      <th>7</th>\n",
       "      <td>2015-03-11 13:21:00</td>\n",
       "      <td>8.715789</td>\n",
       "    </tr>\n",
       "    <tr>\n",
       "      <th>8</th>\n",
       "      <td>2015-03-11 13:22:00</td>\n",
       "      <td>9.038889</td>\n",
       "    </tr>\n",
       "    <tr>\n",
       "      <th>9</th>\n",
       "      <td>2015-03-11 13:23:00</td>\n",
       "      <td>9.452941</td>\n",
       "    </tr>\n",
       "    <tr>\n",
       "      <th>10</th>\n",
       "      <td>2015-03-11 13:25:00</td>\n",
       "      <td>10.360000</td>\n",
       "    </tr>\n",
       "    <tr>\n",
       "      <th>11</th>\n",
       "      <td>2015-03-11 13:26:00</td>\n",
       "      <td>10.864286</td>\n",
       "    </tr>\n",
       "  </tbody>\n",
       "</table>\n",
       "</div>"
      ],
      "text/plain": [
       "                  time         ws\n",
       "0  2015-03-11 13:10:00   6.990000\n",
       "1  2015-03-11 13:11:00   6.980000\n",
       "2  2015-03-11 13:14:00   6.730000\n",
       "3  2015-03-11 13:15:00   6.530000\n",
       "4  2015-03-11 13:17:00   7.140000\n",
       "5  2015-03-11 13:18:00   7.820000\n",
       "6  2015-03-11 13:20:00   8.430000\n",
       "7  2015-03-11 13:21:00   8.715789\n",
       "8  2015-03-11 13:22:00   9.038889\n",
       "9  2015-03-11 13:23:00   9.452941\n",
       "10 2015-03-11 13:25:00  10.360000\n",
       "11 2015-03-11 13:26:00  10.864286"
      ]
     },
     "execution_count": 30,
     "metadata": {},
     "output_type": "execute_result"
    }
   ],
   "source": [
    "time=pit15_2['time']\n",
    "kes15_avg_2.insert(0,'time',time,True)\n",
    "kes15_avg_2"
   ]
  },
  {
   "cell_type": "code",
   "execution_count": 31,
   "metadata": {},
   "outputs": [
    {
     "name": "stdout",
     "output_type": "stream",
     "text": [
      "Calibration Equation: Pitot Wind Speed = -0.0366 + 0.165 * Kestrel Wind Speed (Test 2)\n",
      "Bias = 0    -0.352656\n",
      "1    -0.342656\n",
      "2     0.173453\n",
      "3     0.373453\n",
      "4          NaN\n",
      "5          NaN\n",
      "6     0.203166\n",
      "7    -0.060447\n",
      "8     0.481310\n",
      "9     0.067257\n",
      "10   -0.019297\n",
      "11   -0.523582\n",
      "Name: ws, dtype: float64\n"
     ]
    },
    {
     "data": {
      "image/png": "[encoded data removed]",
      "text/plain": [
       "<Figure size 432x288 with 1 Axes>"
      ]
     },
     "metadata": {
      "needs_background": "light"
     },
     "output_type": "display_data"
    }
   ],
   "source": [
    "x=pit15_2['ws']\n",
    "y=kes15_avg_2['ws']\n",
    "\n",
    "mask = ~np.isnan(x) & ~np.isnan(y)\n",
    "stats = linregress(x[mask],y[mask])\n",
    "m = stats.slope\n",
    "b = stats.intercept \n",
    "\n",
    "# Change the default marker for the scatter from circles to x's\n",
    "# plt.scatter(x, y, marker='o',color='#003F72')\n",
    "plt.scatter(x, y, marker='o')\n",
    "# Set the linewidth on the regression line to 3px\n",
    "y2= [i*m+b for i in x]\n",
    "cor = np.corrcoef(x, y)\n",
    " \n",
    "plt.plot(x, y2, color=\"red\", linewidth=2)\n",
    "plt.xlabel('Pitot Wind Speed (m/s)',fontsize='14')\n",
    "plt.ylabel('Wind Speed (m/s)',fontsize='14')\n",
    "plt.title('Kestrel Test 2 2015',fontsize='14')        \n",
    "s= 'Kestrel Wind Speed= ' + str(round(m,4))+'x + '+str(round(b,4))\n",
    "plt.grid(True)\n",
    "plt.text(min(x),max(y)-0.7,s,fontsize='14')\n",
    "\n",
    "c1 = 1/b\n",
    "c0= (-1*m)/b\n",
    "\n",
    "cal_eqn ='Calibration Equation: Pitot Wind Speed = ' + str(round(c0,4))+ ' + '+str(round(c1,4))+' * Kestrel Wind Speed (Test 2)'\n",
    "print(cal_eqn)\n",
    "bias = y2 - y\n",
    "print('Bias = ' + str(bias))"
   ]
  },
  {
   "cell_type": "code",
   "execution_count": 32,
   "metadata": {},
   "outputs": [
    {
     "data": {
      "text/plain": [
       "Text(0.5,1,'Recomputed Pitot Wind Speeds')"
      ]
     },
     "execution_count": 32,
     "metadata": {},
     "output_type": "execute_result"
    },
    {
     "data": {
      "image/png": "[encoded data removed]",
      "text/plain": [
       "<Figure size 432x288 with 1 Axes>"
      ]
     },
     "metadata": {
      "needs_background": "light"
     },
     "output_type": "display_data"
    }
   ],
   "source": [
    "def pitot_speed(density,pressure):\n",
    "    return np.sqrt(2*pressure/density)\n",
    "\n",
    "predicted_speeds_1=[]\n",
    "for label,x in pit15_1.iterrows():\n",
    "    predicted_speeds_1.append(pitot_speed(x.air_dens,x.press))\n",
    "    \n",
    "predicted_speeds_1\n",
    "\n",
    "predicted_speeds_2=[]\n",
    "for label,x in pit15_2.iterrows():\n",
    "    predicted_speeds_2.append(pitot_speed(x.air_dens,x.press))\n",
    "    \n",
    "plt.plot(predicted_speeds_1,c='r')\n",
    "plt.plot(predicted_speeds_2,c='k')\n",
    "plt.plot(pit15_1['ws'],'r--')\n",
    "plt.plot(pit15_2['ws'],'k--')\n",
    "plt.legend(['Predicted Test 1','Predicted Test 2','Measured Test 1','Measured Test 2'])\n",
    "plt.ylabel('Wind Speed (m/s)',fontsize='14')\n",
    "plt.title('Recomputed Pitot Wind Speeds',fontsize='14')  \n"
   ]
  },
  {
   "cell_type": "markdown",
   "metadata": {},
   "source": [
    "#### Sonic 1 min average average"
   ]
  },
  {
   "cell_type": "code",
   "execution_count": 33,
   "metadata": {},
   "outputs": [],
   "source": [
    "# son15_1.index = pd.DatetimeIndex(son15_1.time)\n",
    "# avg_time = '60S'\n",
    "# u = (son15_1['u'].resample(avg_time).mean())\n",
    "# v = (son15_1['v'].resample(avg_time).mean())\n",
    "# w = (son15_1['w'].resample(avg_time).mean())\n",
    "# mean_wind = (son15_1['mean_wind'].resample(avg_time).mean())\n",
    "# gu = (son15_1['gu'].resample(avg_time).mean())\n",
    "# gv = (son15_1['gv'].resample(avg_time).mean())\n",
    "# gw = (son15_1['gw'].resample(avg_time).mean())\n",
    "# sound_speed = (son15_1['sound_speed'].resample(avg_time).mean())\n",
    "# temp = (son15_1['temp'].resample(avg_time).mean())\n",
    "# data = {'u':u,\n",
    "#         'v':v,\n",
    "#         'w':w,\n",
    "#         'mean_wind':mean_wind,\n",
    "#         'gu':gu, \n",
    "#         'gv':gv,\n",
    "#         'gw':gw,\n",
    "#         'sound_speed':sound_speed,\n",
    "#         'temp':temp} \n",
    "# son15_1_avg=pd.DataFrame(data)\n",
    "# son15_1_avg.head()"
   ]
  },
  {
   "cell_type": "code",
   "execution_count": 34,
   "metadata": {},
   "outputs": [],
   "source": [
    "# son15_2.index = pd.DatetimeIndex(son15_2.time)\n",
    "# avg_time = '60S'\n",
    "# u = (son15_2['u'].resample(avg_time).mean())\n",
    "# v = (son15_2['v'].resample(avg_time).mean())\n",
    "# w = (son15_2['w'].resample(avg_time).mean())\n",
    "# mean_wind = (son15_2['mean_wind'].resample(avg_time).mean())\n",
    "# gu = (son15_2['gu'].resample(avg_time).mean())\n",
    "# gv = (son15_2['gv'].resample(avg_time).mean())\n",
    "# gw = (son15_2['gw'].resample(avg_time).mean())\n",
    "# sound_speed = (son15_2['sound_speed'].resample(avg_time).mean())\n",
    "# temp = (son15_2['temp'].resample(avg_time).mean())\n",
    "# data = {'u':u,\n",
    "#         'v':v,\n",
    "#         'w':w,\n",
    "#         'mean_wind':mean_wind,\n",
    "#         'gu':gu, \n",
    "#         'gv':gv,\n",
    "#         'gw':gw,\n",
    "#         'sound_speed':sound_speed,\n",
    "#         'temp':temp} \n",
    "# son15_2_avg=pd.DataFrame(data)\n",
    "# son15_2_avg.head()"
   ]
  },
  {
   "cell_type": "code",
   "execution_count": null,
   "metadata": {},
   "outputs": [],
   "source": []
  },
  {
   "cell_type": "code",
   "execution_count": null,
   "metadata": {},
   "outputs": [],
   "source": []
  },
  {
   "cell_type": "markdown",
   "metadata": {},
   "source": [
    "#### Import 2020 Kestrel data "
   ]
  },
  {
   "cell_type": "code",
   "execution_count": 35,
   "metadata": {},
   "outputs": [],
   "source": [
    "kes20 = pd.read_csv('kestrel_2020.csv',names=['time','ws'],header=0)\n",
    "kes20['time'] = pd.to_datetime(kes20['time'])\n",
    "start_date = pd.Timestamp(2020,3,6,11,50,0)\n",
    "end_date = pd.Timestamp(2020,3,6,12,15,37)\n",
    "mask1 = (kes20['time'] > start_date) & (kes20['time'] <= end_date)\n",
    "kes20 = kes20.loc[mask1]"
   ]
  },
  {
   "cell_type": "markdown",
   "metadata": {},
   "source": [
    "#### Import 2020 Sonic data "
   ]
  },
  {
   "cell_type": "code",
   "execution_count": 36,
   "metadata": {},
   "outputs": [],
   "source": [
    "son20 = pd.read_csv('sonic_2020.csv', header=None)\n",
    "son20.columns = ['gu','gv','gw','sound_speed','temp']\n",
    "N=len(son20)\n",
    "freq= 10   #Hz\n",
    "dt= str(1/freq)+'S'   #seconds \n",
    "\n",
    "\n",
    "start_time=pd.Timestamp(2020,3,6,11,50,0)\n",
    "time = pd.date_range(start = start_time,periods=N,freq=dt)\n",
    "son20.insert(0,'time',time,True)\n",
    "met_dirs20 = convert_gill_to_met(son20['gu'],son20['gv'],son20['gw'])\n",
    "u20=met_dirs20[0]\n",
    "v20=met_dirs20[1]\n",
    "w20=met_dirs20[2]\n",
    "M20 = mean_horizontal_wind(u20,v20)\n",
    "\n",
    "son20.insert(1,'u',u20,True)\n",
    "son20.insert(2,'v',v20,True)\n",
    "son20.insert(3,'w',w20,True)\n",
    "son20.insert(4,'mean_wind',M20,True)\n",
    "\n",
    "son20.sort_values('mean_wind',ascending=False).head()\n",
    "son20 = son20.drop(13879)\n",
    "son20 = son20.drop(15580)\n",
    "son20 = son20.drop(3415)\n",
    "son20 = son20.drop(14271)\n",
    "son20 = son20.drop(9264)\n",
    "son20 = son20.drop(12100)\n",
    "\n",
    "start_date = pd.Timestamp(2020,3,6,11,50,0)\n",
    "end_date = pd.Timestamp(2020,3,6,12,15,37)\n",
    "mask2=(son20['time'] > start_date) & (son20['time'] <= end_date)\n",
    "son20 = son20.loc[mask2]"
   ]
  },
  {
   "cell_type": "markdown",
   "metadata": {},
   "source": [
    "#### Plot wind trace for test 2 2020"
   ]
  },
  {
   "cell_type": "code",
   "execution_count": 37,
   "metadata": {},
   "outputs": [
    {
     "data": {
      "text/plain": [
       "Text(0.5,1,'Wind Speed Traces Test 2 2020')"
      ]
     },
     "execution_count": 37,
     "metadata": {},
     "output_type": "execute_result"
    },
    {
     "data": {
      "image/png": "[encoded data removed]",
      "text/plain": [
       "<Figure size 432x288 with 1 Axes>"
      ]
     },
     "metadata": {
      "needs_background": "light"
     },
     "output_type": "display_data"
    }
   ],
   "source": [
    "\n",
    "\n",
    "\n",
    "# speed_times=[pd.Timestamp(2020,3,6,11,50,0),pd.Timestamp(2020,3,6,11,55,30),\n",
    "#              pd.Timestamp(2020,3,6,12,0,30),pd.Timestamp(2020,3,6,12,5,34),\n",
    "#              pd.Timestamp(2020,3,6,12,10,35),pd.Timestamp(2020,3,6,12,15,37)]\n",
    "\n",
    "# mask_times = son20.time.isin(speed_times)\n",
    "# son20_times = son20.loc[mask_times]\n",
    "# all_indices = son20_times.index\n",
    "\n",
    "# plt.axvline(pd.Timestamp('2013-09-21'),color='r')\n",
    "plt.plot(son20['time'].dt.time,son20['mean_wind'])\n",
    "plt.plot(kes20['time'].dt.time,kes20['ws'])\n",
    "plt.legend(['sonic','kestrel'])\n",
    "plt.xticks(rotation=50)\n",
    "plt.grid(True)\n",
    "plt.ylabel('Wind Speed')\n",
    "plt.xlabel('Time')\n",
    "plt.title('Wind Speed Traces Test 2 2020')"
   ]
  },
  {
   "cell_type": "code",
   "execution_count": 38,
   "metadata": {},
   "outputs": [
    {
     "data": {
      "text/plain": [
       "89.80134722903415"
      ]
     },
     "execution_count": 38,
     "metadata": {},
     "output_type": "execute_result"
    }
   ],
   "source": [
    "def find_alpha(u,v):\n",
    "    u = u.mean()\n",
    "    v= v.mean()\n",
    "    if u > 0.0:\n",
    "        alpha = 90 - np.arctan(v/u)+180\n",
    "    else:\n",
    "        alpha = 90 - np.arctan(v/u)\n",
    "\n",
    "    return alpha\n",
    "\n",
    "find_alpha(son20['u'],son20['v'])"
   ]
  },
  {
   "cell_type": "markdown",
   "metadata": {},
   "source": [
    "#### Average Kestrel and Sonic data"
   ]
  },
  {
   "cell_type": "code",
   "execution_count": 39,
   "metadata": {},
   "outputs": [
    {
     "data": {
      "text/plain": [
       "Text(0,0.5,'Wind Speed (m/s)')"
      ]
     },
     "execution_count": 39,
     "metadata": {},
     "output_type": "execute_result"
    },
    {
     "data": {
      "image/png": "[encoded data removed]",
      "text/plain": [
       "<Figure size 432x288 with 1 Axes>"
      ]
     },
     "metadata": {
      "needs_background": "light"
     },
     "output_type": "display_data"
    },
    {
     "data": {
      "image/png": "[encoded data removed]",
      "text/plain": [
       "<Figure size 432x288 with 1 Axes>"
      ]
     },
     "metadata": {
      "needs_background": "light"
     },
     "output_type": "display_data"
    }
   ],
   "source": [
    "## OFF TO LOW\n",
    "start_date= pd.Timestamp(2020,3,6,11,50,0)\n",
    "end_date = pd.Timestamp(2020,3,6,11,55,30)\n",
    "mask1 = (kes20['time'] >= start_date) & (kes20['time'] <= end_date)\n",
    "kes20_begin = kes20.loc[mask1]\n",
    "kes20_begin\n",
    "\n",
    "kes20_begin.index = pd.DatetimeIndex(kes20_begin.time)\n",
    "avg_time = '60S'\n",
    "ws = (kes20_begin['ws'].resample(avg_time).mean())\n",
    "data = {'ws':ws} \n",
    "kes20_begin_avg=pd.DataFrame(data)\n",
    "\n",
    "kes20_begin_avg.plot()\n",
    "plt.grid(True)\n",
    "plt.title('Off to Low')\n",
    "plt.xlabel('Time')\n",
    "plt.ylabel('Wind Speed (m/s)')\n",
    "\n",
    "\n",
    "\n",
    "## LOW TO OFF\n",
    "start_date= pd.Timestamp(2020,3,6,12,10,35)\n",
    "end_date = pd.Timestamp(2020,3,6,12,15,37)\n",
    "mask2 = (kes20['time'] >= start_date) & (kes20['time'] <= end_date)\n",
    "kes20_end = kes20.loc[mask2]\n",
    "kes20_end\n",
    "\n",
    "kes20_end.index = pd.DatetimeIndex(kes20_end.time)\n",
    "avg_time = '60S'\n",
    "ws = (kes20_end['ws'].resample(avg_time).mean())\n",
    "data = {'ws':ws} \n",
    "kes20_end_avg=pd.DataFrame(data)\n",
    "\n",
    "kes20_end_avg.plot()\n",
    "plt.grid(True)\n",
    "plt.title('Low to Off')\n",
    "plt.xlabel('Time')\n",
    "plt.ylabel('Wind Speed (m/s)')"
   ]
  },
  {
   "cell_type": "code",
   "execution_count": 52,
   "metadata": {},
   "outputs": [
    {
     "data": {
      "text/plain": [
       "Text(0,0.5,'Wind Speed (m/s)')"
      ]
     },
     "execution_count": 52,
     "metadata": {},
     "output_type": "execute_result"
    },
    {
     "data": {
      "image/png": "[encoded data removed]",
      "text/plain": [
       "<Figure size 432x288 with 1 Axes>"
      ]
     },
     "metadata": {
      "needs_background": "light"
     },
     "output_type": "display_data"
    },
    {
     "data": {
      "image/png": "[encoded data removed]",
      "text/plain": [
       "<Figure size 432x288 with 1 Axes>"
      ]
     },
     "metadata": {
      "needs_background": "light"
     },
     "output_type": "display_data"
    }
   ],
   "source": [
    "## OFF TO LOW\n",
    "start_date= pd.Timestamp(2020,3,6,11,50,0)\n",
    "end_date = pd.Timestamp(2020,3,6,11,55,30)\n",
    "mask1 = (son20['time'] >= start_date) & (son20['time'] <= end_date)\n",
    "son20_begin = son20.loc[mask1]\n",
    "son20_begin\n",
    "\n",
    "son20_begin.index = pd.DatetimeIndex(son20_begin.time)\n",
    "avg_time = '60S'\n",
    "ws = (son20_begin['mean_wind'].resample(avg_time).mean())\n",
    "data = {'mean_wind':ws} \n",
    "son20_begin_avg=pd.DataFrame(data)\n",
    "\n",
    "son20_begin_avg.plot()\n",
    "plt.grid(True)\n",
    "plt.title('Off to Low')\n",
    "plt.xlabel('Time')\n",
    "plt.ylabel('Wind Speed (m/s)')\n",
    "\n",
    "\n",
    "\n",
    "## LOW TO OFF\n",
    "start_date= pd.Timestamp(2020,3,6,12,10,35)\n",
    "end_date = pd.Timestamp(2020,3,6,12,15,37)\n",
    "mask2 = (son20['time'] >= start_date) & (son20['time'] <= end_date)\n",
    "son20_end = son20.loc[mask2]\n",
    "son20_end\n",
    "\n",
    "son20_end.index = pd.DatetimeIndex(son20_end.time)\n",
    "avg_time = '60S'\n",
    "ws = (son20_end['mean_wind'].resample(avg_time).mean())\n",
    "data = {'mean_wind':ws} \n",
    "son20_end_avg=pd.DataFrame(data)\n",
    "\n",
    "son20_end_avg.plot()\n",
    "plt.grid(True)\n",
    "plt.title('Low to Off')\n",
    "plt.xlabel('Time')\n",
    "plt.ylabel('Wind Speed (m/s)')"
   ]
  },
  {
   "cell_type": "code",
   "execution_count": 112,
   "metadata": {},
   "outputs": [
    {
     "name": "stdout",
     "output_type": "stream",
     "text": [
      "area = 0.0 x =  0 diff =  71418.54240290908\n",
      "area = 0.0 x =  1 diff =  71418.54240290908\n",
      "area = 16810.01632586247 x =  2 diff =  54608.52607704661\n",
      "area = 41885.34122871618 x =  3 diff =  29533.2011741929\n",
      "area = 64902.99336531453 x =  4 diff =  6515.549037594552\n",
      "area = 88391.02566532789 x =  5 diff =  16972.483262418813\n"
     ]
    },
    {
     "data": {
      "text/plain": [
       "0.5725247876030949"
      ]
     },
     "execution_count": 112,
     "metadata": {},
     "output_type": "execute_result"
    }
   ],
   "source": [
    "area_org = trapz(son20_begin_avg['mean_wind'], dx=10000)\n",
    "fol = area_org*0.63\n",
    "for x in np.arange(len(son20_begin_avg)):\n",
    "    area = trapz(son20_begin_avg['mean_wind'][0:x], dx=10000)\n",
    "    print(\"area =\", area, \"x = \", x, \"diff = \", abs(fol - area))\n",
    "    \n",
    "trapz(son20_begin_avg['mean_wind'][0:4], dx=10000)/trapz(son20_begin_avg['mean_wind'], dx=10000)"
   ]
  },
  {
   "cell_type": "code",
   "execution_count": 111,
   "metadata": {},
   "outputs": [
    {
     "name": "stdout",
     "output_type": "stream",
     "text": [
      "area = 0.0 x =  0 diff =  79634.81112203776\n",
      "area = 0.0 x =  1 diff =  79634.81112203776\n",
      "area = 30514.161834213675 x =  2 diff =  49120.64928782408\n",
      "area = 56277.45607253307 x =  3 diff =  23357.355049504695\n",
      "area = 80873.07360519568 x =  4 diff =  1238.262483157916\n",
      "area = 104412.99657914272 x =  5 diff =  24778.185457104963\n"
     ]
    },
    {
     "data": {
      "text/plain": [
       "0.6397960345908776"
      ]
     },
     "execution_count": 111,
     "metadata": {},
     "output_type": "execute_result"
    }
   ],
   "source": [
    "\n",
    "\n",
    "area_org = trapz(son20_end_avg['mean_wind'], dx=10000)\n",
    "fol = area_org*0.63\n",
    "for x in np.arange(len(son20_end_avg)):\n",
    "    area = trapz(son20_end_avg['mean_wind'][0:x], dx=10000)\n",
    "    print(\"area =\", area, \"x = \", x, \"diff = \", abs(fol - area))\n",
    "    \n",
    "trapz(son20_end_avg['mean_wind'][0:4], dx=10000)/trapz(son20_end_avg['mean_wind'], dx=10000)"
   ]
  },
  {
   "cell_type": "code",
   "execution_count": 119,
   "metadata": {},
   "outputs": [
    {
     "name": "stdout",
     "output_type": "stream",
     "text": [
      "area = 0.0 x =  0 diff =  62133.75\n",
      "area = 0.0 x =  1 diff =  62133.75\n",
      "area = 25750.0 x =  2 diff =  36383.75\n",
      "area = 50708.333333333336 x =  3 diff =  11425.416666666664\n",
      "area = 74541.66666666667 x =  4 diff =  12407.916666666672\n"
     ]
    },
    {
     "data": {
      "text/plain": [
       "0.7558090409801437"
      ]
     },
     "execution_count": 119,
     "metadata": {},
     "output_type": "execute_result"
    }
   ],
   "source": [
    "area_org = trapz(kes20_begin_avg['ws'], dx=10000)\n",
    "fol = area_org*0.63\n",
    "for x in np.arange(len(kes20_begin_avg)):\n",
    "    area = trapz(kes20_begin_avg['ws'][0:x], dx=10000)\n",
    "    print(\"area =\", area, \"x = \", x, \"diff = \", abs(fol - area))\n",
    "    \n",
    "print(trapz(kes20_begin_avg['ws'][0:4], dx=10000)/trapz(kes20_begin_avg['ws'], dx=10000))"
   ]
  },
  {
   "cell_type": "code",
   "execution_count": 117,
   "metadata": {},
   "outputs": [
    {
     "name": "stdout",
     "output_type": "stream",
     "text": [
      "area = 0.0 x =  0 diff =  62291.25\n",
      "area = 0.0 x =  1 diff =  62291.25\n",
      "area = 25500.000000000004 x =  2 diff =  36791.25\n",
      "area = 50958.333333333336 x =  3 diff =  11332.916666666664\n",
      "area = 75625.0 x =  4 diff =  13333.75\n"
     ]
    },
    {
     "data": {
      "text/plain": [
       "0.7648546144121365"
      ]
     },
     "execution_count": 117,
     "metadata": {},
     "output_type": "execute_result"
    }
   ],
   "source": [
    "area_org = trapz(kes20_end_avg['ws'], dx=10000)\n",
    "fol = area_org*0.63\n",
    "for x in np.arange(len(kes20_end_avg)):\n",
    "    area = trapz(kes20_end_avg['ws'][0:x], dx=10000)\n",
    "    print(\"area =\", area, \"x = \", x, \"diff = \", abs(fol - area))\n",
    "    \n",
    "print(trapz(kes20_end_avg['ws'][0:4], dx=10000)/trapz(kes20_end_avg['ws'], dx=10000))"
   ]
  },
  {
   "cell_type": "code",
   "execution_count": null,
   "metadata": {},
   "outputs": [],
   "source": []
  }
 ],
 "metadata": {
  "kernelspec": {
   "display_name": "Python 3",
   "language": "python",
   "name": "python3"
  },
  "language_info": {
   "codemirror_mode": {
    "name": "ipython",
    "version": 3
   },
   "file_extension": ".py",
   "mimetype": "text/x-python",
   "name": "python",
   "nbconvert_exporter": "python",
   "pygments_lexer": "ipython3",
   "version": "3.7.3"
  }
 },
 "nbformat": 4,
 "nbformat_minor": 2
}
