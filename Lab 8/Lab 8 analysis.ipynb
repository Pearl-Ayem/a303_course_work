{
 "cells": [
  {
   "cell_type": "code",
   "execution_count": 26,
   "metadata": {},
   "outputs": [],
   "source": [
    "import numpy as np\n",
    "import pandas as pd\n",
    "import matplotlib.pyplot as plt\n",
    "from scipy.stats import linregress\n",
    "import math\n",
    "from datetime import datetime\n",
    "import warnings\n",
    "warnings.filterwarnings('ignore')"
   ]
  },
  {
   "cell_type": "markdown",
   "metadata": {},
   "source": [
    "#### Import Kestrel data and change year to 2015"
   ]
  },
  {
   "cell_type": "code",
   "execution_count": 27,
   "metadata": {
    "scrolled": true
   },
   "outputs": [],
   "source": [
    "dtypes=[datetime, float]\n",
    "kes15 = pd.read_excel('Kestrel_data2015.xlsx',names=['time','ws'],header=3)\n",
    "kes15['time']=kes15['time'].apply((lambda x: x.replace(year=2015)))\n",
    "\n",
    "\n",
    "start_date = pd.Timestamp(2015,3,11,12,30,0)\n",
    "end_date = pd.Timestamp(2015,3,11,13,5,0)\n",
    "mask1 = (kes15['time'] > start_date) & (kes15['time'] <= end_date)\n",
    "kes15_1 = kes15.loc[mask1]\n",
    "\n",
    "\n",
    "start_date = pd.Timestamp(2015,3,11,13,10,0)\n",
    "end_date = pd.Timestamp(2015,3,11,13,30,0)\n",
    "mask2=(kes15['time'] > start_date) & (kes15['time'] <= end_date)\n",
    "kes15_2 = kes15.loc[mask2]\n"
   ]
  },
  {
   "cell_type": "markdown",
   "metadata": {},
   "source": [
    "#### Import 2015 Pitot data "
   ]
  },
  {
   "cell_type": "code",
   "execution_count": 28,
   "metadata": {},
   "outputs": [],
   "source": [
    "pit15_1 = pd.read_csv('WindTunnelCalibration2015_test1.csv',header=0)\n",
    "pit15_1.columns = ['time','fan_rpm','air_temp','air_dens','press','ws']\n",
    "pit15_1['time']=pit15_1['time'].apply((lambda x: pd.to_datetime(x[-5:])))\n",
    "pit15_1['time']=pit15_1['time'].apply((lambda x: x.replace(year=2015)))\n",
    "pit15_1['time']=pit15_1['time'].apply((lambda x: x.replace(month=3)))\n",
    "pit15_1['time']=pit15_1['time'].apply((lambda x: x.replace(day=11)))"
   ]
  },
  {
   "cell_type": "code",
   "execution_count": 29,
   "metadata": {},
   "outputs": [
    {
     "data": {
      "text/html": [
       "<div>\n",
       "<style scoped>\n",
       "    .dataframe tbody tr th:only-of-type {\n",
       "        vertical-align: middle;\n",
       "    }\n",
       "\n",
       "    .dataframe tbody tr th {\n",
       "        vertical-align: top;\n",
       "    }\n",
       "\n",
       "    .dataframe thead th {\n",
       "        text-align: right;\n",
       "    }\n",
       "</style>\n",
       "<table border=\"1\" class=\"dataframe\">\n",
       "  <thead>\n",
       "    <tr style=\"text-align: right;\">\n",
       "      <th></th>\n",
       "      <th>time</th>\n",
       "      <th>fan_rpm</th>\n",
       "      <th>air_temp</th>\n",
       "      <th>air_dens</th>\n",
       "      <th>press</th>\n",
       "      <th>ws</th>\n",
       "    </tr>\n",
       "  </thead>\n",
       "  <tbody>\n",
       "    <tr>\n",
       "      <th>0</th>\n",
       "      <td>2015-03-11 13:10:00</td>\n",
       "      <td>100</td>\n",
       "      <td>17.1</td>\n",
       "      <td>1.2</td>\n",
       "      <td>20.0</td>\n",
       "      <td>2.6</td>\n",
       "    </tr>\n",
       "    <tr>\n",
       "      <th>1</th>\n",
       "      <td>2015-03-11 13:11:00</td>\n",
       "      <td>100</td>\n",
       "      <td>17.1</td>\n",
       "      <td>1.2</td>\n",
       "      <td>20.0</td>\n",
       "      <td>2.6</td>\n",
       "    </tr>\n",
       "    <tr>\n",
       "      <th>2</th>\n",
       "      <td>2015-03-11 13:14:00</td>\n",
       "      <td>150</td>\n",
       "      <td>17.2</td>\n",
       "      <td>1.2</td>\n",
       "      <td>45.0</td>\n",
       "      <td>3.8</td>\n",
       "    </tr>\n",
       "    <tr>\n",
       "      <th>3</th>\n",
       "      <td>2015-03-11 13:15:00</td>\n",
       "      <td>150</td>\n",
       "      <td>17.2</td>\n",
       "      <td>1.2</td>\n",
       "      <td>45.0</td>\n",
       "      <td>3.8</td>\n",
       "    </tr>\n",
       "    <tr>\n",
       "      <th>4</th>\n",
       "      <td>2015-03-11 13:17:00</td>\n",
       "      <td>280</td>\n",
       "      <td>17.1</td>\n",
       "      <td>1.2</td>\n",
       "      <td>NaN</td>\n",
       "      <td>NaN</td>\n",
       "    </tr>\n",
       "  </tbody>\n",
       "</table>\n",
       "</div>"
      ],
      "text/plain": [
       "                 time  fan_rpm  air_temp  air_dens  press   ws\n",
       "0 2015-03-11 13:10:00      100      17.1       1.2   20.0  2.6\n",
       "1 2015-03-11 13:11:00      100      17.1       1.2   20.0  2.6\n",
       "2 2015-03-11 13:14:00      150      17.2       1.2   45.0  3.8\n",
       "3 2015-03-11 13:15:00      150      17.2       1.2   45.0  3.8\n",
       "4 2015-03-11 13:17:00      280      17.1       1.2    NaN  NaN"
      ]
     },
     "execution_count": 29,
     "metadata": {},
     "output_type": "execute_result"
    }
   ],
   "source": [
    "pit15_2=pd.read_csv('WindTunnelCalibration2015_test2.csv',header=0)\n",
    "pit15_2.columns = ['time','fan_rpm','air_temp','air_dens','press','ws']\n",
    "pit15_2['time']=pit15_2['time'].apply((lambda x: pd.to_datetime(x[-5:])))\n",
    "pit15_2['time']=pit15_2['time'].apply((lambda x: x.replace(year=2015)))\n",
    "pit15_2['time']=pit15_2['time'].apply((lambda x: x.replace(month=3)))\n",
    "pit15_2['time']=pit15_2['time'].apply((lambda x: x.replace(day=11)))\n",
    "pit15_2.head()"
   ]
  },
  {
   "cell_type": "markdown",
   "metadata": {},
   "source": [
    "#### Import 2015 Sonic data "
   ]
  },
  {
   "cell_type": "code",
   "execution_count": 30,
   "metadata": {},
   "outputs": [],
   "source": [
    "son15 = pd.read_csv('2015_sonic_1230_start.txt', sep=\",\", header=None)\n",
    "son15.columns = ['gu','gv','gw','sound_speed','temp']\n",
    "N=len(son15)\n",
    "freq= 10   #Hz\n",
    "dt= str(1/freq)+'S'   #seconds \n",
    "start_time=pd.Timestamp(2015,3,11,12,30,0.0)\n",
    "time = pd.date_range(start = start_time,periods=N,freq=dt)\n",
    "son15.insert(0,'time',time,True)\n",
    "son15 = son15[son15.gu < 20]\n",
    "son15 = son15[son15.gv < 20]"
   ]
  },
  {
   "cell_type": "markdown",
   "metadata": {},
   "source": [
    "#### Convert Gill to Met"
   ]
  },
  {
   "cell_type": "code",
   "execution_count": 31,
   "metadata": {},
   "outputs": [],
   "source": [
    "def convert_gill_to_met(gu,gv,gw):\n",
    "    w = [x for x in gw]\n",
    "    u = [-x for x in gv]\n",
    "    v = [x for x in gu]\n",
    "    \n",
    "    return [u,v,w]\n",
    "\n",
    "\n",
    "def mean_horizontal_wind(u,v):\n",
    "    mean_winds=[]\n",
    "    for i in range(len(u)):\n",
    "        M = np.sqrt((u[i])**2 + (v[i])**2)\n",
    "        mean_winds.append(M)\n",
    "    return mean_winds"
   ]
  },
  {
   "cell_type": "code",
   "execution_count": 32,
   "metadata": {},
   "outputs": [
    {
     "data": {
      "text/html": [
       "<div>\n",
       "<style scoped>\n",
       "    .dataframe tbody tr th:only-of-type {\n",
       "        vertical-align: middle;\n",
       "    }\n",
       "\n",
       "    .dataframe tbody tr th {\n",
       "        vertical-align: top;\n",
       "    }\n",
       "\n",
       "    .dataframe thead th {\n",
       "        text-align: right;\n",
       "    }\n",
       "</style>\n",
       "<table border=\"1\" class=\"dataframe\">\n",
       "  <thead>\n",
       "    <tr style=\"text-align: right;\">\n",
       "      <th></th>\n",
       "      <th>time</th>\n",
       "      <th>u</th>\n",
       "      <th>v</th>\n",
       "      <th>w</th>\n",
       "      <th>mean_wind</th>\n",
       "      <th>gu</th>\n",
       "      <th>gv</th>\n",
       "      <th>gw</th>\n",
       "      <th>sound_speed</th>\n",
       "      <th>temp</th>\n",
       "    </tr>\n",
       "  </thead>\n",
       "  <tbody>\n",
       "    <tr>\n",
       "      <th>0</th>\n",
       "      <td>2015-03-11 12:30:00.000</td>\n",
       "      <td>2.10</td>\n",
       "      <td>-0.08</td>\n",
       "      <td>0.01</td>\n",
       "      <td>2.101523</td>\n",
       "      <td>-0.08</td>\n",
       "      <td>-2.10</td>\n",
       "      <td>0.01</td>\n",
       "      <td>343.95</td>\n",
       "      <td>20.56</td>\n",
       "    </tr>\n",
       "    <tr>\n",
       "      <th>1</th>\n",
       "      <td>2015-03-11 12:30:00.100</td>\n",
       "      <td>2.12</td>\n",
       "      <td>-0.09</td>\n",
       "      <td>0.01</td>\n",
       "      <td>2.121910</td>\n",
       "      <td>-0.09</td>\n",
       "      <td>-2.12</td>\n",
       "      <td>0.01</td>\n",
       "      <td>343.95</td>\n",
       "      <td>20.56</td>\n",
       "    </tr>\n",
       "    <tr>\n",
       "      <th>2</th>\n",
       "      <td>2015-03-11 12:30:00.200</td>\n",
       "      <td>2.12</td>\n",
       "      <td>-0.10</td>\n",
       "      <td>0.01</td>\n",
       "      <td>2.122357</td>\n",
       "      <td>-0.10</td>\n",
       "      <td>-2.12</td>\n",
       "      <td>0.01</td>\n",
       "      <td>343.96</td>\n",
       "      <td>20.57</td>\n",
       "    </tr>\n",
       "    <tr>\n",
       "      <th>3</th>\n",
       "      <td>2015-03-11 12:30:00.300</td>\n",
       "      <td>2.13</td>\n",
       "      <td>-0.12</td>\n",
       "      <td>0.01</td>\n",
       "      <td>2.133378</td>\n",
       "      <td>-0.12</td>\n",
       "      <td>-2.13</td>\n",
       "      <td>0.01</td>\n",
       "      <td>343.96</td>\n",
       "      <td>20.57</td>\n",
       "    </tr>\n",
       "    <tr>\n",
       "      <th>4</th>\n",
       "      <td>2015-03-11 12:30:00.400</td>\n",
       "      <td>2.14</td>\n",
       "      <td>-0.14</td>\n",
       "      <td>0.01</td>\n",
       "      <td>2.144575</td>\n",
       "      <td>-0.14</td>\n",
       "      <td>-2.14</td>\n",
       "      <td>0.01</td>\n",
       "      <td>343.97</td>\n",
       "      <td>20.59</td>\n",
       "    </tr>\n",
       "  </tbody>\n",
       "</table>\n",
       "</div>"
      ],
      "text/plain": [
       "                     time     u     v     w  mean_wind    gu    gv    gw  \\\n",
       "0 2015-03-11 12:30:00.000  2.10 -0.08  0.01   2.101523 -0.08 -2.10  0.01   \n",
       "1 2015-03-11 12:30:00.100  2.12 -0.09  0.01   2.121910 -0.09 -2.12  0.01   \n",
       "2 2015-03-11 12:30:00.200  2.12 -0.10  0.01   2.122357 -0.10 -2.12  0.01   \n",
       "3 2015-03-11 12:30:00.300  2.13 -0.12  0.01   2.133378 -0.12 -2.13  0.01   \n",
       "4 2015-03-11 12:30:00.400  2.14 -0.14  0.01   2.144575 -0.14 -2.14  0.01   \n",
       "\n",
       "   sound_speed   temp  \n",
       "0       343.95  20.56  \n",
       "1       343.95  20.56  \n",
       "2       343.96  20.57  \n",
       "3       343.96  20.57  \n",
       "4       343.97  20.59  "
      ]
     },
     "execution_count": 32,
     "metadata": {},
     "output_type": "execute_result"
    }
   ],
   "source": [
    "met_dirs15 = convert_gill_to_met(son15['gu'],son15['gv'],son15['gw'])\n",
    "u15=met_dirs15[0]\n",
    "v15=met_dirs15[1]\n",
    "w15=met_dirs15[2]\n",
    "M15 = mean_horizontal_wind(u15,v15)\n",
    "son15.insert(1,'u',u15,True)\n",
    "son15.insert(2,'v',v15,True)\n",
    "son15.insert(3,'w',w15,True)\n",
    "son15.insert(4,'mean_wind',M15,True)\n",
    "son15.head()"
   ]
  },
  {
   "cell_type": "code",
   "execution_count": 33,
   "metadata": {},
   "outputs": [],
   "source": [
    "start_date = pd.Timestamp(2015,3,11,12,30,0)\n",
    "end_date = pd.Timestamp(2015,3,11,13,5,0)\n",
    "mask1 = (son15['time'] > start_date) & (son15['time'] <= end_date)\n",
    "son15_1 = son15.loc[mask1]\n",
    "\n",
    "\n",
    "start_date = pd.Timestamp(2015,3,11,13,10,0)\n",
    "end_date = pd.Timestamp(2015,3,11,13,30,0)\n",
    "mask2=(son15['time'] > start_date) & (son15['time'] <= end_date)\n",
    "son15_2 = son15.loc[mask2]\n",
    "son15_2.sort_values('mean_wind',ascending=False)\n",
    "son15_2 = son15_2.drop(25527)\n",
    "son15_2 = son15_2.drop(34739)"
   ]
  },
  {
   "cell_type": "markdown",
   "metadata": {},
   "source": [
    "#### Plot wind trace for test 1 2015"
   ]
  },
  {
   "cell_type": "code",
   "execution_count": 34,
   "metadata": {},
   "outputs": [
    {
     "data": {
      "text/plain": [
       "Text(0.5,1,'Wind Speed Traces Test 1 2015')"
      ]
     },
     "execution_count": 34,
     "metadata": {},
     "output_type": "execute_result"
    },
    {
     "data": {
      "image/png": "[encoded data removed]",
      "text/plain": [
       "<Figure size 432x288 with 1 Axes>"
      ]
     },
     "metadata": {
      "needs_background": "light"
     },
     "output_type": "display_data"
    }
   ],
   "source": [
    "plt.plot(kes15_1['time'],kes15_1['ws'])\n",
    "plt.plot(pit15_1['time'],pit15_1['ws'])\n",
    "plt.plot(son15_1['time'],son15_1['mean_wind'],linewidth =0.51)\n",
    "plt.legend(['kestrel','pitot','sonic'])\n",
    "plt.xticks(rotation=50)\n",
    "plt.grid()\n",
    "plt.ylabel('Wind Speed')\n",
    "plt.xlabel('Time')\n",
    "plt.title('Wind Speed Traces Test 1 2015')"
   ]
  },
  {
   "cell_type": "code",
   "execution_count": 35,
   "metadata": {},
   "outputs": [
    {
     "data": {
      "text/plain": [
       "Text(0.5,1,'Wind Speed Traces Test 2 2015')"
      ]
     },
     "execution_count": 35,
     "metadata": {},
     "output_type": "execute_result"
    },
    {
     "data": {
      "image/png": "[encoded data removed]",
      "text/plain": [
       "<Figure size 432x288 with 1 Axes>"
      ]
     },
     "metadata": {
      "needs_background": "light"
     },
     "output_type": "display_data"
    }
   ],
   "source": [
    "plt.plot(son15_2['time'],son15_2['mean_wind'])\n",
    "plt.plot(kes15_2['time'],kes15_2['ws'])\n",
    "plt.plot(pit15_2['time'],pit15_2['ws'])\n",
    "plt.legend(['kestrel','pitot','sonic'])\n",
    "plt.xticks(rotation=50)\n",
    "plt.grid()\n",
    "plt.ylabel('Wind Speed')\n",
    "plt.xlabel('Time')\n",
    "plt.title('Wind Speed Traces Test 2 2015')"
   ]
  },
  {
   "cell_type": "code",
   "execution_count": 39,
   "metadata": {},
   "outputs": [
    {
     "data": {
      "text/plain": [
       "12"
      ]
     },
     "execution_count": 39,
     "metadata": {},
     "output_type": "execute_result"
    }
   ],
   "source": []
  },
  {
   "cell_type": "markdown",
   "metadata": {},
   "source": [
    "#### Sonic 1 min average average"
   ]
  },
  {
   "cell_type": "code",
   "execution_count": 36,
   "metadata": {},
   "outputs": [
    {
     "data": {
      "text/html": [
       "<div>\n",
       "<style scoped>\n",
       "    .dataframe tbody tr th:only-of-type {\n",
       "        vertical-align: middle;\n",
       "    }\n",
       "\n",
       "    .dataframe tbody tr th {\n",
       "        vertical-align: top;\n",
       "    }\n",
       "\n",
       "    .dataframe thead th {\n",
       "        text-align: right;\n",
       "    }\n",
       "</style>\n",
       "<table border=\"1\" class=\"dataframe\">\n",
       "  <thead>\n",
       "    <tr style=\"text-align: right;\">\n",
       "      <th></th>\n",
       "      <th>u</th>\n",
       "      <th>v</th>\n",
       "      <th>w</th>\n",
       "      <th>mean_wind</th>\n",
       "      <th>gu</th>\n",
       "      <th>gv</th>\n",
       "      <th>gw</th>\n",
       "      <th>sound_speed</th>\n",
       "      <th>temp</th>\n",
       "    </tr>\n",
       "    <tr>\n",
       "      <th>time</th>\n",
       "      <th></th>\n",
       "      <th></th>\n",
       "      <th></th>\n",
       "      <th></th>\n",
       "      <th></th>\n",
       "      <th></th>\n",
       "      <th></th>\n",
       "      <th></th>\n",
       "      <th></th>\n",
       "    </tr>\n",
       "  </thead>\n",
       "  <tbody>\n",
       "    <tr>\n",
       "      <th>2015-03-11 12:30:00</th>\n",
       "      <td>2.083289</td>\n",
       "      <td>-0.088497</td>\n",
       "      <td>0.012254</td>\n",
       "      <td>2.085871</td>\n",
       "      <td>-0.088497</td>\n",
       "      <td>-2.083289</td>\n",
       "      <td>0.012254</td>\n",
       "      <td>343.948915</td>\n",
       "      <td>20.553673</td>\n",
       "    </tr>\n",
       "    <tr>\n",
       "      <th>2015-03-11 12:31:00</th>\n",
       "      <td>2.174317</td>\n",
       "      <td>0.023300</td>\n",
       "      <td>0.020400</td>\n",
       "      <td>2.174467</td>\n",
       "      <td>0.023300</td>\n",
       "      <td>-2.174317</td>\n",
       "      <td>0.020400</td>\n",
       "      <td>343.755367</td>\n",
       "      <td>20.223983</td>\n",
       "    </tr>\n",
       "    <tr>\n",
       "      <th>2015-03-11 12:32:00</th>\n",
       "      <td>2.189800</td>\n",
       "      <td>0.023533</td>\n",
       "      <td>0.013133</td>\n",
       "      <td>2.189953</td>\n",
       "      <td>0.023533</td>\n",
       "      <td>-2.189800</td>\n",
       "      <td>0.013133</td>\n",
       "      <td>343.572267</td>\n",
       "      <td>19.911783</td>\n",
       "    </tr>\n",
       "    <tr>\n",
       "      <th>2015-03-11 12:33:00</th>\n",
       "      <td>2.178250</td>\n",
       "      <td>0.021450</td>\n",
       "      <td>0.019467</td>\n",
       "      <td>2.178387</td>\n",
       "      <td>0.021450</td>\n",
       "      <td>-2.178250</td>\n",
       "      <td>0.019467</td>\n",
       "      <td>343.572033</td>\n",
       "      <td>19.911183</td>\n",
       "    </tr>\n",
       "    <tr>\n",
       "      <th>2015-03-11 12:34:00</th>\n",
       "      <td>2.141067</td>\n",
       "      <td>-0.003800</td>\n",
       "      <td>0.006783</td>\n",
       "      <td>2.141911</td>\n",
       "      <td>-0.003800</td>\n",
       "      <td>-2.141067</td>\n",
       "      <td>0.006783</td>\n",
       "      <td>343.646567</td>\n",
       "      <td>20.038400</td>\n",
       "    </tr>\n",
       "  </tbody>\n",
       "</table>\n",
       "</div>"
      ],
      "text/plain": [
       "                            u         v         w  mean_wind        gu  \\\n",
       "time                                                                     \n",
       "2015-03-11 12:30:00  2.083289 -0.088497  0.012254   2.085871 -0.088497   \n",
       "2015-03-11 12:31:00  2.174317  0.023300  0.020400   2.174467  0.023300   \n",
       "2015-03-11 12:32:00  2.189800  0.023533  0.013133   2.189953  0.023533   \n",
       "2015-03-11 12:33:00  2.178250  0.021450  0.019467   2.178387  0.021450   \n",
       "2015-03-11 12:34:00  2.141067 -0.003800  0.006783   2.141911 -0.003800   \n",
       "\n",
       "                           gv        gw  sound_speed       temp  \n",
       "time                                                             \n",
       "2015-03-11 12:30:00 -2.083289  0.012254   343.948915  20.553673  \n",
       "2015-03-11 12:31:00 -2.174317  0.020400   343.755367  20.223983  \n",
       "2015-03-11 12:32:00 -2.189800  0.013133   343.572267  19.911783  \n",
       "2015-03-11 12:33:00 -2.178250  0.019467   343.572033  19.911183  \n",
       "2015-03-11 12:34:00 -2.141067  0.006783   343.646567  20.038400  "
      ]
     },
     "execution_count": 36,
     "metadata": {},
     "output_type": "execute_result"
    }
   ],
   "source": [
    "son15_1.index = pd.DatetimeIndex(son15_1.time)\n",
    "avg_time = '60S'\n",
    "u = (son15_1['u'].resample(avg_time).mean())\n",
    "v = (son15_1['v'].resample(avg_time).mean())\n",
    "w = (son15_1['w'].resample(avg_time).mean())\n",
    "mean_wind = (son15_1['mean_wind'].resample(avg_time).mean())\n",
    "gu = (son15_1['gu'].resample(avg_time).mean())\n",
    "gv = (son15_1['gv'].resample(avg_time).mean())\n",
    "gw = (son15_1['gw'].resample(avg_time).mean())\n",
    "sound_speed = (son15_1['sound_speed'].resample(avg_time).mean())\n",
    "temp = (son15_1['temp'].resample(avg_time).mean())\n",
    "data = {'u':u,\n",
    "        'v':v,\n",
    "        'w':w,\n",
    "        'mean_wind':mean_wind,\n",
    "        'gu':gu, \n",
    "        'gv':gv,\n",
    "        'gw':gw,\n",
    "        'sound_speed':sound_speed,\n",
    "        'temp':temp} \n",
    "son15_1_avg=pd.DataFrame(data)\n",
    "son15_1_avg.head()"
   ]
  },
  {
   "cell_type": "code",
   "execution_count": 37,
   "metadata": {},
   "outputs": [
    {
     "data": {
      "text/html": [
       "<div>\n",
       "<style scoped>\n",
       "    .dataframe tbody tr th:only-of-type {\n",
       "        vertical-align: middle;\n",
       "    }\n",
       "\n",
       "    .dataframe tbody tr th {\n",
       "        vertical-align: top;\n",
       "    }\n",
       "\n",
       "    .dataframe thead th {\n",
       "        text-align: right;\n",
       "    }\n",
       "</style>\n",
       "<table border=\"1\" class=\"dataframe\">\n",
       "  <thead>\n",
       "    <tr style=\"text-align: right;\">\n",
       "      <th></th>\n",
       "      <th>u</th>\n",
       "      <th>v</th>\n",
       "      <th>w</th>\n",
       "      <th>mean_wind</th>\n",
       "      <th>gu</th>\n",
       "      <th>gv</th>\n",
       "      <th>gw</th>\n",
       "      <th>sound_speed</th>\n",
       "      <th>temp</th>\n",
       "    </tr>\n",
       "    <tr>\n",
       "      <th>time</th>\n",
       "      <th></th>\n",
       "      <th></th>\n",
       "      <th></th>\n",
       "      <th></th>\n",
       "      <th></th>\n",
       "      <th></th>\n",
       "      <th></th>\n",
       "      <th></th>\n",
       "      <th></th>\n",
       "    </tr>\n",
       "  </thead>\n",
       "  <tbody>\n",
       "    <tr>\n",
       "      <th>2015-03-11 13:10:00</th>\n",
       "      <td>0.088698</td>\n",
       "      <td>-2.684591</td>\n",
       "      <td>0.023957</td>\n",
       "      <td>2.688993</td>\n",
       "      <td>-2.684591</td>\n",
       "      <td>-0.088698</td>\n",
       "      <td>0.023957</td>\n",
       "      <td>343.426093</td>\n",
       "      <td>19.660134</td>\n",
       "    </tr>\n",
       "    <tr>\n",
       "      <th>2015-03-11 13:11:00</th>\n",
       "      <td>0.072433</td>\n",
       "      <td>-2.000350</td>\n",
       "      <td>0.021217</td>\n",
       "      <td>2.002844</td>\n",
       "      <td>-2.000350</td>\n",
       "      <td>-0.072433</td>\n",
       "      <td>0.021217</td>\n",
       "      <td>343.428317</td>\n",
       "      <td>19.664700</td>\n",
       "    </tr>\n",
       "    <tr>\n",
       "      <th>2015-03-11 13:12:00</th>\n",
       "      <td>0.066277</td>\n",
       "      <td>-2.007062</td>\n",
       "      <td>0.019499</td>\n",
       "      <td>2.009439</td>\n",
       "      <td>-2.007062</td>\n",
       "      <td>-0.066277</td>\n",
       "      <td>0.019499</td>\n",
       "      <td>343.479633</td>\n",
       "      <td>19.752705</td>\n",
       "    </tr>\n",
       "    <tr>\n",
       "      <th>2015-03-11 13:13:00</th>\n",
       "      <td>0.067667</td>\n",
       "      <td>-2.002217</td>\n",
       "      <td>0.023367</td>\n",
       "      <td>2.004590</td>\n",
       "      <td>-2.002217</td>\n",
       "      <td>-0.067667</td>\n",
       "      <td>0.023367</td>\n",
       "      <td>343.522017</td>\n",
       "      <td>19.824517</td>\n",
       "    </tr>\n",
       "    <tr>\n",
       "      <th>2015-03-11 13:14:00</th>\n",
       "      <td>0.109683</td>\n",
       "      <td>-3.184967</td>\n",
       "      <td>0.028033</td>\n",
       "      <td>3.191088</td>\n",
       "      <td>-3.184967</td>\n",
       "      <td>-0.109683</td>\n",
       "      <td>0.028033</td>\n",
       "      <td>343.487933</td>\n",
       "      <td>19.762933</td>\n",
       "    </tr>\n",
       "  </tbody>\n",
       "</table>\n",
       "</div>"
      ],
      "text/plain": [
       "                            u         v         w  mean_wind        gu  \\\n",
       "time                                                                     \n",
       "2015-03-11 13:10:00  0.088698 -2.684591  0.023957   2.688993 -2.684591   \n",
       "2015-03-11 13:11:00  0.072433 -2.000350  0.021217   2.002844 -2.000350   \n",
       "2015-03-11 13:12:00  0.066277 -2.007062  0.019499   2.009439 -2.007062   \n",
       "2015-03-11 13:13:00  0.067667 -2.002217  0.023367   2.004590 -2.002217   \n",
       "2015-03-11 13:14:00  0.109683 -3.184967  0.028033   3.191088 -3.184967   \n",
       "\n",
       "                           gv        gw  sound_speed       temp  \n",
       "time                                                             \n",
       "2015-03-11 13:10:00 -0.088698  0.023957   343.426093  19.660134  \n",
       "2015-03-11 13:11:00 -0.072433  0.021217   343.428317  19.664700  \n",
       "2015-03-11 13:12:00 -0.066277  0.019499   343.479633  19.752705  \n",
       "2015-03-11 13:13:00 -0.067667  0.023367   343.522017  19.824517  \n",
       "2015-03-11 13:14:00 -0.109683  0.028033   343.487933  19.762933  "
      ]
     },
     "execution_count": 37,
     "metadata": {},
     "output_type": "execute_result"
    }
   ],
   "source": [
    "son15_2.index = pd.DatetimeIndex(son15_2.time)\n",
    "avg_time = '60S'\n",
    "u = (son15_2['u'].resample(avg_time).mean())\n",
    "v = (son15_2['v'].resample(avg_time).mean())\n",
    "w = (son15_2['w'].resample(avg_time).mean())\n",
    "mean_wind = (son15_2['mean_wind'].resample(avg_time).mean())\n",
    "gu = (son15_2['gu'].resample(avg_time).mean())\n",
    "gv = (son15_2['gv'].resample(avg_time).mean())\n",
    "gw = (son15_2['gw'].resample(avg_time).mean())\n",
    "sound_speed = (son15_2['sound_speed'].resample(avg_time).mean())\n",
    "temp = (son15_2['temp'].resample(avg_time).mean())\n",
    "data = {'u':u,\n",
    "        'v':v,\n",
    "        'w':w,\n",
    "        'mean_wind':mean_wind,\n",
    "        'gu':gu, \n",
    "        'gv':gv,\n",
    "        'gw':gw,\n",
    "        'sound_speed':sound_speed,\n",
    "        'temp':temp} \n",
    "son15_2_avg=pd.DataFrame(data)\n",
    "son15_2_avg.head()"
   ]
  },
  {
   "cell_type": "code",
   "execution_count": 40,
   "metadata": {},
   "outputs": [
    {
     "name": "stdout",
     "output_type": "stream",
     "text": [
      "12\n"
     ]
    },
    {
     "data": {
      "text/plain": [
       "20"
      ]
     },
     "execution_count": 40,
     "metadata": {},
     "output_type": "execute_result"
    }
   ],
   "source": [
    "print(len(pit15_1))\n",
    "len(son15_2_avg)"
   ]
  },
  {
   "cell_type": "code",
   "execution_count": null,
   "metadata": {},
   "outputs": [],
   "source": []
  },
  {
   "cell_type": "code",
   "execution_count": null,
   "metadata": {},
   "outputs": [],
   "source": []
  },
  {
   "cell_type": "code",
   "execution_count": null,
   "metadata": {},
   "outputs": [],
   "source": []
  },
  {
   "cell_type": "code",
   "execution_count": null,
   "metadata": {},
   "outputs": [],
   "source": []
  },
  {
   "cell_type": "code",
   "execution_count": null,
   "metadata": {},
   "outputs": [],
   "source": []
  },
  {
   "cell_type": "code",
   "execution_count": null,
   "metadata": {},
   "outputs": [],
   "source": []
  },
  {
   "cell_type": "code",
   "execution_count": null,
   "metadata": {},
   "outputs": [],
   "source": []
  },
  {
   "cell_type": "code",
   "execution_count": null,
   "metadata": {},
   "outputs": [],
   "source": []
  },
  {
   "cell_type": "code",
   "execution_count": null,
   "metadata": {},
   "outputs": [],
   "source": []
  },
  {
   "cell_type": "code",
   "execution_count": null,
   "metadata": {},
   "outputs": [],
   "source": []
  },
  {
   "cell_type": "code",
   "execution_count": null,
   "metadata": {},
   "outputs": [],
   "source": []
  },
  {
   "cell_type": "code",
   "execution_count": null,
   "metadata": {},
   "outputs": [],
   "source": []
  },
  {
   "cell_type": "code",
   "execution_count": null,
   "metadata": {},
   "outputs": [],
   "source": []
  },
  {
   "cell_type": "code",
   "execution_count": null,
   "metadata": {},
   "outputs": [],
   "source": []
  },
  {
   "cell_type": "code",
   "execution_count": null,
   "metadata": {},
   "outputs": [],
   "source": []
  },
  {
   "cell_type": "code",
   "execution_count": null,
   "metadata": {},
   "outputs": [],
   "source": []
  },
  {
   "cell_type": "code",
   "execution_count": null,
   "metadata": {},
   "outputs": [],
   "source": []
  },
  {
   "cell_type": "markdown",
   "metadata": {},
   "source": [
    "#### Import 2020 Kestrel data "
   ]
  },
  {
   "cell_type": "code",
   "execution_count": 12,
   "metadata": {},
   "outputs": [],
   "source": [
    "kes20 = pd.read_csv('kestrel_2020.csv',names=['time','ws'],header=0)\n",
    "kes20['time'] = pd.to_datetime(kes20['time'])\n",
    "start_date = pd.Timestamp(2020,3,6,11,50,0)\n",
    "end_date = pd.Timestamp(2020,3,6,12,15,37)\n",
    "mask1 = (kes20['time'] > start_date) & (kes20['time'] <= end_date)\n",
    "kes20 = kes20.loc[mask1]\n"
   ]
  },
  {
   "cell_type": "markdown",
   "metadata": {},
   "source": [
    "#### Import 2020 Sonic data "
   ]
  },
  {
   "cell_type": "code",
   "execution_count": 13,
   "metadata": {},
   "outputs": [],
   "source": [
    "son20 = pd.read_csv('sonic_2020.csv', header=None)\n",
    "son20.columns = ['gu','gv','gw','sound_speed','temp']\n",
    "N=len(son20)\n",
    "freq= 10   #Hz\n",
    "dt= str(1/freq)+'S'   #seconds \n",
    "\n",
    "\n",
    "start_time=pd.Timestamp(2020,3,6,11,50,0)\n",
    "time = pd.date_range(start = start_time,periods=N,freq=dt)\n",
    "son20.insert(0,'time',time,True)\n",
    "met_dirs20 = convert_gill_to_met(son20['gu'],son20['gv'],son20['gw'])\n",
    "u20=met_dirs20[0]\n",
    "v20=met_dirs20[1]\n",
    "w20=met_dirs20[2]\n",
    "M20 = mean_horizontal_wind(u20,v20)\n",
    "\n",
    "son20.insert(1,'u',u20,True)\n",
    "son20.insert(2,'v',v20,True)\n",
    "son20.insert(3,'w',w20,True)\n",
    "son20.insert(4,'mean_wind',M20,True)\n",
    "\n",
    "son20.sort_values('mean_wind',ascending=False).head()\n",
    "son20 = son20.drop(13879)\n",
    "son20 = son20.drop(15580)\n",
    "son20 = son20.drop(3415)\n",
    "son20 = son20.drop(14271)\n",
    "son20 = son20.drop(9264)\n",
    "son20 = son20.drop(12100)\n",
    "\n",
    "start_date = pd.Timestamp(2020,3,6,11,50,0)\n",
    "end_date = pd.Timestamp(2020,3,6,12,15,37)\n",
    "mask2=(son20['time'] > start_date) & (son20['time'] <= end_date)\n",
    "son20 = son20.loc[mask2]"
   ]
  },
  {
   "cell_type": "markdown",
   "metadata": {},
   "source": [
    "#### Plot wind trace for test 2 2020"
   ]
  },
  {
   "cell_type": "code",
   "execution_count": 14,
   "metadata": {},
   "outputs": [
    {
     "data": {
      "text/plain": [
       "Text(0.5,1,'Wind Speed Traces Test 2 2020')"
      ]
     },
     "execution_count": 14,
     "metadata": {},
     "output_type": "execute_result"
    },
    {
     "data": {
      "image/png": "[encoded data removed]",
      "text/plain": [
       "<Figure size 432x288 with 1 Axes>"
      ]
     },
     "metadata": {
      "needs_background": "light"
     },
     "output_type": "display_data"
    }
   ],
   "source": [
    "plt.plot(son20['time'],son20['mean_wind'],c='b')\n",
    "plt.plot(kes20['time'],kes20['ws'],c='k')\n",
    "plt.legend(['sonic','kestrel'])\n",
    "plt.xticks(rotation=50)\n",
    "plt.grid()\n",
    "plt.ylabel('Wind Speed')\n",
    "plt.xlabel('Time')\n",
    "plt.title('Wind Speed Traces Test 2 2020')\n"
   ]
  },
  {
   "cell_type": "code",
   "execution_count": 15,
   "metadata": {},
   "outputs": [
    {
     "data": {
      "text/plain": [
       "90.8351366961003"
      ]
     },
     "execution_count": 15,
     "metadata": {},
     "output_type": "execute_result"
    }
   ],
   "source": [
    "def find_alpha(u,v):\n",
    "    dirs=[]\n",
    "    for i in np.arange(len(u)):\n",
    "        \n",
    "        if u.iloc[i] > 0.0:\n",
    "            alpha = 90 - np.arctan(v.iloc[i]/u.iloc[i])+180\n",
    "        else:\n",
    "            alpha = 90 - np.arctan(v.iloc[i]/u.iloc[i])\n",
    "\n",
    "        dirs.append(alpha)\n",
    "\n",
    "    return dirs\n",
    "\n",
    "np.mean(find_alpha(son20['u'],son20['v']))"
   ]
  },
  {
   "cell_type": "markdown",
   "metadata": {},
   "source": [
    "#### Average Kestrel and Sonic data"
   ]
  },
  {
   "cell_type": "code",
   "execution_count": 22,
   "metadata": {},
   "outputs": [
    {
     "data": {
      "text/html": [
       "<div>\n",
       "<style scoped>\n",
       "    .dataframe tbody tr th:only-of-type {\n",
       "        vertical-align: middle;\n",
       "    }\n",
       "\n",
       "    .dataframe tbody tr th {\n",
       "        vertical-align: top;\n",
       "    }\n",
       "\n",
       "    .dataframe thead th {\n",
       "        text-align: right;\n",
       "    }\n",
       "</style>\n",
       "<table border=\"1\" class=\"dataframe\">\n",
       "  <thead>\n",
       "    <tr style=\"text-align: right;\">\n",
       "      <th></th>\n",
       "      <th>ws</th>\n",
       "    </tr>\n",
       "    <tr>\n",
       "      <th>time</th>\n",
       "      <th></th>\n",
       "    </tr>\n",
       "  </thead>\n",
       "  <tbody>\n",
       "    <tr>\n",
       "      <th>2020-03-06 11:49:00</th>\n",
       "      <td>0.000000</td>\n",
       "    </tr>\n",
       "    <tr>\n",
       "      <th>2020-03-06 11:49:10</th>\n",
       "      <td>NaN</td>\n",
       "    </tr>\n",
       "    <tr>\n",
       "      <th>2020-03-06 11:49:20</th>\n",
       "      <td>NaN</td>\n",
       "    </tr>\n",
       "    <tr>\n",
       "      <th>2020-03-06 11:49:30</th>\n",
       "      <td>NaN</td>\n",
       "    </tr>\n",
       "    <tr>\n",
       "      <th>2020-03-06 11:49:40</th>\n",
       "      <td>NaN</td>\n",
       "    </tr>\n",
       "    <tr>\n",
       "      <th>2020-03-06 11:49:50</th>\n",
       "      <td>NaN</td>\n",
       "    </tr>\n",
       "    <tr>\n",
       "      <th>2020-03-06 11:50:00</th>\n",
       "      <td>1.316667</td>\n",
       "    </tr>\n",
       "  </tbody>\n",
       "</table>\n",
       "</div>"
      ],
      "text/plain": [
       "                           ws\n",
       "time                         \n",
       "2020-03-06 11:49:00  0.000000\n",
       "2020-03-06 11:49:10       NaN\n",
       "2020-03-06 11:49:20       NaN\n",
       "2020-03-06 11:49:30       NaN\n",
       "2020-03-06 11:49:40       NaN\n",
       "2020-03-06 11:49:50       NaN\n",
       "2020-03-06 11:50:00  1.316667"
      ]
     },
     "execution_count": 22,
     "metadata": {},
     "output_type": "execute_result"
    }
   ],
   "source": [
    "kes20 = pd.read_csv('kestrel_2020.csv',names=['time','ws'],header=0)\n",
    "kes20['time'] = pd.to_datetime(kes20['time'])\n",
    "\n",
    "## OFF TO LOW\n",
    "end_date = pd.Timestamp(2020,3,6,11,50,0)\n",
    "mask1 = (kes20['time'] <= end_date)\n",
    "kes20_1 = kes20.loc[mask1]\n",
    "\n",
    "\n",
    "kes20_1.index = pd.DatetimeIndex(kes20_1.time)\n",
    "avg_time = '60S'\n",
    "ws = (kes20_1['ws'].resample(avg_time).mean())\n",
    "data = {'ws':ws} \n",
    "kes20_avg_1=pd.DataFrame(data)\n",
    "kes20_avg_1\n",
    "\n",
    "## LOW TO OFF\n",
    "start_date = pd.Timestamp(2020,3,6,12,10,35)\n",
    "end_date = pd.Timestamp(2020,3,6,12,15,37)\n",
    "mask2 = (kes20['time'] > start_date) & (kes20['time'] <= end_date)\n",
    "kes20_2 = kes20.loc[mask2]\n",
    "\n",
    "\n",
    "kes20_2.index = pd.DatetimeIndex(kes20_2.time)\n",
    "avg_time = '60S'\n",
    "ws = (kes20_2['ws'].resample(avg_time).mean())\n",
    "data = {'ws':ws} \n",
    "kes20_avg_2=pd.DataFrame(data)\n",
    "kes20_avg_1"
   ]
  },
  {
   "cell_type": "code",
   "execution_count": 17,
   "metadata": {},
   "outputs": [
    {
     "data": {
      "text/html": [
       "<div>\n",
       "<style scoped>\n",
       "    .dataframe tbody tr th:only-of-type {\n",
       "        vertical-align: middle;\n",
       "    }\n",
       "\n",
       "    .dataframe tbody tr th {\n",
       "        vertical-align: top;\n",
       "    }\n",
       "\n",
       "    .dataframe thead th {\n",
       "        text-align: right;\n",
       "    }\n",
       "</style>\n",
       "<table border=\"1\" class=\"dataframe\">\n",
       "  <thead>\n",
       "    <tr style=\"text-align: right;\">\n",
       "      <th></th>\n",
       "      <th>u</th>\n",
       "      <th>v</th>\n",
       "      <th>w</th>\n",
       "      <th>mean_wind</th>\n",
       "      <th>gu</th>\n",
       "      <th>gv</th>\n",
       "      <th>gw</th>\n",
       "      <th>sound_speed</th>\n",
       "      <th>temp</th>\n",
       "    </tr>\n",
       "    <tr>\n",
       "      <th>time</th>\n",
       "      <th></th>\n",
       "      <th></th>\n",
       "      <th></th>\n",
       "      <th></th>\n",
       "      <th></th>\n",
       "      <th></th>\n",
       "      <th></th>\n",
       "      <th></th>\n",
       "      <th></th>\n",
       "    </tr>\n",
       "  </thead>\n",
       "  <tbody>\n",
       "    <tr>\n",
       "      <th>2020-03-06 11:50:00</th>\n",
       "      <td>-0.794925</td>\n",
       "      <td>-0.179967</td>\n",
       "      <td>-0.063756</td>\n",
       "      <td>0.872782</td>\n",
       "      <td>-0.179967</td>\n",
       "      <td>0.794925</td>\n",
       "      <td>-0.063756</td>\n",
       "      <td>345.114157</td>\n",
       "      <td>22.540835</td>\n",
       "    </tr>\n",
       "    <tr>\n",
       "      <th>2020-03-06 11:51:00</th>\n",
       "      <td>-2.398333</td>\n",
       "      <td>-0.442833</td>\n",
       "      <td>-0.079200</td>\n",
       "      <td>2.489221</td>\n",
       "      <td>-0.442833</td>\n",
       "      <td>2.398333</td>\n",
       "      <td>-0.079200</td>\n",
       "      <td>345.121167</td>\n",
       "      <td>22.558767</td>\n",
       "    </tr>\n",
       "    <tr>\n",
       "      <th>2020-03-06 11:52:00</th>\n",
       "      <td>-2.438883</td>\n",
       "      <td>-0.460700</td>\n",
       "      <td>-0.070033</td>\n",
       "      <td>2.525843</td>\n",
       "      <td>-0.460700</td>\n",
       "      <td>2.438883</td>\n",
       "      <td>-0.070033</td>\n",
       "      <td>345.119933</td>\n",
       "      <td>22.557000</td>\n",
       "    </tr>\n",
       "    <tr>\n",
       "      <th>2020-03-06 11:53:00</th>\n",
       "      <td>-1.967933</td>\n",
       "      <td>-0.454200</td>\n",
       "      <td>-0.162050</td>\n",
       "      <td>2.077687</td>\n",
       "      <td>-0.454200</td>\n",
       "      <td>1.967933</td>\n",
       "      <td>-0.162050</td>\n",
       "      <td>345.114150</td>\n",
       "      <td>22.545450</td>\n",
       "    </tr>\n",
       "    <tr>\n",
       "      <th>2020-03-06 11:54:00</th>\n",
       "      <td>-2.524417</td>\n",
       "      <td>-0.509833</td>\n",
       "      <td>-0.050100</td>\n",
       "      <td>2.619920</td>\n",
       "      <td>-0.509833</td>\n",
       "      <td>2.524417</td>\n",
       "      <td>-0.050100</td>\n",
       "      <td>345.138100</td>\n",
       "      <td>22.587917</td>\n",
       "    </tr>\n",
       "  </tbody>\n",
       "</table>\n",
       "</div>"
      ],
      "text/plain": [
       "                            u         v         w  mean_wind        gu  \\\n",
       "time                                                                     \n",
       "2020-03-06 11:50:00 -0.794925 -0.179967 -0.063756   0.872782 -0.179967   \n",
       "2020-03-06 11:51:00 -2.398333 -0.442833 -0.079200   2.489221 -0.442833   \n",
       "2020-03-06 11:52:00 -2.438883 -0.460700 -0.070033   2.525843 -0.460700   \n",
       "2020-03-06 11:53:00 -1.967933 -0.454200 -0.162050   2.077687 -0.454200   \n",
       "2020-03-06 11:54:00 -2.524417 -0.509833 -0.050100   2.619920 -0.509833   \n",
       "\n",
       "                           gv        gw  sound_speed       temp  \n",
       "time                                                             \n",
       "2020-03-06 11:50:00  0.794925 -0.063756   345.114157  22.540835  \n",
       "2020-03-06 11:51:00  2.398333 -0.079200   345.121167  22.558767  \n",
       "2020-03-06 11:52:00  2.438883 -0.070033   345.119933  22.557000  \n",
       "2020-03-06 11:53:00  1.967933 -0.162050   345.114150  22.545450  \n",
       "2020-03-06 11:54:00  2.524417 -0.050100   345.138100  22.587917  "
      ]
     },
     "execution_count": 17,
     "metadata": {},
     "output_type": "execute_result"
    }
   ],
   "source": [
    "son20.index = pd.DatetimeIndex(son20.time)\n",
    "avg_time = '60S'\n",
    "u = (son20['u'].resample(avg_time).mean())\n",
    "v = (son20['v'].resample(avg_time).mean())\n",
    "w = (son20['w'].resample(avg_time).mean())\n",
    "mean_wind = (son20['mean_wind'].resample(avg_time).mean())\n",
    "gu = (son20['gu'].resample(avg_time).mean())\n",
    "gv = (son20['gv'].resample(avg_time).mean())\n",
    "gw = (son20['gw'].resample(avg_time).mean())\n",
    "sound_speed = (son20['sound_speed'].resample(avg_time).mean())\n",
    "temp = (son20['temp'].resample(avg_time).mean())\n",
    "\n",
    "data = {'u':u,\n",
    "        'v':v,\n",
    "        'w':w,\n",
    "        'mean_wind':mean_wind,\n",
    "        'gu':gu, \n",
    "        'gv':gv,\n",
    "        'gw':gw,\n",
    "        'sound_speed':sound_speed,\n",
    "        'temp':temp} \n",
    "son20_avg=pd.DataFrame(data)\n",
    "\n",
    "\n",
    "\n",
    "\n",
    "\n",
    "\n",
    "\n",
    "\n",
    "\n",
    "kes20 = pd.read_csv('kestrel_2020.csv',names=['time','ws'],header=0)\n",
    "kes20['time'] = pd.to_datetime(kes20['time'])\n",
    "\n",
    "## OFF TO LOW\n",
    "end_date = pd.Timestamp(2020,3,6,11,50,0)\n",
    "mask1 = (kes20['time'] <= end_date)\n",
    "kes20_1 = kes20.loc[mask1]\n",
    "\n",
    "\n",
    "kes20_1.index = pd.DatetimeIndex(kes20_1.time)\n",
    "avg_time = '60S'\n",
    "ws = (kes20_1['ws'].resample(avg_time).mean())\n",
    "data = {'ws':ws} \n",
    "kes20_avg_1=pd.DataFrame(data)\n",
    "kes20_avg_1\n",
    "\n",
    "## LOW TO OFF\n",
    "start_date = pd.Timestamp(2020,3,6,12,10,35)\n",
    "end_date = pd.Timestamp(2020,3,6,12,15,37)\n",
    "mask2 = (kes20['time'] > start_date) & (kes20['time'] <= end_date)\n",
    "kes20_2 = kes20.loc[mask2]\n",
    "\n",
    "\n",
    "kes20_2.index = pd.DatetimeIndex(kes20_2.time)\n",
    "avg_time = '60S'\n",
    "ws = (kes20_2['ws'].resample(avg_time).mean())\n",
    "data = {'ws':ws} \n",
    "kes20_avg_2=pd.DataFrame(data)\n",
    "kes20_avg_1"
   ]
  },
  {
   "cell_type": "code",
   "execution_count": null,
   "metadata": {},
   "outputs": [],
   "source": []
  }
 ],
 "metadata": {
  "kernelspec": {
   "display_name": "Python 3",
   "language": "python",
   "name": "python3"
  },
  "language_info": {
   "codemirror_mode": {
    "name": "ipython",
    "version": 3
   },
   "file_extension": ".py",
   "mimetype": "text/x-python",
   "name": "python",
   "nbconvert_exporter": "python",
   "pygments_lexer": "ipython3",
   "version": "3.7.3"
  }
 },
 "nbformat": 4,
 "nbformat_minor": 2
}
