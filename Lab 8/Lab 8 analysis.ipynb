{
 "cells": [
  {
   "cell_type": "code",
   "execution_count": 1,
   "metadata": {},
   "outputs": [],
   "source": [
    "import numpy as np\n",
    "import pandas as pd\n",
    "import matplotlib.pyplot as plt\n",
    "from scipy.stats import linregress\n",
    "import math\n",
    "from datetime import datetime"
   ]
  },
  {
   "cell_type": "markdown",
   "metadata": {},
   "source": [
    "#### Import Kestrel data and change year to 2015"
   ]
  },
  {
   "cell_type": "code",
   "execution_count": 2,
   "metadata": {},
   "outputs": [],
   "source": [
    "dtypes=[datetime, float]\n",
    "kes15 = pd.read_excel('Kestrel_data2015.xlsx',names=['time','ws'],header=3)\n",
    "kes15['time']=kes15['time'].apply((lambda x: x.replace(year=2015)))"
   ]
  },
  {
   "cell_type": "markdown",
   "metadata": {},
   "source": [
    "#### Import 2015 Sonic data "
   ]
  },
  {
   "cell_type": "code",
   "execution_count": 3,
   "metadata": {},
   "outputs": [],
   "source": [
    "son15 = pd.read_csv('2015_sonic_1230_start.txt', sep=\",\", header=None)\n",
    "son15.columns = ['u','v','w','sound_speed','temp']"
   ]
  },
  {
   "cell_type": "markdown",
   "metadata": {},
   "source": [
    "#### Import 2015 Pitot data "
   ]
  },
  {
   "cell_type": "code",
   "execution_count": 4,
   "metadata": {},
   "outputs": [],
   "source": [
    "pit15_test1 = pd.read_csv('WindTunnelCalibration2015_test1.csv',header=0)\n",
    "pit15_test1.columns = ['time','fan_rpm','air_temp','air_dens','press','ws']\n",
    "pit15_test1['time']=pit15_test1['time'].apply((lambda x: pd.to_datetime(x[-5:])))\n",
    "pit15_test1['time']=pit15_test1['time'].apply((lambda x: x.replace(year=2015)))\n",
    "pit15_test1['time']=pit15_test1['time'].apply((lambda x: x.replace(month=3)))\n",
    "pit15_test1['time']=pit15_test1['time'].apply((lambda x: x.replace(day=11)))"
   ]
  },
  {
   "cell_type": "code",
   "execution_count": 5,
   "metadata": {},
   "outputs": [],
   "source": [
    "pit15_test2=pd.read_csv('WindTunnelCalibration2015_test2.csv',header=0)\n",
    "pit15_test2.columns = ['time','fan_rpm','air_temp','air_dens','press','ws']\n",
    "pit15_test2['time']=pit15_test2['time'].apply((lambda x: pd.to_datetime(x[-5:])))\n",
    "pit15_test2['time']=pit15_test2['time'].apply((lambda x: x.replace(year=2015)))\n",
    "pit15_test2['time']=pit15_test2['time'].apply((lambda x: x.replace(month=3)))\n",
    "pit15_test2['time']=pit15_test2['time'].apply((lambda x: x.replace(day=11)))"
   ]
  },
  {
   "cell_type": "markdown",
   "metadata": {},
   "source": [
    "#### Import 2020 Kestrel data "
   ]
  },
  {
   "cell_type": "code",
   "execution_count": 6,
   "metadata": {},
   "outputs": [],
   "source": [
    "kes20=pd.read_csv('kestrel_2020.csv',header=0)\n",
    "kes20.columns = ['time','ws']"
   ]
  },
  {
   "cell_type": "markdown",
   "metadata": {},
   "source": [
    "#### Import 2020 Sonic data "
   ]
  },
  {
   "cell_type": "code",
   "execution_count": 7,
   "metadata": {},
   "outputs": [],
   "source": [
    "son20 = pd.read_csv('sonic_2020.csv', header=None)\n",
    "son20.columns = ['u','v','w','sound_speed','temp']"
   ]
  }
 ],
 "metadata": {
  "kernelspec": {
   "display_name": "Python 3",
   "language": "python",
   "name": "python3"
  },
  "language_info": {
   "codemirror_mode": {
    "name": "ipython",
    "version": 3
   },
   "file_extension": ".py",
   "mimetype": "text/x-python",
   "name": "python",
   "nbconvert_exporter": "python",
   "pygments_lexer": "ipython3",
   "version": "3.7.3"
  }
 },
 "nbformat": 4,
 "nbformat_minor": 2
}
