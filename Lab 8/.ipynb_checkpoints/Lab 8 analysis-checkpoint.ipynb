{
 "cells": [
  {
   "cell_type": "code",
   "execution_count": 1,
   "metadata": {},
   "outputs": [],
   "source": [
    "import numpy as np\n",
    "import pandas as pd\n",
    "import matplotlib.pyplot as plt\n",
    "from scipy.stats import linregress\n",
    "import math\n",
    "from datetime import datetime"
   ]
  },
  {
   "cell_type": "markdown",
   "metadata": {},
   "source": [
    "#### Import Kestrel data and change year to 2015"
   ]
  },
  {
   "cell_type": "code",
   "execution_count": 2,
   "metadata": {
    "scrolled": true
   },
   "outputs": [],
   "source": [
    "dtypes=[datetime, float]\n",
    "kes15 = pd.read_excel('Kestrel_data2015.xlsx',names=['time','ws'],header=3)\n",
    "kes15['time']=kes15['time'].apply((lambda x: x.replace(year=2015)))\n",
    "\n",
    "\n",
    "start_date = pd.Timestamp(2015,3,11,12,30,0)\n",
    "end_date = pd.Timestamp(2015,3,11,13,5,0)\n",
    "mask1 = (kes15['time'] > start_date) & (kes15['time'] <= end_date)\n",
    "kes15_1 = kes15.loc[mask1]\n",
    "\n",
    "\n",
    "start_date = pd.Timestamp(2015,3,11,13,10,0)\n",
    "end_date = pd.Timestamp(2015,3,11,13,30,0)\n",
    "mask2=(kes15['time'] > start_date) & (kes15['time'] <= end_date)\n",
    "kes15_2 = kes15.loc[mask2]\n"
   ]
  },
  {
   "cell_type": "markdown",
   "metadata": {},
   "source": [
    "#### Import 2015 Pitot data "
   ]
  },
  {
   "cell_type": "code",
   "execution_count": 3,
   "metadata": {},
   "outputs": [],
   "source": [
    "pit15_1 = pd.read_csv('WindTunnelCalibration2015_test1.csv',header=0)\n",
    "pit15_1.columns = ['time','fan_rpm','air_temp','air_dens','press','ws']\n",
    "pit15_1['time']=pit15_1['time'].apply((lambda x: pd.to_datetime(x[-5:])))\n",
    "pit15_1['time']=pit15_1['time'].apply((lambda x: x.replace(year=2015)))\n",
    "pit15_1['time']=pit15_1['time'].apply((lambda x: x.replace(month=3)))\n",
    "pit15_1['time']=pit15_1['time'].apply((lambda x: x.replace(day=11)))"
   ]
  },
  {
   "cell_type": "code",
   "execution_count": 4,
   "metadata": {},
   "outputs": [],
   "source": [
    "pit15_2=pd.read_csv('WindTunnelCalibration2015_test2.csv',header=0)\n",
    "pit15_2.columns = ['time','fan_rpm','air_temp','air_dens','press','ws']\n",
    "pit15_2['time']=pit15_2['time'].apply((lambda x: pd.to_datetime(x[-5:])))\n",
    "pit15_2['time']=pit15_2['time'].apply((lambda x: x.replace(year=2015)))\n",
    "pit15_2['time']=pit15_2['time'].apply((lambda x: x.replace(month=3)))\n",
    "pit15_2['time']=pit15_2['time'].apply((lambda x: x.replace(day=11)))"
   ]
  },
  {
   "cell_type": "markdown",
   "metadata": {},
   "source": [
    "#### Import 2015 Sonic data "
   ]
  },
  {
   "cell_type": "code",
   "execution_count": 5,
   "metadata": {},
   "outputs": [],
   "source": [
    "son15 = pd.read_csv('2015_sonic_1230_start.txt', sep=\",\", header=None)\n",
    "son15.columns = ['gu','gv','gw','sound_speed','temp']\n",
    "N=len(son15)\n",
    "freq= 10   #Hz\n",
    "dt= str(1/freq)+'S'   #seconds \n",
    "start_time=pd.Timestamp(2015,3,11,12,30,0.0)\n",
    "time = pd.date_range(start = start_time,periods=N,freq=dt)\n",
    "son15.insert(0,'time',time,True)\n",
    "son15 = son15[son15.gu < 20]\n",
    "son15 = son15[son15.gv < 20]"
   ]
  },
  {
   "cell_type": "markdown",
   "metadata": {},
   "source": [
    "#### Uncomment to average"
   ]
  },
  {
   "cell_type": "code",
   "execution_count": 6,
   "metadata": {},
   "outputs": [],
   "source": [
    "# son15_raw.index = pd.DatetimeIndex(son15_raw.time)\n",
    "# avg_time = '10S'\n",
    "# gu = (son15_raw['gu'].resample(avg_time).mean())\n",
    "# gv = (son15_raw['gv'].resample(avg_time).mean())\n",
    "# gw = (son15_raw['gw'].resample(avg_time).mean())\n",
    "# sound_speed = (son15_raw['sound_speed'].resample(avg_time).mean())\n",
    "# temp = (son15_raw['temp'].resample(avg_time).mean())\n",
    "\n",
    "# data = {'gu':gu, \n",
    "#         'gv':gv,\n",
    "#         'gw':gw,\n",
    "#         'sound_speed':sound_speed,\n",
    "#         'temp':temp} \n",
    "# son15=pd.DataFrame(data)\n",
    "# son15.reset_index(drop=False, inplace=True)\n",
    "# son15.head()"
   ]
  },
  {
   "cell_type": "markdown",
   "metadata": {},
   "source": [
    "#### Convert Gill to Met"
   ]
  },
  {
   "cell_type": "code",
   "execution_count": 7,
   "metadata": {},
   "outputs": [],
   "source": [
    "def convert_gill_to_met(gu,gv,gw):\n",
    "    w = [x for x in gw]\n",
    "    u = [-x for x in gv]\n",
    "    v = [x for x in gu]\n",
    "    \n",
    "    return [u,v,w]\n",
    "\n",
    "\n",
    "def find_alpha(u,v):\n",
    "    dirs=[]\n",
    "    for i in range(len(u)):\n",
    "    \n",
    "        if u[i] > 0:\n",
    "            alpha = 90 - np.arctan(v[i]/u[i])+180\n",
    "        elif u[i] < 0:\n",
    "            alpha = 90 - np.arctan(v[i]/u[i])\n",
    "        else:\n",
    "            if v[i]>0:\n",
    "                alpha = 0\n",
    "            else:\n",
    "                alpha = 180\n",
    "            \n",
    "        dirs.append(alpha)\n",
    "\n",
    "    return dirs\n",
    "\n",
    "\n",
    "def mean_horizontal_wind(u,v):\n",
    "    mean_winds=[]\n",
    "    for i in range(len(u)):\n",
    "        M = np.sqrt((u[i])**2 + (v[i])**2)\n",
    "        mean_winds.append(M)\n",
    "    return mean_winds"
   ]
  },
  {
   "cell_type": "code",
   "execution_count": 8,
   "metadata": {},
   "outputs": [
    {
     "data": {
      "text/html": [
       "<div>\n",
       "<style scoped>\n",
       "    .dataframe tbody tr th:only-of-type {\n",
       "        vertical-align: middle;\n",
       "    }\n",
       "\n",
       "    .dataframe tbody tr th {\n",
       "        vertical-align: top;\n",
       "    }\n",
       "\n",
       "    .dataframe thead th {\n",
       "        text-align: right;\n",
       "    }\n",
       "</style>\n",
       "<table border=\"1\" class=\"dataframe\">\n",
       "  <thead>\n",
       "    <tr style=\"text-align: right;\">\n",
       "      <th></th>\n",
       "      <th>time</th>\n",
       "      <th>u</th>\n",
       "      <th>v</th>\n",
       "      <th>w</th>\n",
       "      <th>mean_wind</th>\n",
       "      <th>gu</th>\n",
       "      <th>gv</th>\n",
       "      <th>gw</th>\n",
       "      <th>sound_speed</th>\n",
       "      <th>temp</th>\n",
       "    </tr>\n",
       "  </thead>\n",
       "  <tbody>\n",
       "    <tr>\n",
       "      <th>0</th>\n",
       "      <td>2015-03-11 12:30:00.000</td>\n",
       "      <td>2.10</td>\n",
       "      <td>-0.08</td>\n",
       "      <td>0.01</td>\n",
       "      <td>2.101523</td>\n",
       "      <td>-0.08</td>\n",
       "      <td>-2.10</td>\n",
       "      <td>0.01</td>\n",
       "      <td>343.95</td>\n",
       "      <td>20.56</td>\n",
       "    </tr>\n",
       "    <tr>\n",
       "      <th>1</th>\n",
       "      <td>2015-03-11 12:30:00.100</td>\n",
       "      <td>2.12</td>\n",
       "      <td>-0.09</td>\n",
       "      <td>0.01</td>\n",
       "      <td>2.121910</td>\n",
       "      <td>-0.09</td>\n",
       "      <td>-2.12</td>\n",
       "      <td>0.01</td>\n",
       "      <td>343.95</td>\n",
       "      <td>20.56</td>\n",
       "    </tr>\n",
       "    <tr>\n",
       "      <th>2</th>\n",
       "      <td>2015-03-11 12:30:00.200</td>\n",
       "      <td>2.12</td>\n",
       "      <td>-0.10</td>\n",
       "      <td>0.01</td>\n",
       "      <td>2.122357</td>\n",
       "      <td>-0.10</td>\n",
       "      <td>-2.12</td>\n",
       "      <td>0.01</td>\n",
       "      <td>343.96</td>\n",
       "      <td>20.57</td>\n",
       "    </tr>\n",
       "    <tr>\n",
       "      <th>3</th>\n",
       "      <td>2015-03-11 12:30:00.300</td>\n",
       "      <td>2.13</td>\n",
       "      <td>-0.12</td>\n",
       "      <td>0.01</td>\n",
       "      <td>2.133378</td>\n",
       "      <td>-0.12</td>\n",
       "      <td>-2.13</td>\n",
       "      <td>0.01</td>\n",
       "      <td>343.96</td>\n",
       "      <td>20.57</td>\n",
       "    </tr>\n",
       "    <tr>\n",
       "      <th>4</th>\n",
       "      <td>2015-03-11 12:30:00.400</td>\n",
       "      <td>2.14</td>\n",
       "      <td>-0.14</td>\n",
       "      <td>0.01</td>\n",
       "      <td>2.144575</td>\n",
       "      <td>-0.14</td>\n",
       "      <td>-2.14</td>\n",
       "      <td>0.01</td>\n",
       "      <td>343.97</td>\n",
       "      <td>20.59</td>\n",
       "    </tr>\n",
       "  </tbody>\n",
       "</table>\n",
       "</div>"
      ],
      "text/plain": [
       "                     time     u     v     w  mean_wind    gu    gv    gw  \\\n",
       "0 2015-03-11 12:30:00.000  2.10 -0.08  0.01   2.101523 -0.08 -2.10  0.01   \n",
       "1 2015-03-11 12:30:00.100  2.12 -0.09  0.01   2.121910 -0.09 -2.12  0.01   \n",
       "2 2015-03-11 12:30:00.200  2.12 -0.10  0.01   2.122357 -0.10 -2.12  0.01   \n",
       "3 2015-03-11 12:30:00.300  2.13 -0.12  0.01   2.133378 -0.12 -2.13  0.01   \n",
       "4 2015-03-11 12:30:00.400  2.14 -0.14  0.01   2.144575 -0.14 -2.14  0.01   \n",
       "\n",
       "   sound_speed   temp  \n",
       "0       343.95  20.56  \n",
       "1       343.95  20.56  \n",
       "2       343.96  20.57  \n",
       "3       343.96  20.57  \n",
       "4       343.97  20.59  "
      ]
     },
     "execution_count": 8,
     "metadata": {},
     "output_type": "execute_result"
    }
   ],
   "source": [
    "met_dirs15 = convert_gill_to_met(son15['gu'],son15['gv'],son15['gw'])\n",
    "u15=met_dirs15[0]\n",
    "v15=met_dirs15[1]\n",
    "w15=met_dirs15[2]\n",
    "M15 = mean_horizontal_wind(u15,v15)\n",
    "son15.insert(1,'u',u15,True)\n",
    "son15.insert(2,'v',v15,True)\n",
    "son15.insert(3,'w',w15,True)\n",
    "son15.insert(4,'mean_wind',M15,True)\n",
    "son15.head()"
   ]
  },
  {
   "cell_type": "code",
   "execution_count": 9,
   "metadata": {},
   "outputs": [],
   "source": [
    "start_date = pd.Timestamp(2015,3,11,12,30,00.000)\n",
    "end_date = pd.Timestamp(2015,3,11,13,5,00.000)\n",
    "mask1 = (son15['time'] > start_date) & (son15['time'] <= end_date)\n",
    "son15_1 = son15.loc[mask1]\n",
    "\n",
    "\n",
    "start_date = pd.Timestamp(2015,3,11,13,10,00.000)\n",
    "end_date = pd.Timestamp(2015,3,11,13,30,00.000)\n",
    "mask2=(son15['time'] > start_date) & (son15['time'] <= end_date)\n",
    "son15_2 = son15.loc[mask2]"
   ]
  },
  {
   "cell_type": "markdown",
   "metadata": {},
   "source": [
    "#### Plot wind trace for test 1 2015"
   ]
  },
  {
   "cell_type": "code",
   "execution_count": 10,
   "metadata": {},
   "outputs": [
    {
     "name": "stderr",
     "output_type": "stream",
     "text": [
      "c:\\users\\pearl\\miniconda3\\envs\\e350\\lib\\site-packages\\pandas\\plotting\\_converter.py:129: FutureWarning: Using an implicitly registered datetime converter for a matplotlib plotting method. The converter was registered by pandas on import. Future versions of pandas will require you to explicitly register matplotlib converters.\n",
      "\n",
      "To register the converters:\n",
      "\t>>> from pandas.plotting import register_matplotlib_converters\n",
      "\t>>> register_matplotlib_converters()\n",
      "  warnings.warn(msg, FutureWarning)\n"
     ]
    },
    {
     "data": {
      "text/plain": [
       "Text(0.5,1,'Wind Speed Traces Test 1 2015')"
      ]
     },
     "execution_count": 10,
     "metadata": {},
     "output_type": "execute_result"
    },
    {
     "data": {
      "image/png": "[encoded data removed]",
      "text/plain": [
       "<Figure size 432x288 with 1 Axes>"
      ]
     },
     "metadata": {
      "needs_background": "light"
     },
     "output_type": "display_data"
    }
   ],
   "source": [
    "plt.plot(kes15_1['time'],kes15_1['ws'])\n",
    "plt.plot(pit15_1['time'],pit15_1['ws'])\n",
    "plt.plot(son15_1['time'],son15_1['mean_wind'],linewidth =0.51)\n",
    "plt.legend(['kestrel','pitot','sonic'])\n",
    "plt.xticks(rotation=50)\n",
    "plt.ylabel('Wind Speed')\n",
    "plt.xlabel('Time')\n",
    "plt.title('Wind Speed Traces Test 1 2015')"
   ]
  },
  {
   "cell_type": "code",
   "execution_count": 11,
   "metadata": {},
   "outputs": [
    {
     "data": {
      "text/plain": [
       "Text(0.5,1,'Wind Speed Traces Test 2 2015')"
      ]
     },
     "execution_count": 11,
     "metadata": {},
     "output_type": "execute_result"
    },
    {
     "data": {
      "image/png": "[encoded data removed]",
      "text/plain": [
       "<Figure size 432x288 with 1 Axes>"
      ]
     },
     "metadata": {
      "needs_background": "light"
     },
     "output_type": "display_data"
    }
   ],
   "source": [
    "plt.plot(kes15_2['time'],kes15_2['ws'])\n",
    "plt.plot(pit15_2['time'],pit15_2['ws'])\n",
    "plt.plot(son15_2['time'],son15_2['mean_wind'],linewidth =0.51)\n",
    "plt.legend(['kestrel','pitot','sonic'])\n",
    "plt.xticks(rotation=50)\n",
    "plt.ylabel('Wind Speed')\n",
    "plt.xlabel('Time')\n",
    "plt.title('Wind Speed Traces Test 2 2015')"
   ]
  },
  {
   "cell_type": "markdown",
   "metadata": {},
   "source": [
    "#### Import 2020 Kestrel data "
   ]
  },
  {
   "cell_type": "code",
   "execution_count": 12,
   "metadata": {},
   "outputs": [
    {
     "data": {
      "text/html": [
       "<div>\n",
       "<style scoped>\n",
       "    .dataframe tbody tr th:only-of-type {\n",
       "        vertical-align: middle;\n",
       "    }\n",
       "\n",
       "    .dataframe tbody tr th {\n",
       "        vertical-align: top;\n",
       "    }\n",
       "\n",
       "    .dataframe thead th {\n",
       "        text-align: right;\n",
       "    }\n",
       "</style>\n",
       "<table border=\"1\" class=\"dataframe\">\n",
       "  <thead>\n",
       "    <tr style=\"text-align: right;\">\n",
       "      <th></th>\n",
       "      <th>time</th>\n",
       "      <th>ws</th>\n",
       "    </tr>\n",
       "  </thead>\n",
       "  <tbody>\n",
       "    <tr>\n",
       "      <th>0</th>\n",
       "      <td>2020-03-06 11:49</td>\n",
       "      <td>0.0</td>\n",
       "    </tr>\n",
       "    <tr>\n",
       "      <th>1</th>\n",
       "      <td>2020-03-06 11:49</td>\n",
       "      <td>0.0</td>\n",
       "    </tr>\n",
       "    <tr>\n",
       "      <th>2</th>\n",
       "      <td>2020-03-06 11:49</td>\n",
       "      <td>0.0</td>\n",
       "    </tr>\n",
       "    <tr>\n",
       "      <th>3</th>\n",
       "      <td>2020-03-06 11:49</td>\n",
       "      <td>0.0</td>\n",
       "    </tr>\n",
       "    <tr>\n",
       "      <th>4</th>\n",
       "      <td>2020-03-06 11:49</td>\n",
       "      <td>0.0</td>\n",
       "    </tr>\n",
       "  </tbody>\n",
       "</table>\n",
       "</div>"
      ],
      "text/plain": [
       "               time   ws\n",
       "0  2020-03-06 11:49  0.0\n",
       "1  2020-03-06 11:49  0.0\n",
       "2  2020-03-06 11:49  0.0\n",
       "3  2020-03-06 11:49  0.0\n",
       "4  2020-03-06 11:49  0.0"
      ]
     },
     "execution_count": 12,
     "metadata": {},
     "output_type": "execute_result"
    }
   ],
   "source": [
    "kes20=pd.read_csv('kestrel_2020.csv',header=0)\n",
    "kes20.columns = ['time','ws']\n",
    "freq=0.2  #Hz\n",
    "kes20.head()"
   ]
  },
  {
   "cell_type": "markdown",
   "metadata": {},
   "source": [
    "#### Import 2020 Sonic data "
   ]
  },
  {
   "cell_type": "code",
   "execution_count": 13,
   "metadata": {},
   "outputs": [
    {
     "data": {
      "text/html": [
       "<div>\n",
       "<style scoped>\n",
       "    .dataframe tbody tr th:only-of-type {\n",
       "        vertical-align: middle;\n",
       "    }\n",
       "\n",
       "    .dataframe tbody tr th {\n",
       "        vertical-align: top;\n",
       "    }\n",
       "\n",
       "    .dataframe thead th {\n",
       "        text-align: right;\n",
       "    }\n",
       "</style>\n",
       "<table border=\"1\" class=\"dataframe\">\n",
       "  <thead>\n",
       "    <tr style=\"text-align: right;\">\n",
       "      <th></th>\n",
       "      <th>time</th>\n",
       "      <th>gu</th>\n",
       "      <th>gv</th>\n",
       "      <th>gw</th>\n",
       "      <th>sound_speed</th>\n",
       "      <th>temp</th>\n",
       "    </tr>\n",
       "  </thead>\n",
       "  <tbody>\n",
       "    <tr>\n",
       "      <th>0</th>\n",
       "      <td>2020-03-06 11:49:00.000</td>\n",
       "      <td>0.03</td>\n",
       "      <td>0.03</td>\n",
       "      <td>-0.04</td>\n",
       "      <td>345.00</td>\n",
       "      <td>22.34</td>\n",
       "    </tr>\n",
       "    <tr>\n",
       "      <th>1</th>\n",
       "      <td>2020-03-06 11:49:00.100</td>\n",
       "      <td>0.03</td>\n",
       "      <td>0.03</td>\n",
       "      <td>-0.05</td>\n",
       "      <td>345.01</td>\n",
       "      <td>22.36</td>\n",
       "    </tr>\n",
       "    <tr>\n",
       "      <th>2</th>\n",
       "      <td>2020-03-06 11:49:00.200</td>\n",
       "      <td>0.02</td>\n",
       "      <td>0.03</td>\n",
       "      <td>-0.04</td>\n",
       "      <td>345.01</td>\n",
       "      <td>22.36</td>\n",
       "    </tr>\n",
       "    <tr>\n",
       "      <th>3</th>\n",
       "      <td>2020-03-06 11:49:00.300</td>\n",
       "      <td>0.02</td>\n",
       "      <td>0.03</td>\n",
       "      <td>-0.04</td>\n",
       "      <td>345.01</td>\n",
       "      <td>22.36</td>\n",
       "    </tr>\n",
       "    <tr>\n",
       "      <th>4</th>\n",
       "      <td>2020-03-06 11:49:00.400</td>\n",
       "      <td>0.02</td>\n",
       "      <td>0.02</td>\n",
       "      <td>-0.04</td>\n",
       "      <td>345.01</td>\n",
       "      <td>22.36</td>\n",
       "    </tr>\n",
       "  </tbody>\n",
       "</table>\n",
       "</div>"
      ],
      "text/plain": [
       "                     time    gu    gv    gw  sound_speed   temp\n",
       "0 2020-03-06 11:49:00.000  0.03  0.03 -0.04       345.00  22.34\n",
       "1 2020-03-06 11:49:00.100  0.03  0.03 -0.05       345.01  22.36\n",
       "2 2020-03-06 11:49:00.200  0.02  0.03 -0.04       345.01  22.36\n",
       "3 2020-03-06 11:49:00.300  0.02  0.03 -0.04       345.01  22.36\n",
       "4 2020-03-06 11:49:00.400  0.02  0.02 -0.04       345.01  22.36"
      ]
     },
     "execution_count": 13,
     "metadata": {},
     "output_type": "execute_result"
    }
   ],
   "source": [
    "son20 = pd.read_csv('sonic_2020.csv', header=None)\n",
    "son20.columns = ['gu','gv','gw','sound_speed','temp']\n",
    "N=len(son20)\n",
    "freq= 10   #Hz\n",
    "dt= str(1/freq)+'S'   #seconds \n",
    "\n",
    "# T=len(son20)*dt   #seconds\n",
    "# start_time=pd.Timestamp(2020,3,6,11,49,0.0)\n",
    "# end_time = start_time + pd.Timedelta(seconds=T)\n",
    "\n",
    "start_time=kes20['time'][0]\n",
    "time = pd.date_range(start = start_time,periods=N,freq=dt)\n",
    "son20.insert(0,'time',time,True)\n",
    "son20.head()"
   ]
  },
  {
   "cell_type": "code",
   "execution_count": 14,
   "metadata": {},
   "outputs": [
    {
     "data": {
      "text/html": [
       "<div>\n",
       "<style scoped>\n",
       "    .dataframe tbody tr th:only-of-type {\n",
       "        vertical-align: middle;\n",
       "    }\n",
       "\n",
       "    .dataframe tbody tr th {\n",
       "        vertical-align: top;\n",
       "    }\n",
       "\n",
       "    .dataframe thead th {\n",
       "        text-align: right;\n",
       "    }\n",
       "</style>\n",
       "<table border=\"1\" class=\"dataframe\">\n",
       "  <thead>\n",
       "    <tr style=\"text-align: right;\">\n",
       "      <th></th>\n",
       "      <th>time</th>\n",
       "      <th>u</th>\n",
       "      <th>v</th>\n",
       "      <th>w</th>\n",
       "      <th>mean_wind</th>\n",
       "      <th>gu</th>\n",
       "      <th>gv</th>\n",
       "      <th>gw</th>\n",
       "      <th>sound_speed</th>\n",
       "      <th>temp</th>\n",
       "    </tr>\n",
       "  </thead>\n",
       "  <tbody>\n",
       "    <tr>\n",
       "      <th>0</th>\n",
       "      <td>2020-03-06 11:49:00.000</td>\n",
       "      <td>-0.03</td>\n",
       "      <td>0.03</td>\n",
       "      <td>-0.04</td>\n",
       "      <td>0.042426</td>\n",
       "      <td>0.03</td>\n",
       "      <td>0.03</td>\n",
       "      <td>-0.04</td>\n",
       "      <td>345.00</td>\n",
       "      <td>22.34</td>\n",
       "    </tr>\n",
       "    <tr>\n",
       "      <th>1</th>\n",
       "      <td>2020-03-06 11:49:00.100</td>\n",
       "      <td>-0.03</td>\n",
       "      <td>0.03</td>\n",
       "      <td>-0.05</td>\n",
       "      <td>0.042426</td>\n",
       "      <td>0.03</td>\n",
       "      <td>0.03</td>\n",
       "      <td>-0.05</td>\n",
       "      <td>345.01</td>\n",
       "      <td>22.36</td>\n",
       "    </tr>\n",
       "    <tr>\n",
       "      <th>2</th>\n",
       "      <td>2020-03-06 11:49:00.200</td>\n",
       "      <td>-0.03</td>\n",
       "      <td>0.02</td>\n",
       "      <td>-0.04</td>\n",
       "      <td>0.036056</td>\n",
       "      <td>0.02</td>\n",
       "      <td>0.03</td>\n",
       "      <td>-0.04</td>\n",
       "      <td>345.01</td>\n",
       "      <td>22.36</td>\n",
       "    </tr>\n",
       "    <tr>\n",
       "      <th>3</th>\n",
       "      <td>2020-03-06 11:49:00.300</td>\n",
       "      <td>-0.03</td>\n",
       "      <td>0.02</td>\n",
       "      <td>-0.04</td>\n",
       "      <td>0.036056</td>\n",
       "      <td>0.02</td>\n",
       "      <td>0.03</td>\n",
       "      <td>-0.04</td>\n",
       "      <td>345.01</td>\n",
       "      <td>22.36</td>\n",
       "    </tr>\n",
       "    <tr>\n",
       "      <th>4</th>\n",
       "      <td>2020-03-06 11:49:00.400</td>\n",
       "      <td>-0.02</td>\n",
       "      <td>0.02</td>\n",
       "      <td>-0.04</td>\n",
       "      <td>0.028284</td>\n",
       "      <td>0.02</td>\n",
       "      <td>0.02</td>\n",
       "      <td>-0.04</td>\n",
       "      <td>345.01</td>\n",
       "      <td>22.36</td>\n",
       "    </tr>\n",
       "  </tbody>\n",
       "</table>\n",
       "</div>"
      ],
      "text/plain": [
       "                     time     u     v     w  mean_wind    gu    gv    gw  \\\n",
       "0 2020-03-06 11:49:00.000 -0.03  0.03 -0.04   0.042426  0.03  0.03 -0.04   \n",
       "1 2020-03-06 11:49:00.100 -0.03  0.03 -0.05   0.042426  0.03  0.03 -0.05   \n",
       "2 2020-03-06 11:49:00.200 -0.03  0.02 -0.04   0.036056  0.02  0.03 -0.04   \n",
       "3 2020-03-06 11:49:00.300 -0.03  0.02 -0.04   0.036056  0.02  0.03 -0.04   \n",
       "4 2020-03-06 11:49:00.400 -0.02  0.02 -0.04   0.028284  0.02  0.02 -0.04   \n",
       "\n",
       "   sound_speed   temp  \n",
       "0       345.00  22.34  \n",
       "1       345.01  22.36  \n",
       "2       345.01  22.36  \n",
       "3       345.01  22.36  \n",
       "4       345.01  22.36  "
      ]
     },
     "execution_count": 14,
     "metadata": {},
     "output_type": "execute_result"
    }
   ],
   "source": [
    "met_dirs20 = convert_gill_to_met(son20['gu'],son20['gv'],son20['gw'])\n",
    "u20=met_dirs20[0]\n",
    "v20=met_dirs20[1]\n",
    "w20=met_dirs20[2]\n",
    "M20 = mean_horizontal_wind(u20,v20)\n",
    "son20.insert(1,'u',u20,True)\n",
    "son20.insert(2,'v',v20,True)\n",
    "son20.insert(3,'w',w20,True)\n",
    "son20.insert(4,'mean_wind',M20,True)\n",
    "son20.head()"
   ]
  },
  {
   "cell_type": "code",
   "execution_count": null,
   "metadata": {},
   "outputs": [],
   "source": []
  }
 ],
 "metadata": {
  "kernelspec": {
   "display_name": "Python 3",
   "language": "python",
   "name": "python3"
  },
  "language_info": {
   "codemirror_mode": {
    "name": "ipython",
    "version": 3
   },
   "file_extension": ".py",
   "mimetype": "text/x-python",
   "name": "python",
   "nbconvert_exporter": "python",
   "pygments_lexer": "ipython3",
   "version": "3.7.3"
  }
 },
 "nbformat": 4,
 "nbformat_minor": 2
}
