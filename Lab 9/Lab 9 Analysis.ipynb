{
 "cells": [
  {
   "cell_type": "code",
   "execution_count": 23,
   "metadata": {},
   "outputs": [],
   "source": [
    "import numpy as np\n",
    "import pandas as pd\n",
    "import collections\n",
    "import matplotlib.pyplot as plt\n",
    "from scipy.stats import linregress\n",
    "import math\n",
    "from datetime import datetime\n",
    "import warnings\n",
    "warnings.filterwarnings('ignore')\n",
    "from numpy import trapz\n",
    "plt.style.use('seaborn-darkgrid')"
   ]
  },
  {
   "cell_type": "markdown",
   "metadata": {},
   "source": [
    "# Download Data Part 1"
   ]
  },
  {
   "cell_type": "code",
   "execution_count": 28,
   "metadata": {},
   "outputs": [
    {
     "data": {
      "text/html": [
       "<div>\n",
       "<style scoped>\n",
       "    .dataframe tbody tr th:only-of-type {\n",
       "        vertical-align: middle;\n",
       "    }\n",
       "\n",
       "    .dataframe tbody tr th {\n",
       "        vertical-align: top;\n",
       "    }\n",
       "\n",
       "    .dataframe thead th {\n",
       "        text-align: right;\n",
       "    }\n",
       "</style>\n",
       "<table border=\"1\" class=\"dataframe\">\n",
       "  <thead>\n",
       "    <tr style=\"text-align: right;\">\n",
       "      <th></th>\n",
       "      <th>time</th>\n",
       "      <th>sw_up</th>\n",
       "      <th>sw_down</th>\n",
       "      <th>lw_up</th>\n",
       "      <th>lw_down</th>\n",
       "      <th>body_temp_C</th>\n",
       "      <th>body_temp_K</th>\n",
       "      <th>tc_lw_up</th>\n",
       "      <th>tc_lw_down</th>\n",
       "      <th>net</th>\n",
       "      <th>sky_temp</th>\n",
       "      <th>g_temp</th>\n",
       "    </tr>\n",
       "  </thead>\n",
       "  <tbody>\n",
       "    <tr>\n",
       "      <th>0</th>\n",
       "      <td>2020-03-13 11:23:00</td>\n",
       "      <td>2.102</td>\n",
       "      <td>0.162</td>\n",
       "      <td>8.14</td>\n",
       "      <td>1.671</td>\n",
       "      <td>21.55</td>\n",
       "      <td>294.7</td>\n",
       "      <td>435.8</td>\n",
       "      <td>429.3</td>\n",
       "      <td>8.41</td>\n",
       "      <td>22.94</td>\n",
       "      <td>21.83</td>\n",
       "    </tr>\n",
       "    <tr>\n",
       "      <th>1</th>\n",
       "      <td>2020-03-13 11:23:10</td>\n",
       "      <td>2.102</td>\n",
       "      <td>0.129</td>\n",
       "      <td>8.12</td>\n",
       "      <td>1.639</td>\n",
       "      <td>21.56</td>\n",
       "      <td>294.7</td>\n",
       "      <td>435.8</td>\n",
       "      <td>429.3</td>\n",
       "      <td>8.45</td>\n",
       "      <td>22.95</td>\n",
       "      <td>21.84</td>\n",
       "    </tr>\n",
       "    <tr>\n",
       "      <th>2</th>\n",
       "      <td>2020-03-13 11:23:20</td>\n",
       "      <td>2.135</td>\n",
       "      <td>0.151</td>\n",
       "      <td>8.05</td>\n",
       "      <td>1.606</td>\n",
       "      <td>21.56</td>\n",
       "      <td>294.7</td>\n",
       "      <td>435.8</td>\n",
       "      <td>429.3</td>\n",
       "      <td>8.43</td>\n",
       "      <td>22.94</td>\n",
       "      <td>21.83</td>\n",
       "    </tr>\n",
       "    <tr>\n",
       "      <th>3</th>\n",
       "      <td>2020-03-13 11:23:30</td>\n",
       "      <td>2.124</td>\n",
       "      <td>0.140</td>\n",
       "      <td>8.10</td>\n",
       "      <td>1.639</td>\n",
       "      <td>21.56</td>\n",
       "      <td>294.7</td>\n",
       "      <td>435.8</td>\n",
       "      <td>429.4</td>\n",
       "      <td>8.44</td>\n",
       "      <td>22.95</td>\n",
       "      <td>21.84</td>\n",
       "    </tr>\n",
       "    <tr>\n",
       "      <th>4</th>\n",
       "      <td>2020-03-13 11:23:40</td>\n",
       "      <td>2.081</td>\n",
       "      <td>0.108</td>\n",
       "      <td>8.30</td>\n",
       "      <td>1.649</td>\n",
       "      <td>21.56</td>\n",
       "      <td>294.7</td>\n",
       "      <td>436.0</td>\n",
       "      <td>429.4</td>\n",
       "      <td>8.62</td>\n",
       "      <td>22.98</td>\n",
       "      <td>21.85</td>\n",
       "    </tr>\n",
       "  </tbody>\n",
       "</table>\n",
       "</div>"
      ],
      "text/plain": [
       "                 time  sw_up  sw_down  lw_up  lw_down  body_temp_C  \\\n",
       "0 2020-03-13 11:23:00  2.102    0.162   8.14    1.671        21.55   \n",
       "1 2020-03-13 11:23:10  2.102    0.129   8.12    1.639        21.56   \n",
       "2 2020-03-13 11:23:20  2.135    0.151   8.05    1.606        21.56   \n",
       "3 2020-03-13 11:23:30  2.124    0.140   8.10    1.639        21.56   \n",
       "4 2020-03-13 11:23:40  2.081    0.108   8.30    1.649        21.56   \n",
       "\n",
       "   body_temp_K  tc_lw_up  tc_lw_down   net  sky_temp  g_temp  \n",
       "0        294.7     435.8       429.3  8.41     22.94   21.83  \n",
       "1        294.7     435.8       429.3  8.45     22.95   21.84  \n",
       "2        294.7     435.8       429.3  8.43     22.94   21.83  \n",
       "3        294.7     435.8       429.4  8.44     22.95   21.84  \n",
       "4        294.7     436.0       429.4  8.62     22.98   21.85  "
      ]
     },
     "execution_count": 28,
     "metadata": {},
     "output_type": "execute_result"
    }
   ],
   "source": [
    "col_names = ['time','sw_up','sw_down','lw_up','lw_down','body_temp_C','body_temp_K','tc_lw_up','tc_lw_down','net','sky_temp','g_temp']\n",
    "cols=[0,2,3,4,5,6,7,8,9,10,11,12]\n",
    "solar = pd.read_csv('deere_CR3000_CNR1.csv',header=3,names=col_names,usecols=cols,parse_dates=['time'])\n",
    "\n",
    "start_date = pd.Timestamp(2020,3,13,11,42,0)\n",
    "end_date = pd.Timestamp(2020,3,13,11,56,30)\n",
    "mask1 = (solar['time'] > start_date) & (solar['time'] <= end_date)\n",
    "solar_part1 = solar.loc[mask1]\n",
    "\n",
    "start_date = pd.Timestamp(2020,3,13,12,0,0)\n",
    "end_date = pd.Timestamp(2020,3,13,12,9,30)\n",
    "mask2 = (solar['time'] > start_date) & (solar['time'] <= end_date)\n",
    "solar_part2 = solar.loc[mask2]\n",
    "solar.head()"
   ]
  },
  {
   "cell_type": "markdown",
   "metadata": {},
   "source": [
    "#### Plot downwelling and upwelling sw radiation"
   ]
  },
  {
   "cell_type": "code",
   "execution_count": 29,
   "metadata": {},
   "outputs": [
    {
     "data": {
      "text/plain": [
       "Text(0.5,1,'Shortwave Radiation')"
      ]
     },
     "execution_count": 29,
     "metadata": {},
     "output_type": "execute_result"
    },
    {
     "data": {
      "image/png": "[encoded data removed]",
      "text/plain": [
       "<Figure size 720x360 with 1 Axes>"
      ]
     },
     "metadata": {},
     "output_type": "display_data"
    }
   ],
   "source": [
    "plt.figure(figsize=(10,5))\n",
    "plt.plot(solar_part1['time'],solar_part1['sw_up'])\n",
    "plt.plot(solar_part1['time'],solar_part1['sw_down'])\n",
    "\n",
    "speed_times=[pd.Timestamp(2020,3,13,11,43,0),pd.Timestamp(2020,3,13,11,47,0),\n",
    "             pd.Timestamp(2020,3,13,11,50,45)]\n",
    "\n",
    "plt.vlines(speed_times,-0.2,12.5,linestyle = '--')\n",
    "plt.legend(['Downwelling','Upwelling'],fontsize=14)\n",
    "plt.xticks(rotation=50)\n",
    "plt.grid(True)\n",
    "plt.ylabel('solar_part1 Radiation ($W m^{-2}$)',fontsize=14)\n",
    "plt.xlabel('Time',fontsize=14)\n",
    "plt.title('Shortwave Radiation',fontsize=14)"
   ]
  },
  {
   "cell_type": "code",
   "execution_count": 30,
   "metadata": {},
   "outputs": [
    {
     "data": {
      "text/plain": [
       "Text(0.5,1,'Albedo over time')"
      ]
     },
     "execution_count": 30,
     "metadata": {},
     "output_type": "execute_result"
    },
    {
     "data": {
      "image/png": "[encoded data removed]",
      "text/plain": [
       "<Figure size 432x288 with 1 Axes>"
      ]
     },
     "metadata": {},
     "output_type": "display_data"
    }
   ],
   "source": [
    "solar_part1['albedo']=solar_part1['lw_down']/solar_part1['lw_up']\n",
    "plt.plot(solar_part1['time'],solar_part1['albedo'])\n",
    "plt.vlines(speed_times,0.15,0.5,linestyle = '--')\n",
    "plt.ylabel('Albedo',fontsize=14)\n",
    "plt.xlabel('Time',fontsize=14)\n",
    "plt.title('Albedo over time',fontsize=14)"
   ]
  },
  {
   "cell_type": "code",
   "execution_count": 31,
   "metadata": {},
   "outputs": [
    {
     "name": "stdout",
     "output_type": "stream",
     "text": [
      "BARE DESK ALBEDO =  0.26\n",
      "WHITE PAPER ALBEDO =  0.28\n"
     ]
    }
   ],
   "source": [
    "start_date = pd.Timestamp(2020,3,13,11,43,0)\n",
    "end_date = pd.Timestamp(2020,3,13,11,46,30)\n",
    "mask1 = (solar_part1['time'] > start_date) & (solar_part1['time'] <= end_date)\n",
    "bare_desk = solar_part1.loc[mask1]\n",
    "print(\"BARE DESK ALBEDO = \",round(bare_desk['albedo'].mean(),2))\n",
    "\n",
    "start_date = pd.Timestamp(2020,3,13,11,51,0)\n",
    "end_date = pd.Timestamp(2020,3,13,11,54,0)\n",
    "mask2 = (solar_part1['time'] > start_date) & (solar_part1['time'] <= end_date)\n",
    "snow_ground = solar_part1.loc[mask2]\n",
    "print(\"WHITE PAPER ALBEDO = \",round(snow_ground['albedo'].mean(),2))"
   ]
  },
  {
   "cell_type": "markdown",
   "metadata": {},
   "source": [
    "# Download Data Part 2"
   ]
  },
  {
   "cell_type": "code",
   "execution_count": 32,
   "metadata": {},
   "outputs": [
    {
     "data": {
      "text/html": [
       "<div>\n",
       "<style scoped>\n",
       "    .dataframe tbody tr th:only-of-type {\n",
       "        vertical-align: middle;\n",
       "    }\n",
       "\n",
       "    .dataframe tbody tr th {\n",
       "        vertical-align: top;\n",
       "    }\n",
       "\n",
       "    .dataframe thead th {\n",
       "        text-align: right;\n",
       "    }\n",
       "</style>\n",
       "<table border=\"1\" class=\"dataframe\">\n",
       "  <thead>\n",
       "    <tr style=\"text-align: right;\">\n",
       "      <th></th>\n",
       "      <th>time</th>\n",
       "      <th>body_temp_C</th>\n",
       "      <th>therm_temp</th>\n",
       "      <th>targ_temp</th>\n",
       "    </tr>\n",
       "  </thead>\n",
       "  <tbody>\n",
       "    <tr>\n",
       "      <th>214</th>\n",
       "      <td>2020-03-13 12:00:10</td>\n",
       "      <td>22.77</td>\n",
       "      <td>0.016</td>\n",
       "      <td>22.91</td>\n",
       "    </tr>\n",
       "    <tr>\n",
       "      <th>215</th>\n",
       "      <td>2020-03-13 12:00:20</td>\n",
       "      <td>22.78</td>\n",
       "      <td>0.025</td>\n",
       "      <td>23.08</td>\n",
       "    </tr>\n",
       "    <tr>\n",
       "      <th>216</th>\n",
       "      <td>2020-03-13 12:00:30</td>\n",
       "      <td>22.80</td>\n",
       "      <td>0.021</td>\n",
       "      <td>23.04</td>\n",
       "    </tr>\n",
       "    <tr>\n",
       "      <th>217</th>\n",
       "      <td>2020-03-13 12:00:40</td>\n",
       "      <td>22.83</td>\n",
       "      <td>0.020</td>\n",
       "      <td>23.04</td>\n",
       "    </tr>\n",
       "    <tr>\n",
       "      <th>218</th>\n",
       "      <td>2020-03-13 12:00:50</td>\n",
       "      <td>22.87</td>\n",
       "      <td>-0.019</td>\n",
       "      <td>22.40</td>\n",
       "    </tr>\n",
       "  </tbody>\n",
       "</table>\n",
       "</div>"
      ],
      "text/plain": [
       "                   time  body_temp_C  therm_temp  targ_temp\n",
       "214 2020-03-13 12:00:10        22.77       0.016      22.91\n",
       "215 2020-03-13 12:00:20        22.78       0.025      23.08\n",
       "216 2020-03-13 12:00:30        22.80       0.021      23.04\n",
       "217 2020-03-13 12:00:40        22.83       0.020      23.04\n",
       "218 2020-03-13 12:00:50        22.87      -0.019      22.40"
      ]
     },
     "execution_count": 32,
     "metadata": {},
     "output_type": "execute_result"
    }
   ],
   "source": [
    "col_names = ['time','body_temp_C','therm_temp','targ_temp']\n",
    "\n",
    "\"\"\"\n",
    "body_temp is surface body temperature of IR thermometer in deg C\n",
    "voltage output of thermistor in mV\n",
    "therm_temp is target temperature; calculatedby adding the sensor body temperature raised to the fourth power and \n",
    "the mV output multiplied by the slope (m) and the y-intercept(b),then the fourth root of this sum\n",
    "\"\"\"\n",
    "\n",
    "cols=[0,2,3,4]\n",
    "infra = pd.read_csv('deere_CR3000_IRR-P.csv',header=3,names=col_names,usecols=cols,parse_dates=['time'])\n",
    "\n",
    "start_date = pd.Timestamp(2020,3,13,12,0,0)\n",
    "end_date = pd.Timestamp(2020,3,13,12,9,30)\n",
    "mask1 = (infra['time'] > start_date) & (infra['time'] <= end_date)\n",
    "infra = infra.loc[mask1]\n",
    "infra.head()"
   ]
  },
  {
   "cell_type": "code",
   "execution_count": 51,
   "metadata": {},
   "outputs": [],
   "source": [
    "sigma = 5.67*10**(-8)\n",
    "\n",
    "def stefan_boltzman(lw):\n",
    "    \"\"\"\n",
    "    returns temperature in deg C using the Stefan-Boltzman Law \n",
    "    \"\"\"\n",
    "    return ((lw/sigma)**(1/4))-273.15"
   ]
  },
  {
   "cell_type": "code",
   "execution_count": 52,
   "metadata": {},
   "outputs": [
    {
     "data": {
      "text/html": [
       "<div>\n",
       "<style scoped>\n",
       "    .dataframe tbody tr th:only-of-type {\n",
       "        vertical-align: middle;\n",
       "    }\n",
       "\n",
       "    .dataframe tbody tr th {\n",
       "        vertical-align: top;\n",
       "    }\n",
       "\n",
       "    .dataframe thead th {\n",
       "        text-align: right;\n",
       "    }\n",
       "</style>\n",
       "<table border=\"1\" class=\"dataframe\">\n",
       "  <thead>\n",
       "    <tr style=\"text-align: right;\">\n",
       "      <th></th>\n",
       "      <th>time</th>\n",
       "      <th>sw_up</th>\n",
       "      <th>sw_down</th>\n",
       "      <th>lw_up</th>\n",
       "      <th>lw_down</th>\n",
       "      <th>body_temp_C</th>\n",
       "      <th>body_temp_K</th>\n",
       "      <th>tc_lw_up</th>\n",
       "      <th>tc_lw_down</th>\n",
       "      <th>net</th>\n",
       "      <th>sky_temp</th>\n",
       "      <th>g_temp</th>\n",
       "    </tr>\n",
       "  </thead>\n",
       "  <tbody>\n",
       "    <tr>\n",
       "      <th>214</th>\n",
       "      <td>2020-03-13 12:00:10</td>\n",
       "      <td>2.382</td>\n",
       "      <td>0.237</td>\n",
       "      <td>6.921</td>\n",
       "      <td>3.590</td>\n",
       "      <td>22.03</td>\n",
       "      <td>295.2</td>\n",
       "      <td>437.4</td>\n",
       "      <td>434.1</td>\n",
       "      <td>5.476</td>\n",
       "      <td>23.21</td>\n",
       "      <td>22.65</td>\n",
       "    </tr>\n",
       "    <tr>\n",
       "      <th>215</th>\n",
       "      <td>2020-03-13 12:00:20</td>\n",
       "      <td>2.361</td>\n",
       "      <td>0.237</td>\n",
       "      <td>7.276</td>\n",
       "      <td>3.525</td>\n",
       "      <td>22.03</td>\n",
       "      <td>295.2</td>\n",
       "      <td>437.7</td>\n",
       "      <td>434.0</td>\n",
       "      <td>5.875</td>\n",
       "      <td>23.27</td>\n",
       "      <td>22.63</td>\n",
       "    </tr>\n",
       "    <tr>\n",
       "      <th>216</th>\n",
       "      <td>2020-03-13 12:00:30</td>\n",
       "      <td>2.361</td>\n",
       "      <td>0.269</td>\n",
       "      <td>7.341</td>\n",
       "      <td>3.557</td>\n",
       "      <td>22.03</td>\n",
       "      <td>295.2</td>\n",
       "      <td>437.8</td>\n",
       "      <td>434.0</td>\n",
       "      <td>5.875</td>\n",
       "      <td>23.28</td>\n",
       "      <td>22.64</td>\n",
       "    </tr>\n",
       "    <tr>\n",
       "      <th>217</th>\n",
       "      <td>2020-03-13 12:00:40</td>\n",
       "      <td>2.296</td>\n",
       "      <td>0.194</td>\n",
       "      <td>7.654</td>\n",
       "      <td>4.797</td>\n",
       "      <td>22.04</td>\n",
       "      <td>295.2</td>\n",
       "      <td>438.2</td>\n",
       "      <td>435.3</td>\n",
       "      <td>4.959</td>\n",
       "      <td>23.34</td>\n",
       "      <td>22.86</td>\n",
       "    </tr>\n",
       "    <tr>\n",
       "      <th>218</th>\n",
       "      <td>2020-03-13 12:00:50</td>\n",
       "      <td>2.296</td>\n",
       "      <td>0.205</td>\n",
       "      <td>7.481</td>\n",
       "      <td>4.064</td>\n",
       "      <td>22.04</td>\n",
       "      <td>295.2</td>\n",
       "      <td>438.0</td>\n",
       "      <td>434.6</td>\n",
       "      <td>5.509</td>\n",
       "      <td>23.31</td>\n",
       "      <td>22.73</td>\n",
       "    </tr>\n",
       "  </tbody>\n",
       "</table>\n",
       "</div>"
      ],
      "text/plain": [
       "                   time  sw_up  sw_down  lw_up  lw_down  body_temp_C  \\\n",
       "214 2020-03-13 12:00:10  2.382    0.237  6.921    3.590        22.03   \n",
       "215 2020-03-13 12:00:20  2.361    0.237  7.276    3.525        22.03   \n",
       "216 2020-03-13 12:00:30  2.361    0.269  7.341    3.557        22.03   \n",
       "217 2020-03-13 12:00:40  2.296    0.194  7.654    4.797        22.04   \n",
       "218 2020-03-13 12:00:50  2.296    0.205  7.481    4.064        22.04   \n",
       "\n",
       "     body_temp_K  tc_lw_up  tc_lw_down    net  sky_temp  g_temp  \n",
       "214        295.2     437.4       434.1  5.476     23.21   22.65  \n",
       "215        295.2     437.7       434.0  5.875     23.27   22.63  \n",
       "216        295.2     437.8       434.0  5.875     23.28   22.64  \n",
       "217        295.2     438.2       435.3  4.959     23.34   22.86  \n",
       "218        295.2     438.0       434.6  5.509     23.31   22.73  "
      ]
     },
     "execution_count": 52,
     "metadata": {},
     "output_type": "execute_result"
    }
   ],
   "source": [
    "solar_part2.head()"
   ]
  },
  {
   "cell_type": "markdown",
   "metadata": {},
   "source": [
    "#### Plot estimated ground temp from upwelling longwave\n",
    "(assume ground is a blackbody)"
   ]
  },
  {
   "cell_type": "code",
   "execution_count": 56,
   "metadata": {},
   "outputs": [],
   "source": [
    "solar_part2['ground_temp_calc']=stefan_boltzman(solar_part2['tc_lw_down'])"
   ]
  },
  {
   "cell_type": "code",
   "execution_count": 63,
   "metadata": {},
   "outputs": [
    {
     "data": {
      "text/plain": [
       "Text(0.5,1,'Albedo over time')"
      ]
     },
     "execution_count": 63,
     "metadata": {},
     "output_type": "execute_result"
    },
    {
     "data": {
      "image/png": "[encoded data removed]",
      "text/plain": [
       "<Figure size 432x288 with 1 Axes>"
      ]
     },
     "metadata": {},
     "output_type": "display_data"
    }
   ],
   "source": [
    "plt.plot(solar_part2['time'],solar_part2['ground_temp_calc'])\n",
    "plt.ylabel('Temperature ($^{\\circ} C$)',fontsize=14)\n",
    "plt.xlabel('Time',fontsize=14)\n",
    "plt.xticks(rotation=50)\n",
    "plt.title('Albedo over time',fontsize=14)"
   ]
  },
  {
   "cell_type": "code",
   "execution_count": null,
   "metadata": {},
   "outputs": [],
   "source": []
  }
 ],
 "metadata": {
  "kernelspec": {
   "display_name": "Python 3",
   "language": "python",
   "name": "python3"
  },
  "language_info": {
   "codemirror_mode": {
    "name": "ipython",
    "version": 3
   },
   "file_extension": ".py",
   "mimetype": "text/x-python",
   "name": "python",
   "nbconvert_exporter": "python",
   "pygments_lexer": "ipython3",
   "version": "3.7.3"
  }
 },
 "nbformat": 4,
 "nbformat_minor": 2
}
