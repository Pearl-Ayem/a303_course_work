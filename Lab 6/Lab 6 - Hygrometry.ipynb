{
 "cells": [
  {
   "cell_type": "code",
   "execution_count": 5,
   "metadata": {},
   "outputs": [],
   "source": [
    "import numpy as np\n",
    "import pandas as pd\n",
    "import matplotlib.pyplot as plt\n",
    "# from scipy.stats import linregress"
   ]
  },
  {
   "cell_type": "code",
   "execution_count": 6,
   "metadata": {},
   "outputs": [],
   "source": [
    "filename='lab6Ribberink_Deere_Macadam_Schmidt_Ng_Ayem.csv'\n",
    "headers=['time','temp','rh']\n",
    "dtypes = ['datetime', 'float','float']\n",
    "df = pd.read_csv(filename,names=headers, usecols = [0,3,4],header=3)"
   ]
  },
  {
   "cell_type": "code",
   "execution_count": 7,
   "metadata": {},
   "outputs": [],
   "source": [
    "df = df.set_index('time')\n",
    "time_dry = df['2020-02-14 11:26:00': '2020-02-14 11:29:00']\n",
    "time_amb=df['2020-02-14 11:35:00': '2020-02-14 11:39:00']\n",
    "time_hum=df['2020-02-14 11:41:30': '2020-02-14 11:44:30']\n",
    "\n",
    "all_times=[time_dry,time_amb,time_hum]\n",
    "df_clean=pd.concat(all_times)\n",
    "df.reset_index(inplace=True)\n",
    "time_dry.reset_index(inplace=True)\n",
    "time_amb.reset_index(inplace=True)\n",
    "time_hum.reset_index(inplace=True)\n",
    "df_clean.reset_index(inplace=True)"
   ]
  },
  {
   "cell_type": "code",
   "execution_count": 11,
   "metadata": {},
   "outputs": [
    {
     "data": {
      "text/plain": [
       "<matplotlib.axes._subplots.AxesSubplot at 0x27c1dd3cda0>"
      ]
     },
     "execution_count": 11,
     "metadata": {},
     "output_type": "execute_result"
    },
    {
     "data": {
      "image/png": "[encoded data removed]",
      "text/plain": [
       "<Figure size 432x288 with 1 Axes>"
      ]
     },
     "metadata": {
      "needs_background": "light"
     },
     "output_type": "display_data"
    }
   ],
   "source": [
    "df_clean.plot(x='time',y='rh')\n",
    "# multiple line plot\n",
    "plt.style.use('seaborn-darkgrid')\n",
    "df_clean.plot(x='time',y=['Tdiff','calibrated_T'],legend=True)\n",
    "plt.xticks(rotation=50)\n",
    "plt.ylabel('Voltage Output')\n",
    "plt.xlabel('Time')\n",
    "plt.title('Dynamic performance - Only Stable times')"
   ]
  },
  {
   "cell_type": "code",
   "execution_count": null,
   "metadata": {},
   "outputs": [],
   "source": []
  }
 ],
 "metadata": {
  "kernelspec": {
   "display_name": "Python 3",
   "language": "python",
   "name": "python3"
  },
  "language_info": {
   "codemirror_mode": {
    "name": "ipython",
    "version": 3
   },
   "file_extension": ".py",
   "mimetype": "text/x-python",
   "name": "python",
   "nbconvert_exporter": "python",
   "pygments_lexer": "ipython3",
   "version": "3.7.3"
  }
 },
 "nbformat": 4,
 "nbformat_minor": 2
}
