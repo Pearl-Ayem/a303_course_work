{
 "cells": [
  {
   "cell_type": "code",
   "execution_count": 19,
   "metadata": {},
   "outputs": [],
   "source": [
    "from pathlib import Path\n",
    "import pprint\n",
    "import matplotlib.pyplot as plt\n",
    "import pandas as pd"
   ]
  },
  {
   "cell_type": "markdown",
   "metadata": {},
   "source": [
    "## Download Group Data as Dataframe"
   ]
  },
  {
   "cell_type": "code",
   "execution_count": 20,
   "metadata": {},
   "outputs": [],
   "source": [
    "col_names=[\"TIMESTAMP\",\"Batt_Volt_Min\",\"temp_2_Avg\",\"temp_3_Avg\",\"volt_2_Avg\",\"volt_3_Avg\"]\n",
    "df = pd.read_csv('lab1_1305_1336_ko.dat', \n",
    "                 sep=\",\", \n",
    "                 skiprows=4,\n",
    "                 usecols=[0,2,4,5,10,11],\n",
    "                 names=col_names)"
   ]
  },
  {
   "cell_type": "markdown",
   "metadata": {},
   "source": [
    "## Create plot for purple wire"
   ]
  },
  {
   "cell_type": "code",
   "execution_count": null,
   "metadata": {},
   "outputs": [],
   "source": [
    "df.plot(kind='scatter',x='temp_2_Avg',y='volt_2_Avg',color='red')\n",
    "plt.title('Voltage VS Temperature of Purple Wire')\n",
    "plt.xlabel('Temperature ($^\\circ$C)')\n",
    "plt.ylabel('Voltage (V)')\n",
    "plt.show()"
   ]
  }
 ],
 "metadata": {
  "kernelspec": {
   "display_name": "Python 3",
   "language": "python",
   "name": "python3"
  },
  "language_info": {
   "codemirror_mode": {
    "name": "ipython",
    "version": 3
   },
   "file_extension": ".py",
   "mimetype": "text/x-python",
   "name": "python",
   "nbconvert_exporter": "python",
   "pygments_lexer": "ipython3",
   "version": "3.7.3"
  }
 },
 "nbformat": 4,
 "nbformat_minor": 2
}
