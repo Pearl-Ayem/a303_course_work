{
 "cells": [
  {
   "cell_type": "code",
   "execution_count": 1,
   "metadata": {},
   "outputs": [],
   "source": [
    "import numpy as np\n",
    "import pandas as pd\n",
    "import collections\n",
    "import matplotlib.pyplot as plt\n",
    "from scipy.stats import linregress\n",
    "import math\n",
    "from datetime import datetime\n",
    "import warnings\n",
    "warnings.filterwarnings('ignore')\n",
    "from numpy import trapz\n",
    "plt.style.use('seaborn-darkgrid')"
   ]
  },
  {
   "cell_type": "code",
   "execution_count": 2,
   "metadata": {},
   "outputs": [],
   "source": [
    "sonic = pd.read_csv('sonic.csv',header=3,names=['time','u','v','w','temp'])"
   ]
  },
  {
   "cell_type": "code",
   "execution_count": 3,
   "metadata": {},
   "outputs": [],
   "source": [
    "# fig, ax1 = plt.subplots(figsize=(20,15))\n",
    "# # fig = plt.figure(figsize=(10,5))\n",
    "\n",
    "# color = 'tab:red'\n",
    "# ax1.set_xlabel('Time(s) starting at 13:00 Portugal Local time DOY 193, 2003')\n",
    "# ax1.set_ylabel('Wind Speed ($m s^{-1}$)', color=color)\n",
    "# ax1.plot(sonic['time'], sonic['u'],linewidth=1)\n",
    "# ax1.plot(sonic['time'], sonic['v'],linewidth=1)\n",
    "# ax1.plot(sonic['time'], sonic['w'],linewidth=1)\n",
    "# ax1.tick_params(axis='y', labelcolor=color)\n",
    "# ax2 = ax1.twinx()  # instantiate a second axes that shares the same x-axis\n",
    "\n",
    "# color = 'tab:blue'\n",
    "# ax2.set_ylabel('Temperature ($\\circ C$)', color=color)  # we already handled the x-label with ax1\n",
    "# ax2.plot(sonic['time'], sonic['temp'])\n",
    "# ax2.tick_params(axis='y', labelcolor=color)\n",
    "# fig.legend(['U','V','W','Temp'])\n",
    "\n",
    "\n",
    "\n",
    "\n",
    "# plt.title('Timeseries of turbulence measurements over a cork oak plantation')"
   ]
  },
  {
   "cell_type": "code",
   "execution_count": 4,
   "metadata": {},
   "outputs": [
    {
     "name": "stdout",
     "output_type": "stream",
     "text": [
      "Average U is  2.4258988888888884\n",
      "Average V is  -1.2517449999999999\n",
      "Average W is  -0.09672944444444448\n",
      "Average TEMP is  28.49176611111111\n"
     ]
    }
   ],
   "source": [
    "mean_u=sonic['u'].mean()\n",
    "mean_v=sonic['v'].mean()\n",
    "mean_w=sonic['w'].mean()\n",
    "mean_temp=sonic['temp'].mean()\n",
    "\n",
    "print(\"Average U is \", mean_u)\n",
    "print(\"Average V is \", mean_v)\n",
    "print(\"Average W is \", mean_w)\n",
    "print(\"Average TEMP is \", mean_temp)"
   ]
  },
  {
   "cell_type": "code",
   "execution_count": 5,
   "metadata": {},
   "outputs": [],
   "source": [
    "sonic['u_prime']=sonic['u']-mean_u\n",
    "sonic['v_prime']=sonic['v']-mean_v\n",
    "sonic['w_prime']=sonic['w']-mean_w\n",
    "sonic['t_prime']=sonic['temp']-mean_temp"
   ]
  },
  {
   "cell_type": "code",
   "execution_count": 6,
   "metadata": {},
   "outputs": [
    {
     "data": {
      "text/html": [
       "<div>\n",
       "<style scoped>\n",
       "    .dataframe tbody tr th:only-of-type {\n",
       "        vertical-align: middle;\n",
       "    }\n",
       "\n",
       "    .dataframe tbody tr th {\n",
       "        vertical-align: top;\n",
       "    }\n",
       "\n",
       "    .dataframe thead th {\n",
       "        text-align: right;\n",
       "    }\n",
       "</style>\n",
       "<table border=\"1\" class=\"dataframe\">\n",
       "  <thead>\n",
       "    <tr style=\"text-align: right;\">\n",
       "      <th></th>\n",
       "      <th>time</th>\n",
       "      <th>u</th>\n",
       "      <th>v</th>\n",
       "      <th>w</th>\n",
       "      <th>temp</th>\n",
       "      <th>u_prime</th>\n",
       "      <th>v_prime</th>\n",
       "      <th>w_prime</th>\n",
       "      <th>t_prime</th>\n",
       "    </tr>\n",
       "  </thead>\n",
       "  <tbody>\n",
       "    <tr>\n",
       "      <th>0</th>\n",
       "      <td>0.00</td>\n",
       "      <td>4.57</td>\n",
       "      <td>-1.05</td>\n",
       "      <td>-0.17</td>\n",
       "      <td>27.58</td>\n",
       "      <td>2.144101</td>\n",
       "      <td>0.201745</td>\n",
       "      <td>-0.073271</td>\n",
       "      <td>-0.911766</td>\n",
       "    </tr>\n",
       "    <tr>\n",
       "      <th>1</th>\n",
       "      <td>0.05</td>\n",
       "      <td>4.49</td>\n",
       "      <td>-1.07</td>\n",
       "      <td>-0.21</td>\n",
       "      <td>27.49</td>\n",
       "      <td>2.064101</td>\n",
       "      <td>0.181745</td>\n",
       "      <td>-0.113271</td>\n",
       "      <td>-1.001766</td>\n",
       "    </tr>\n",
       "    <tr>\n",
       "      <th>2</th>\n",
       "      <td>0.10</td>\n",
       "      <td>4.58</td>\n",
       "      <td>-0.98</td>\n",
       "      <td>-0.47</td>\n",
       "      <td>27.41</td>\n",
       "      <td>2.154101</td>\n",
       "      <td>0.271745</td>\n",
       "      <td>-0.373271</td>\n",
       "      <td>-1.081766</td>\n",
       "    </tr>\n",
       "    <tr>\n",
       "      <th>3</th>\n",
       "      <td>0.15</td>\n",
       "      <td>4.58</td>\n",
       "      <td>-1.06</td>\n",
       "      <td>-0.35</td>\n",
       "      <td>27.47</td>\n",
       "      <td>2.154101</td>\n",
       "      <td>0.191745</td>\n",
       "      <td>-0.253271</td>\n",
       "      <td>-1.021766</td>\n",
       "    </tr>\n",
       "    <tr>\n",
       "      <th>4</th>\n",
       "      <td>0.20</td>\n",
       "      <td>4.52</td>\n",
       "      <td>-1.07</td>\n",
       "      <td>-0.39</td>\n",
       "      <td>27.46</td>\n",
       "      <td>2.094101</td>\n",
       "      <td>0.181745</td>\n",
       "      <td>-0.293271</td>\n",
       "      <td>-1.031766</td>\n",
       "    </tr>\n",
       "  </tbody>\n",
       "</table>\n",
       "</div>"
      ],
      "text/plain": [
       "   time     u     v     w   temp   u_prime   v_prime   w_prime   t_prime\n",
       "0  0.00  4.57 -1.05 -0.17  27.58  2.144101  0.201745 -0.073271 -0.911766\n",
       "1  0.05  4.49 -1.07 -0.21  27.49  2.064101  0.181745 -0.113271 -1.001766\n",
       "2  0.10  4.58 -0.98 -0.47  27.41  2.154101  0.271745 -0.373271 -1.081766\n",
       "3  0.15  4.58 -1.06 -0.35  27.47  2.154101  0.191745 -0.253271 -1.021766\n",
       "4  0.20  4.52 -1.07 -0.39  27.46  2.094101  0.181745 -0.293271 -1.031766"
      ]
     },
     "execution_count": 6,
     "metadata": {},
     "output_type": "execute_result"
    }
   ],
   "source": [
    "sonic.head()"
   ]
  },
  {
   "cell_type": "code",
   "execution_count": 7,
   "metadata": {},
   "outputs": [],
   "source": [
    "# fig,ax1,ax2,ax3,ax4=plt.subplots(2,2)\n",
    "\n",
    "# fig, ax = plt.subplots(2,2,figsize=(15,15))\n",
    "\n",
    "# # ax[1].plot(sonic['time'],sonic['u_prime'])\n",
    "# # ax[2].plot(sonic['time'],sonic['v_prime'])\n",
    "# # ax[3].plot(sonic['time'],sonic['w_prime'])\n",
    "# # ax[4].plot(sonic['time'],sonic['t_prime'])\n",
    "\n"
   ]
  },
  {
   "cell_type": "code",
   "execution_count": 8,
   "metadata": {},
   "outputs": [
    {
     "name": "stdout",
     "output_type": "stream",
     "text": [
      "Average U' is  2.4259\n",
      "Average V' is  -1.2517\n",
      "Average W' is  -0.0967\n",
      "Average T' is  28.4918\n"
     ]
    }
   ],
   "source": [
    "mean_prime_u=sonic['u_prime'].mean()\n",
    "mean_prime_v=sonic['v_prime'].mean()\n",
    "mean_prime_w=sonic['w_prime'].mean()\n",
    "mean_prime_temp=sonic['t_prime'].mean()\n",
    "\n",
    "print(\"Average U' is \", round(mean_u,4))\n",
    "print(\"Average V' is \", round(mean_v,4))\n",
    "print(\"Average W' is \", round(mean_w,4))\n",
    "print(\"Average T' is \", round(mean_temp,4))"
   ]
  },
  {
   "cell_type": "code",
   "execution_count": 9,
   "metadata": {},
   "outputs": [],
   "source": [
    "sonic['var_u'] = sonic['u_prime']**2\n",
    "sonic['var_v'] = sonic['v_prime']**2\n",
    "sonic['var_w'] = sonic['w_prime']**2\n",
    "sonic['var_t'] = sonic['t_prime']**2"
   ]
  },
  {
   "cell_type": "code",
   "execution_count": 10,
   "metadata": {},
   "outputs": [
    {
     "name": "stdout",
     "output_type": "stream",
     "text": [
      "Variance of U is  1.8589\n",
      "Variance of V is  1.7282\n",
      "Variance of W is  0.4779\n",
      "Variance of T is  0.7337\n"
     ]
    }
   ],
   "source": [
    "u_var=sonic['var_u'].mean()\n",
    "v_var=sonic['var_v'].mean()\n",
    "w_var=sonic['var_w'].mean()\n",
    "t_var=sonic['var_t'].mean()\n",
    "\n",
    "print(\"Variance of U is \", round(u_var,4))\n",
    "print(\"Variance of V is \", round(v_var,4))\n",
    "print(\"Variance of W is \", round(w_var,4))\n",
    "print(\"Variance of T is \", round(t_var,4))"
   ]
  },
  {
   "cell_type": "code",
   "execution_count": 11,
   "metadata": {},
   "outputs": [
    {
     "name": "stdout",
     "output_type": "stream",
     "text": [
      "TKE is 2.0325195279978394\n"
     ]
    }
   ],
   "source": [
    "TKE = (0.5)*(u_var+v_var+w_var)\n",
    "print('TKE is' , TKE)"
   ]
  },
  {
   "cell_type": "code",
   "execution_count": 12,
   "metadata": {},
   "outputs": [
    {
     "name": "stdout",
     "output_type": "stream",
     "text": [
      "Turbulent Intensity of U is 0.4016\n",
      "Turbulent Intensity of V is 0.3872\n",
      "Turbulent Intensity of W is 0.2036\n"
     ]
    }
   ],
   "source": [
    "usqr=sonic['u']**2\n",
    "vsqr=sonic['v']**2\n",
    "wsqr=sonic['w']**2\n",
    "\n",
    "M = np.sqrt(usqr.mean()+vsqr.mean()+wsqr.mean())\n",
    "turb_intensity_u=np.sqrt(u_var)/M\n",
    "turb_intensity_v=np.sqrt(v_var)/M\n",
    "turb_intensity_w=np.sqrt(w_var)/M\n",
    "# turb_intensity_temp=np.sqrt(t_var)/M\n",
    "\n",
    "print(\"Turbulent Intensity of U is\", round(turb_intensity_u,4))\n",
    "print(\"Turbulent Intensity of V is\", round(turb_intensity_v,4))\n",
    "print(\"Turbulent Intensity of W is\", round(turb_intensity_w,4))\n",
    "# print(\"Turbulent Intensity of T is\", round(turb_intensity_temp,4))"
   ]
  },
  {
   "cell_type": "code",
   "execution_count": 13,
   "metadata": {},
   "outputs": [],
   "source": [
    "sonic['uprime_wprime'] = sonic['u_prime']*sonic['w_prime']\n",
    "sonic['vprime_wprime'] = sonic['v_prime']*sonic['w_prime']\n",
    "sonic['tprime_wprime'] = sonic['t_prime']*sonic['w_prime']"
   ]
  },
  {
   "cell_type": "code",
   "execution_count": 14,
   "metadata": {},
   "outputs": [
    {
     "name": "stdout",
     "output_type": "stream",
     "text": [
      "Average U'W' is  -0.2848\n",
      "Average V'W' is  0.1021\n",
      "Average T'W' is  0.3086\n"
     ]
    }
   ],
   "source": [
    "uw_covar=sonic['uprime_wprime'].mean()\n",
    "vw_covar=sonic['vprime_wprime'].mean()\n",
    "tw_covar=sonic['tprime_wprime'].mean()\n",
    "\n",
    "print(\"Average U'W' is \", round(uw_covar,4))\n",
    "print(\"Average V'W' is \", round(vw_covar,4))\n",
    "print(\"Average T'W' is \", round(tw_covar,4))\n"
   ]
  },
  {
   "cell_type": "code",
   "execution_count": null,
   "metadata": {},
   "outputs": [],
   "source": [
    "Cp=1004.67    # J/(kgK).\n",
    "rho= 1        # kg/m3\n",
    "heat_flux= rho*Cp*tw_covar\n",
    "print(\"Turbulent Heat Flux is\", round(heat_flux,4))\n",
    "\n",
    "# stresses=turbulent_heat_flux/(1004.67)\n",
    "stresses=(-1*rho)*sonic['tprime_wprime']\n",
    "stresses"
   ]
  },
  {
   "cell_type": "code",
   "execution_count": null,
   "metadata": {},
   "outputs": [],
   "source": []
  }
 ],
 "metadata": {
  "kernelspec": {
   "display_name": "Python 3",
   "language": "python",
   "name": "python3"
  },
  "language_info": {
   "codemirror_mode": {
    "name": "ipython",
    "version": 3
   },
   "file_extension": ".py",
   "mimetype": "text/x-python",
   "name": "python",
   "nbconvert_exporter": "python",
   "pygments_lexer": "ipython3",
   "version": "3.7.3"
  }
 },
 "nbformat": 4,
 "nbformat_minor": 2
}
